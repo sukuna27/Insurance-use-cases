{
 "cells": [
  {
   "cell_type": "code",
   "execution_count": 1,
   "metadata": {},
   "outputs": [],
   "source": [
    "import pandas as pd\n",
    "import numpy as np\n",
    "import seaborn as sns\n",
    "import matplotlib.pyplot as plt"
   ]
  },
  {
   "cell_type": "code",
   "execution_count": 2,
   "metadata": {},
   "outputs": [],
   "source": [
    "#Configurations\n",
    "file_path=r'C:\\Users\\Admin\\insurance_charges_claim_prediction.xlsx'\n",
    "col_list=['age','sex','bmi','steps','children','smoker','region','charges','insuranceclaim']"
   ]
  },
  {
   "cell_type": "code",
   "execution_count": 3,
   "metadata": {},
   "outputs": [
    {
     "data": {
      "text/html": [
       "<div>\n",
       "<style scoped>\n",
       "    .dataframe tbody tr th:only-of-type {\n",
       "        vertical-align: middle;\n",
       "    }\n",
       "\n",
       "    .dataframe tbody tr th {\n",
       "        vertical-align: top;\n",
       "    }\n",
       "\n",
       "    .dataframe thead th {\n",
       "        text-align: right;\n",
       "    }\n",
       "</style>\n",
       "<table border=\"1\" class=\"dataframe\">\n",
       "  <thead>\n",
       "    <tr style=\"text-align: right;\">\n",
       "      <th></th>\n",
       "      <th>age</th>\n",
       "      <th>sex</th>\n",
       "      <th>bmi</th>\n",
       "      <th>steps</th>\n",
       "      <th>children</th>\n",
       "      <th>smoker</th>\n",
       "      <th>region</th>\n",
       "      <th>charges</th>\n",
       "      <th>insuranceclaim</th>\n",
       "    </tr>\n",
       "  </thead>\n",
       "  <tbody>\n",
       "    <tr>\n",
       "      <th>0</th>\n",
       "      <td>19</td>\n",
       "      <td>0</td>\n",
       "      <td>27.900</td>\n",
       "      <td>3009</td>\n",
       "      <td>0</td>\n",
       "      <td>1</td>\n",
       "      <td>3</td>\n",
       "      <td>16884.92400</td>\n",
       "      <td>1</td>\n",
       "    </tr>\n",
       "    <tr>\n",
       "      <th>1</th>\n",
       "      <td>18</td>\n",
       "      <td>1</td>\n",
       "      <td>33.770</td>\n",
       "      <td>3008</td>\n",
       "      <td>1</td>\n",
       "      <td>0</td>\n",
       "      <td>2</td>\n",
       "      <td>1725.55230</td>\n",
       "      <td>1</td>\n",
       "    </tr>\n",
       "    <tr>\n",
       "      <th>2</th>\n",
       "      <td>28</td>\n",
       "      <td>1</td>\n",
       "      <td>33.000</td>\n",
       "      <td>3009</td>\n",
       "      <td>3</td>\n",
       "      <td>0</td>\n",
       "      <td>2</td>\n",
       "      <td>4449.46200</td>\n",
       "      <td>0</td>\n",
       "    </tr>\n",
       "    <tr>\n",
       "      <th>3</th>\n",
       "      <td>33</td>\n",
       "      <td>1</td>\n",
       "      <td>22.705</td>\n",
       "      <td>10009</td>\n",
       "      <td>0</td>\n",
       "      <td>0</td>\n",
       "      <td>1</td>\n",
       "      <td>21984.47061</td>\n",
       "      <td>0</td>\n",
       "    </tr>\n",
       "    <tr>\n",
       "      <th>4</th>\n",
       "      <td>32</td>\n",
       "      <td>1</td>\n",
       "      <td>28.880</td>\n",
       "      <td>8010</td>\n",
       "      <td>0</td>\n",
       "      <td>0</td>\n",
       "      <td>1</td>\n",
       "      <td>3866.85520</td>\n",
       "      <td>1</td>\n",
       "    </tr>\n",
       "  </tbody>\n",
       "</table>\n",
       "</div>"
      ],
      "text/plain": [
       "   age  sex     bmi  steps  children  smoker  region      charges  \\\n",
       "0   19    0  27.900   3009         0       1       3  16884.92400   \n",
       "1   18    1  33.770   3008         1       0       2   1725.55230   \n",
       "2   28    1  33.000   3009         3       0       2   4449.46200   \n",
       "3   33    1  22.705  10009         0       0       1  21984.47061   \n",
       "4   32    1  28.880   8010         0       0       1   3866.85520   \n",
       "\n",
       "   insuranceclaim  \n",
       "0               1  \n",
       "1               1  \n",
       "2               0  \n",
       "3               0  \n",
       "4               1  "
      ]
     },
     "execution_count": 3,
     "metadata": {},
     "output_type": "execute_result"
    }
   ],
   "source": [
    "#Read the input file\n",
    "df=pd.read_excel(file_path)\n",
    "df.head()"
   ]
  },
  {
   "cell_type": "code",
   "execution_count": 5,
   "metadata": {},
   "outputs": [
    {
     "name": "stdout",
     "output_type": "stream",
     "text": [
      "age               0\n",
      "sex               0\n",
      "bmi               0\n",
      "steps             0\n",
      "children          0\n",
      "smoker            0\n",
      "region            0\n",
      "charges           0\n",
      "insuranceclaim    0\n",
      "dtype: int64\n"
     ]
    }
   ],
   "source": [
    "#Create a copy of data to work with\n",
    "customer_data=df.copy()\n",
    "\n",
    "print(customer_data.isnull().sum())"
   ]
  },
  {
   "cell_type": "code",
   "execution_count": 6,
   "metadata": {},
   "outputs": [
    {
     "data": {
      "text/plain": [
       "9"
      ]
     },
     "execution_count": 6,
     "metadata": {},
     "output_type": "execute_result"
    }
   ],
   "source": [
    "customer_data.columns.size"
   ]
  },
  {
   "cell_type": "code",
   "execution_count": 7,
   "metadata": {},
   "outputs": [
    {
     "data": {
      "text/plain": [
       "Index(['age', 'sex', 'bmi', 'steps', 'children', 'smoker', 'region', 'charges',\n",
       "       'insuranceclaim'],\n",
       "      dtype='object')"
      ]
     },
     "execution_count": 7,
     "metadata": {},
     "output_type": "execute_result"
    }
   ],
   "source": [
    "customer_data.select_dtypes(include='number').columns"
   ]
  },
  {
   "cell_type": "markdown",
   "metadata": {},
   "source": [
    "All columns are numeric in nature."
   ]
  },
  {
   "cell_type": "markdown",
   "metadata": {},
   "source": [
    "The objective of this analysis is to determine the characteristics of people with high individual medical costs billed by health insurane.Also with the characteristics we have to identify if the person will make a health insurance claim."
   ]
  },
  {
   "cell_type": "markdown",
   "metadata": {},
   "source": [
    "# Step1:Analyze each column wrt charges, to identify characteristics of people with maximum claim amount."
   ]
  },
  {
   "cell_type": "code",
   "execution_count": 8,
   "metadata": {},
   "outputs": [
    {
     "name": "stdout",
     "output_type": "stream",
     "text": [
      "63770.42801\n",
      "1121.8739\n"
     ]
    }
   ],
   "source": [
    "#Lets find the maximum charge claimed by insurance\n",
    "print(customer_data[col_list[7]].max())\n",
    "print(customer_data[col_list[7]].min())"
   ]
  },
  {
   "cell_type": "code",
   "execution_count": 9,
   "metadata": {},
   "outputs": [],
   "source": [
    "from more_itertools import numeric_range"
   ]
  },
  {
   "cell_type": "code",
   "execution_count": 10,
   "metadata": {},
   "outputs": [],
   "source": [
    "def calc_range(colName):\n",
    "    min_value=np.round(customer_data[colName].min(),2)\n",
    "    max_value=np.round(customer_data[colName].max(),2)\n",
    "    value_range = max_value - min_value\n",
    "    \n",
    "    # let's round the bin width\n",
    "    inter_value = np.round(value_range/10,2)\n",
    "    \n",
    "    #more_itertools.numeric_range(start, stop, step)\n",
    "    intervals = [i for i in np.round(numeric_range(min_value, max_value+inter_value, inter_value),2)]\n",
    "    return intervals"
   ]
  },
  {
   "cell_type": "code",
   "execution_count": 11,
   "metadata": {},
   "outputs": [],
   "source": [
    "#discretisation of charges column for further analysis\n",
    "intervals=calc_range(col_list[7])\n",
    "customer_data['charges_disc'] = pd.cut(x = customer_data['charges'], bins=intervals, include_lowest=True)\n"
   ]
  },
  {
   "cell_type": "code",
   "execution_count": 12,
   "metadata": {},
   "outputs": [],
   "source": [
    "##Comparing age column with charges column\n",
    "intervals=calc_range(col_list[0])\n",
    "customer_data['age_disc'] = pd.cut(x = customer_data[col_list[0]], bins=intervals, include_lowest=True)"
   ]
  },
  {
   "cell_type": "code",
   "execution_count": 13,
   "metadata": {},
   "outputs": [
    {
     "data": {
      "text/plain": [
       "<AxesSubplot:xlabel='age_disc', ylabel='charges'>"
      ]
     },
     "execution_count": 13,
     "metadata": {},
     "output_type": "execute_result"
    },
    {
     "data": {
      "image/png": "[encoded data removed]",
      "text/plain": [
       "<Figure size 432x288 with 1 Axes>"
      ]
     },
     "metadata": {
      "needs_background": "light"
     },
     "output_type": "display_data"
    }
   ],
   "source": [
    "plt.xticks(rotation=90)\n",
    "sns.barplot(x='age_disc',y='charges',data=customer_data)"
   ]
  },
  {
   "cell_type": "markdown",
   "metadata": {},
   "source": [
    "As we can clearly see charges increase with age.Age greater than 40 has higher amount of charges claimed."
   ]
  },
  {
   "cell_type": "code",
   "execution_count": 14,
   "metadata": {},
   "outputs": [
    {
     "data": {
      "text/plain": [
       "<AxesSubplot:xlabel='sex', ylabel='charges'>"
      ]
     },
     "execution_count": 14,
     "metadata": {},
     "output_type": "execute_result"
    },
    {
     "data": {
      "image/png": "[encoded data removed]",
      "text/plain": [
       "<Figure size 432x288 with 1 Axes>"
      ]
     },
     "metadata": {
      "needs_background": "light"
     },
     "output_type": "display_data"
    }
   ],
   "source": [
    "##Comparing sex column with charges column\n",
    "sns.barplot(x='sex',y='charges',data=customer_data)"
   ]
  },
  {
   "cell_type": "markdown",
   "metadata": {},
   "source": [
    "Male customers have slightly higher claim charges compared to female customers."
   ]
  },
  {
   "cell_type": "code",
   "execution_count": 55,
   "metadata": {},
   "outputs": [],
   "source": [
    "##Comparing bmi column with charges column\n",
    "intervals=calc_range(col_list[2])\n",
    "customer_data['bmi_disc'] = pd.cut(x = customer_data[col_list[2]], bins=intervals, include_lowest=True)"
   ]
  },
  {
   "cell_type": "code",
   "execution_count": 54,
   "metadata": {},
   "outputs": [],
   "source": [
    "customer_data['bmi']=np.round(customer_data['bmi'])"
   ]
  },
  {
   "cell_type": "code",
   "execution_count": 56,
   "metadata": {},
   "outputs": [
    {
     "data": {
      "text/plain": [
       "<AxesSubplot:xlabel='bmi_disc', ylabel='charges'>"
      ]
     },
     "execution_count": 56,
     "metadata": {},
     "output_type": "execute_result"
    },
    {
     "data": {
      "image/png": "[encoded data removed]",
      "text/plain": [
       "<Figure size 432x288 with 1 Axes>"
      ]
     },
     "metadata": {
      "needs_background": "light"
     },
     "output_type": "display_data"
    }
   ],
   "source": [
    "plt.xticks(rotation=90)\n",
    "sns.barplot(x='bmi_disc',y='charges',data=customer_data)"
   ]
  },
  {
   "cell_type": "markdown",
   "metadata": {},
   "source": [
    "BMI greater than 42 has higher claim charges."
   ]
  },
  {
   "cell_type": "code",
   "execution_count": 17,
   "metadata": {},
   "outputs": [],
   "source": [
    "intervals=calc_range(col_list[3])\n",
    "customer_data['steps_disc'] = pd.cut(x = customer_data[col_list[3]], bins=intervals, include_lowest=True)"
   ]
  },
  {
   "cell_type": "code",
   "execution_count": 18,
   "metadata": {},
   "outputs": [
    {
     "data": {
      "text/plain": [
       "<AxesSubplot:xlabel='steps_disc', ylabel='charges'>"
      ]
     },
     "execution_count": 18,
     "metadata": {},
     "output_type": "execute_result"
    },
    {
     "data": {
      "image/png": "[encoded data removed]",
      "text/plain": [
       "<Figure size 432x288 with 1 Axes>"
      ]
     },
     "metadata": {
      "needs_background": "light"
     },
     "output_type": "display_data"
    }
   ],
   "source": [
    "plt.xticks(rotation=90)\n",
    "sns.barplot(x='steps_disc',y='charges',data=customer_data)"
   ]
  },
  {
   "cell_type": "markdown",
   "metadata": {},
   "source": [
    "We can see that when the steps is less than 5000, claim is high."
   ]
  },
  {
   "cell_type": "code",
   "execution_count": 19,
   "metadata": {},
   "outputs": [
    {
     "data": {
      "text/plain": [
       "<AxesSubplot:xlabel='children', ylabel='charges'>"
      ]
     },
     "execution_count": 19,
     "metadata": {},
     "output_type": "execute_result"
    },
    {
     "data": {
      "image/png": "[encoded data removed]",
      "text/plain": [
       "<Figure size 432x288 with 1 Axes>"
      ]
     },
     "metadata": {
      "needs_background": "light"
     },
     "output_type": "display_data"
    }
   ],
   "source": [
    "sns.barplot(x='children',y='charges',data=customer_data)"
   ]
  },
  {
   "cell_type": "markdown",
   "metadata": {},
   "source": [
    "Children 2 3 and 4 category have higher claim charges."
   ]
  },
  {
   "cell_type": "code",
   "execution_count": 20,
   "metadata": {},
   "outputs": [
    {
     "data": {
      "text/plain": [
       "<AxesSubplot:xlabel='smoker', ylabel='charges'>"
      ]
     },
     "execution_count": 20,
     "metadata": {},
     "output_type": "execute_result"
    },
    {
     "data": {
      "image/png": "[encoded data removed]",
      "text/plain": [
       "<Figure size 432x288 with 1 Axes>"
      ]
     },
     "metadata": {
      "needs_background": "light"
     },
     "output_type": "display_data"
    }
   ],
   "source": [
    "sns.barplot(x='smoker',y='charges',data=customer_data)"
   ]
  },
  {
   "cell_type": "markdown",
   "metadata": {},
   "source": [
    "Smokers have larger claim charges compared to non-smokers."
   ]
  },
  {
   "cell_type": "code",
   "execution_count": 21,
   "metadata": {},
   "outputs": [
    {
     "data": {
      "text/plain": [
       "<AxesSubplot:xlabel='region', ylabel='charges'>"
      ]
     },
     "execution_count": 21,
     "metadata": {},
     "output_type": "execute_result"
    },
    {
     "data": {
      "image/png": "[encoded data removed]",
      "text/plain": [
       "<Figure size 432x288 with 1 Axes>"
      ]
     },
     "metadata": {
      "needs_background": "light"
     },
     "output_type": "display_data"
    }
   ],
   "source": [
    "sns.barplot(x='region',y='charges',data=customer_data)"
   ]
  },
  {
   "cell_type": "markdown",
   "metadata": {},
   "source": [
    "All region categories have claim charges greater than 12000.Region 2 has slightly higher charges compared to other region categories."
   ]
  },
  {
   "cell_type": "markdown",
   "metadata": {},
   "source": [
    "# Summary: \n",
    "#                     1.Age greater than 40\n",
    " #                    2.BMI greater than 42 \n",
    "   #                  3.Steps less than 5000 \n",
    "#                     4.smoker \n",
    "# are the four major characteristics of person identified as having higher claim charges."
   ]
  },
  {
   "cell_type": "markdown",
   "metadata": {},
   "source": [
    "# Step 2: Comparing each column with the target."
   ]
  },
  {
   "cell_type": "code",
   "execution_count": 22,
   "metadata": {},
   "outputs": [],
   "source": [
    "#Method to find the proportion of people with target 1 wrt input\n",
    "def calc_perc(colname):\n",
    "    df1=pd.DataFrame(customer_data.groupby([colname])[col_list[8]].count())\n",
    "    df2=pd.DataFrame(customer_data.groupby([colname])[col_list[8]].sum())\n",
    "    df3=pd.merge(df1,df2,on=colname)\n",
    "    df3.rename(columns={'insuranceclaim_x':'insuranceclaim_total','insuranceclaim_y':'insuranceclaim_1'},inplace=True)\n",
    "    df3['insuranceclaim_0']=df3['insuranceclaim_total']-df3['insuranceclaim_1']\n",
    "    df3['perc_ppl_who_made_insurance_claim']=(df3['insuranceclaim_1']/df3['insuranceclaim_total'])*100\n",
    "    return df3"
   ]
  },
  {
   "cell_type": "code",
   "execution_count": 23,
   "metadata": {},
   "outputs": [
    {
     "name": "stderr",
     "output_type": "stream",
     "text": [
      "C:\\Users\\ADMIN\\anaconda3\\lib\\site-packages\\seaborn\\_decorators.py:36: FutureWarning: Pass the following variable as a keyword arg: x. From version 0.12, the only valid positional argument will be `data`, and passing other arguments without an explicit keyword will result in an error or misinterpretation.\n",
      "  warnings.warn(\n"
     ]
    },
    {
     "data": {
      "text/plain": [
       "<AxesSubplot:xlabel='age_disc', ylabel='count'>"
      ]
     },
     "execution_count": 23,
     "metadata": {},
     "output_type": "execute_result"
    },
    {
     "data": {
      "image/png": "[encoded data removed]",
      "text/plain": [
       "<Figure size 432x288 with 1 Axes>"
      ]
     },
     "metadata": {
      "needs_background": "light"
     },
     "output_type": "display_data"
    }
   ],
   "source": [
    "#sns.barplot(x='insuranceclaim',y='age_disc',data=customer_data)\n",
    "plt.xticks(rotation=90)\n",
    "sns.countplot(customer_data.age_disc, hue=customer_data.insuranceclaim)"
   ]
  },
  {
   "cell_type": "code",
   "execution_count": 24,
   "metadata": {},
   "outputs": [
    {
     "data": {
      "text/html": [
       "<div>\n",
       "<style scoped>\n",
       "    .dataframe tbody tr th:only-of-type {\n",
       "        vertical-align: middle;\n",
       "    }\n",
       "\n",
       "    .dataframe tbody tr th {\n",
       "        vertical-align: top;\n",
       "    }\n",
       "\n",
       "    .dataframe thead th {\n",
       "        text-align: right;\n",
       "    }\n",
       "</style>\n",
       "<table border=\"1\" class=\"dataframe\">\n",
       "  <thead>\n",
       "    <tr style=\"text-align: right;\">\n",
       "      <th></th>\n",
       "      <th>insuranceclaim_total</th>\n",
       "      <th>insuranceclaim_1</th>\n",
       "      <th>insuranceclaim_0</th>\n",
       "      <th>perc_ppl_who_made_insurance_claim</th>\n",
       "    </tr>\n",
       "    <tr>\n",
       "      <th>age_disc</th>\n",
       "      <th></th>\n",
       "      <th></th>\n",
       "      <th></th>\n",
       "      <th></th>\n",
       "    </tr>\n",
       "  </thead>\n",
       "  <tbody>\n",
       "    <tr>\n",
       "      <th>(17.999, 22.6]</th>\n",
       "      <td>222</td>\n",
       "      <td>144</td>\n",
       "      <td>78</td>\n",
       "      <td>64.864865</td>\n",
       "    </tr>\n",
       "    <tr>\n",
       "      <th>(22.6, 27.2]</th>\n",
       "      <td>140</td>\n",
       "      <td>74</td>\n",
       "      <td>66</td>\n",
       "      <td>52.857143</td>\n",
       "    </tr>\n",
       "    <tr>\n",
       "      <th>(27.2, 31.8]</th>\n",
       "      <td>109</td>\n",
       "      <td>40</td>\n",
       "      <td>69</td>\n",
       "      <td>36.697248</td>\n",
       "    </tr>\n",
       "    <tr>\n",
       "      <th>(31.8, 36.4]</th>\n",
       "      <td>128</td>\n",
       "      <td>52</td>\n",
       "      <td>76</td>\n",
       "      <td>40.625000</td>\n",
       "    </tr>\n",
       "    <tr>\n",
       "      <th>(36.4, 41.0]</th>\n",
       "      <td>129</td>\n",
       "      <td>56</td>\n",
       "      <td>73</td>\n",
       "      <td>43.410853</td>\n",
       "    </tr>\n",
       "    <tr>\n",
       "      <th>(41.0, 45.6]</th>\n",
       "      <td>110</td>\n",
       "      <td>77</td>\n",
       "      <td>33</td>\n",
       "      <td>70.000000</td>\n",
       "    </tr>\n",
       "    <tr>\n",
       "      <th>(45.6, 50.2]</th>\n",
       "      <td>144</td>\n",
       "      <td>90</td>\n",
       "      <td>54</td>\n",
       "      <td>62.500000</td>\n",
       "    </tr>\n",
       "    <tr>\n",
       "      <th>(50.2, 54.8]</th>\n",
       "      <td>114</td>\n",
       "      <td>78</td>\n",
       "      <td>36</td>\n",
       "      <td>68.421053</td>\n",
       "    </tr>\n",
       "    <tr>\n",
       "      <th>(54.8, 59.4]</th>\n",
       "      <td>128</td>\n",
       "      <td>90</td>\n",
       "      <td>38</td>\n",
       "      <td>70.312500</td>\n",
       "    </tr>\n",
       "    <tr>\n",
       "      <th>(59.4, 64.0]</th>\n",
       "      <td>114</td>\n",
       "      <td>82</td>\n",
       "      <td>32</td>\n",
       "      <td>71.929825</td>\n",
       "    </tr>\n",
       "  </tbody>\n",
       "</table>\n",
       "</div>"
      ],
      "text/plain": [
       "                insuranceclaim_total  insuranceclaim_1  insuranceclaim_0  \\\n",
       "age_disc                                                                   \n",
       "(17.999, 22.6]                   222               144                78   \n",
       "(22.6, 27.2]                     140                74                66   \n",
       "(27.2, 31.8]                     109                40                69   \n",
       "(31.8, 36.4]                     128                52                76   \n",
       "(36.4, 41.0]                     129                56                73   \n",
       "(41.0, 45.6]                     110                77                33   \n",
       "(45.6, 50.2]                     144                90                54   \n",
       "(50.2, 54.8]                     114                78                36   \n",
       "(54.8, 59.4]                     128                90                38   \n",
       "(59.4, 64.0]                     114                82                32   \n",
       "\n",
       "                perc_ppl_who_made_insurance_claim  \n",
       "age_disc                                           \n",
       "(17.999, 22.6]                          64.864865  \n",
       "(22.6, 27.2]                            52.857143  \n",
       "(27.2, 31.8]                            36.697248  \n",
       "(31.8, 36.4]                            40.625000  \n",
       "(36.4, 41.0]                            43.410853  \n",
       "(41.0, 45.6]                            70.000000  \n",
       "(45.6, 50.2]                            62.500000  \n",
       "(50.2, 54.8]                            68.421053  \n",
       "(54.8, 59.4]                            70.312500  \n",
       "(59.4, 64.0]                            71.929825  "
      ]
     },
     "execution_count": 24,
     "metadata": {},
     "output_type": "execute_result"
    }
   ],
   "source": [
    "#comparing age with target column\n",
    "df_age=calc_perc('age_disc')\n",
    "df_age"
   ]
  },
  {
   "cell_type": "markdown",
   "metadata": {},
   "source": [
    "Age less than 22 and above 41 categories have around 60 to 70 percent of people making insurance claims."
   ]
  },
  {
   "cell_type": "code",
   "execution_count": 57,
   "metadata": {},
   "outputs": [
    {
     "name": "stderr",
     "output_type": "stream",
     "text": [
      "C:\\Users\\ADMIN\\anaconda3\\lib\\site-packages\\seaborn\\_decorators.py:36: FutureWarning: Pass the following variable as a keyword arg: x. From version 0.12, the only valid positional argument will be `data`, and passing other arguments without an explicit keyword will result in an error or misinterpretation.\n",
      "  warnings.warn(\n"
     ]
    },
    {
     "data": {
      "text/plain": [
       "<AxesSubplot:xlabel='bmi_disc', ylabel='count'>"
      ]
     },
     "execution_count": 57,
     "metadata": {},
     "output_type": "execute_result"
    },
    {
     "data": {
      "image/png": "[encoded data removed]",
      "text/plain": [
       "<Figure size 432x288 with 1 Axes>"
      ]
     },
     "metadata": {
      "needs_background": "light"
     },
     "output_type": "display_data"
    }
   ],
   "source": [
    "plt.xticks(rotation=90)\n",
    "sns.countplot(customer_data.bmi_disc, hue=customer_data.insuranceclaim)"
   ]
  },
  {
   "cell_type": "code",
   "execution_count": 25,
   "metadata": {},
   "outputs": [
    {
     "data": {
      "text/html": [
       "<div>\n",
       "<style scoped>\n",
       "    .dataframe tbody tr th:only-of-type {\n",
       "        vertical-align: middle;\n",
       "    }\n",
       "\n",
       "    .dataframe tbody tr th {\n",
       "        vertical-align: top;\n",
       "    }\n",
       "\n",
       "    .dataframe thead th {\n",
       "        text-align: right;\n",
       "    }\n",
       "</style>\n",
       "<table border=\"1\" class=\"dataframe\">\n",
       "  <thead>\n",
       "    <tr style=\"text-align: right;\">\n",
       "      <th></th>\n",
       "      <th>insuranceclaim_total</th>\n",
       "      <th>insuranceclaim_1</th>\n",
       "      <th>insuranceclaim_0</th>\n",
       "      <th>perc_ppl_who_made_insurance_claim</th>\n",
       "    </tr>\n",
       "    <tr>\n",
       "      <th>bmi_disc</th>\n",
       "      <th></th>\n",
       "      <th></th>\n",
       "      <th></th>\n",
       "      <th></th>\n",
       "    </tr>\n",
       "  </thead>\n",
       "  <tbody>\n",
       "    <tr>\n",
       "      <th>(15.959000000000001, 19.68]</th>\n",
       "      <td>30</td>\n",
       "      <td>9</td>\n",
       "      <td>21</td>\n",
       "      <td>30.000000</td>\n",
       "    </tr>\n",
       "    <tr>\n",
       "      <th>(19.68, 23.4]</th>\n",
       "      <td>129</td>\n",
       "      <td>23</td>\n",
       "      <td>106</td>\n",
       "      <td>17.829457</td>\n",
       "    </tr>\n",
       "    <tr>\n",
       "      <th>(23.4, 27.12]</th>\n",
       "      <td>232</td>\n",
       "      <td>84</td>\n",
       "      <td>148</td>\n",
       "      <td>36.206897</td>\n",
       "    </tr>\n",
       "    <tr>\n",
       "      <th>(27.12, 30.84]</th>\n",
       "      <td>319</td>\n",
       "      <td>193</td>\n",
       "      <td>126</td>\n",
       "      <td>60.501567</td>\n",
       "    </tr>\n",
       "    <tr>\n",
       "      <th>(30.84, 34.56]</th>\n",
       "      <td>288</td>\n",
       "      <td>203</td>\n",
       "      <td>85</td>\n",
       "      <td>70.486111</td>\n",
       "    </tr>\n",
       "    <tr>\n",
       "      <th>(34.56, 38.28]</th>\n",
       "      <td>198</td>\n",
       "      <td>158</td>\n",
       "      <td>40</td>\n",
       "      <td>79.797980</td>\n",
       "    </tr>\n",
       "    <tr>\n",
       "      <th>(38.28, 42.0]</th>\n",
       "      <td>93</td>\n",
       "      <td>73</td>\n",
       "      <td>20</td>\n",
       "      <td>78.494624</td>\n",
       "    </tr>\n",
       "    <tr>\n",
       "      <th>(42.0, 45.72]</th>\n",
       "      <td>32</td>\n",
       "      <td>23</td>\n",
       "      <td>9</td>\n",
       "      <td>71.875000</td>\n",
       "    </tr>\n",
       "    <tr>\n",
       "      <th>(45.72, 49.44]</th>\n",
       "      <td>14</td>\n",
       "      <td>14</td>\n",
       "      <td>0</td>\n",
       "      <td>100.000000</td>\n",
       "    </tr>\n",
       "    <tr>\n",
       "      <th>(49.44, 53.16]</th>\n",
       "      <td>3</td>\n",
       "      <td>3</td>\n",
       "      <td>0</td>\n",
       "      <td>100.000000</td>\n",
       "    </tr>\n",
       "  </tbody>\n",
       "</table>\n",
       "</div>"
      ],
      "text/plain": [
       "                             insuranceclaim_total  insuranceclaim_1  \\\n",
       "bmi_disc                                                              \n",
       "(15.959000000000001, 19.68]                    30                 9   \n",
       "(19.68, 23.4]                                 129                23   \n",
       "(23.4, 27.12]                                 232                84   \n",
       "(27.12, 30.84]                                319               193   \n",
       "(30.84, 34.56]                                288               203   \n",
       "(34.56, 38.28]                                198               158   \n",
       "(38.28, 42.0]                                  93                73   \n",
       "(42.0, 45.72]                                  32                23   \n",
       "(45.72, 49.44]                                 14                14   \n",
       "(49.44, 53.16]                                  3                 3   \n",
       "\n",
       "                             insuranceclaim_0  \\\n",
       "bmi_disc                                        \n",
       "(15.959000000000001, 19.68]                21   \n",
       "(19.68, 23.4]                             106   \n",
       "(23.4, 27.12]                             148   \n",
       "(27.12, 30.84]                            126   \n",
       "(30.84, 34.56]                             85   \n",
       "(34.56, 38.28]                             40   \n",
       "(38.28, 42.0]                              20   \n",
       "(42.0, 45.72]                               9   \n",
       "(45.72, 49.44]                              0   \n",
       "(49.44, 53.16]                              0   \n",
       "\n",
       "                             perc_ppl_who_made_insurance_claim  \n",
       "bmi_disc                                                        \n",
       "(15.959000000000001, 19.68]                          30.000000  \n",
       "(19.68, 23.4]                                        17.829457  \n",
       "(23.4, 27.12]                                        36.206897  \n",
       "(27.12, 30.84]                                       60.501567  \n",
       "(30.84, 34.56]                                       70.486111  \n",
       "(34.56, 38.28]                                       79.797980  \n",
       "(38.28, 42.0]                                        78.494624  \n",
       "(42.0, 45.72]                                        71.875000  \n",
       "(45.72, 49.44]                                      100.000000  \n",
       "(49.44, 53.16]                                      100.000000  "
      ]
     },
     "execution_count": 25,
     "metadata": {},
     "output_type": "execute_result"
    }
   ],
   "source": [
    "#comparing bmi with target column\n",
    "df_bmi=calc_perc('bmi_disc')\n",
    "df_bmi"
   ]
  },
  {
   "cell_type": "markdown",
   "metadata": {},
   "source": [
    "BMI greater than 27 has greater percentage of people who have made insurance claim.BMI more than 45 category has 100 percent of people making insurance claims."
   ]
  },
  {
   "cell_type": "code",
   "execution_count": 45,
   "metadata": {},
   "outputs": [
    {
     "name": "stderr",
     "output_type": "stream",
     "text": [
      "C:\\Users\\ADMIN\\anaconda3\\lib\\site-packages\\seaborn\\_decorators.py:36: FutureWarning: Pass the following variable as a keyword arg: x. From version 0.12, the only valid positional argument will be `data`, and passing other arguments without an explicit keyword will result in an error or misinterpretation.\n",
      "  warnings.warn(\n"
     ]
    },
    {
     "data": {
      "text/plain": [
       "<AxesSubplot:xlabel='sex', ylabel='count'>"
      ]
     },
     "execution_count": 45,
     "metadata": {},
     "output_type": "execute_result"
    },
    {
     "data": {
      "image/png": "[encoded data removed]",
      "text/plain": [
       "<Figure size 432x288 with 1 Axes>"
      ]
     },
     "metadata": {
      "needs_background": "light"
     },
     "output_type": "display_data"
    }
   ],
   "source": [
    "sns.countplot(customer_data.sex, hue=customer_data.insuranceclaim)"
   ]
  },
  {
   "cell_type": "code",
   "execution_count": 26,
   "metadata": {},
   "outputs": [
    {
     "data": {
      "text/html": [
       "<div>\n",
       "<style scoped>\n",
       "    .dataframe tbody tr th:only-of-type {\n",
       "        vertical-align: middle;\n",
       "    }\n",
       "\n",
       "    .dataframe tbody tr th {\n",
       "        vertical-align: top;\n",
       "    }\n",
       "\n",
       "    .dataframe thead th {\n",
       "        text-align: right;\n",
       "    }\n",
       "</style>\n",
       "<table border=\"1\" class=\"dataframe\">\n",
       "  <thead>\n",
       "    <tr style=\"text-align: right;\">\n",
       "      <th></th>\n",
       "      <th>insuranceclaim_total</th>\n",
       "      <th>insuranceclaim_1</th>\n",
       "      <th>insuranceclaim_0</th>\n",
       "      <th>perc_ppl_who_made_insurance_claim</th>\n",
       "    </tr>\n",
       "    <tr>\n",
       "      <th>sex</th>\n",
       "      <th></th>\n",
       "      <th></th>\n",
       "      <th></th>\n",
       "      <th></th>\n",
       "    </tr>\n",
       "  </thead>\n",
       "  <tbody>\n",
       "    <tr>\n",
       "      <th>0</th>\n",
       "      <td>662</td>\n",
       "      <td>377</td>\n",
       "      <td>285</td>\n",
       "      <td>56.948640</td>\n",
       "    </tr>\n",
       "    <tr>\n",
       "      <th>1</th>\n",
       "      <td>676</td>\n",
       "      <td>406</td>\n",
       "      <td>270</td>\n",
       "      <td>60.059172</td>\n",
       "    </tr>\n",
       "  </tbody>\n",
       "</table>\n",
       "</div>"
      ],
      "text/plain": [
       "     insuranceclaim_total  insuranceclaim_1  insuranceclaim_0  \\\n",
       "sex                                                             \n",
       "0                     662               377               285   \n",
       "1                     676               406               270   \n",
       "\n",
       "     perc_ppl_who_made_insurance_claim  \n",
       "sex                                     \n",
       "0                            56.948640  \n",
       "1                            60.059172  "
      ]
     },
     "execution_count": 26,
     "metadata": {},
     "output_type": "execute_result"
    }
   ],
   "source": [
    "#comparing sex with target column\n",
    "df_sex=calc_perc(col_list[1])\n",
    "df_sex"
   ]
  },
  {
   "cell_type": "markdown",
   "metadata": {},
   "source": [
    "Both male and female customers have same percentage of people making insurance claim.(56-60%)"
   ]
  },
  {
   "cell_type": "code",
   "execution_count": 47,
   "metadata": {},
   "outputs": [
    {
     "name": "stderr",
     "output_type": "stream",
     "text": [
      "C:\\Users\\ADMIN\\anaconda3\\lib\\site-packages\\seaborn\\_decorators.py:36: FutureWarning: Pass the following variable as a keyword arg: x. From version 0.12, the only valid positional argument will be `data`, and passing other arguments without an explicit keyword will result in an error or misinterpretation.\n",
      "  warnings.warn(\n"
     ]
    },
    {
     "data": {
      "text/plain": [
       "<AxesSubplot:xlabel='steps_disc', ylabel='count'>"
      ]
     },
     "execution_count": 47,
     "metadata": {},
     "output_type": "execute_result"
    },
    {
     "data": {
      "image/png": "[encoded data removed]",
      "text/plain": [
       "<Figure size 432x288 with 1 Axes>"
      ]
     },
     "metadata": {
      "needs_background": "light"
     },
     "output_type": "display_data"
    }
   ],
   "source": [
    "plt.xticks(rotation=90)\n",
    "sns.countplot(customer_data.steps_disc, hue=customer_data.insuranceclaim)"
   ]
  },
  {
   "cell_type": "code",
   "execution_count": 27,
   "metadata": {},
   "outputs": [
    {
     "data": {
      "text/html": [
       "<div>\n",
       "<style scoped>\n",
       "    .dataframe tbody tr th:only-of-type {\n",
       "        vertical-align: middle;\n",
       "    }\n",
       "\n",
       "    .dataframe tbody tr th {\n",
       "        vertical-align: top;\n",
       "    }\n",
       "\n",
       "    .dataframe thead th {\n",
       "        text-align: right;\n",
       "    }\n",
       "</style>\n",
       "<table border=\"1\" class=\"dataframe\">\n",
       "  <thead>\n",
       "    <tr style=\"text-align: right;\">\n",
       "      <th></th>\n",
       "      <th>insuranceclaim_total</th>\n",
       "      <th>insuranceclaim_1</th>\n",
       "      <th>insuranceclaim_0</th>\n",
       "      <th>perc_ppl_who_made_insurance_claim</th>\n",
       "    </tr>\n",
       "    <tr>\n",
       "      <th>steps_disc</th>\n",
       "      <th></th>\n",
       "      <th></th>\n",
       "      <th></th>\n",
       "      <th></th>\n",
       "    </tr>\n",
       "  </thead>\n",
       "  <tbody>\n",
       "    <tr>\n",
       "      <th>(2999.999, 3701.0]</th>\n",
       "      <td>414</td>\n",
       "      <td>306</td>\n",
       "      <td>108</td>\n",
       "      <td>73.913043</td>\n",
       "    </tr>\n",
       "    <tr>\n",
       "      <th>(3701.0, 4402.0]</th>\n",
       "      <td>380</td>\n",
       "      <td>282</td>\n",
       "      <td>98</td>\n",
       "      <td>74.210526</td>\n",
       "    </tr>\n",
       "    <tr>\n",
       "      <th>(4402.0, 5103.0]</th>\n",
       "      <td>79</td>\n",
       "      <td>44</td>\n",
       "      <td>35</td>\n",
       "      <td>55.696203</td>\n",
       "    </tr>\n",
       "    <tr>\n",
       "      <th>(5103.0, 5804.0]</th>\n",
       "      <td>0</td>\n",
       "      <td>0</td>\n",
       "      <td>0</td>\n",
       "      <td>NaN</td>\n",
       "    </tr>\n",
       "    <tr>\n",
       "      <th>(5804.0, 6505.0]</th>\n",
       "      <td>0</td>\n",
       "      <td>0</td>\n",
       "      <td>0</td>\n",
       "      <td>NaN</td>\n",
       "    </tr>\n",
       "    <tr>\n",
       "      <th>(6505.0, 7206.0]</th>\n",
       "      <td>0</td>\n",
       "      <td>0</td>\n",
       "      <td>0</td>\n",
       "      <td>NaN</td>\n",
       "    </tr>\n",
       "    <tr>\n",
       "      <th>(7206.0, 7907.0]</th>\n",
       "      <td>0</td>\n",
       "      <td>0</td>\n",
       "      <td>0</td>\n",
       "      <td>NaN</td>\n",
       "    </tr>\n",
       "    <tr>\n",
       "      <th>(7907.0, 8608.0]</th>\n",
       "      <td>342</td>\n",
       "      <td>143</td>\n",
       "      <td>199</td>\n",
       "      <td>41.812865</td>\n",
       "    </tr>\n",
       "    <tr>\n",
       "      <th>(8608.0, 9309.0]</th>\n",
       "      <td>0</td>\n",
       "      <td>0</td>\n",
       "      <td>0</td>\n",
       "      <td>NaN</td>\n",
       "    </tr>\n",
       "    <tr>\n",
       "      <th>(9309.0, 10010.0]</th>\n",
       "      <td>123</td>\n",
       "      <td>8</td>\n",
       "      <td>115</td>\n",
       "      <td>6.504065</td>\n",
       "    </tr>\n",
       "  </tbody>\n",
       "</table>\n",
       "</div>"
      ],
      "text/plain": [
       "                    insuranceclaim_total  insuranceclaim_1  insuranceclaim_0  \\\n",
       "steps_disc                                                                     \n",
       "(2999.999, 3701.0]                   414               306               108   \n",
       "(3701.0, 4402.0]                     380               282                98   \n",
       "(4402.0, 5103.0]                      79                44                35   \n",
       "(5103.0, 5804.0]                       0                 0                 0   \n",
       "(5804.0, 6505.0]                       0                 0                 0   \n",
       "(6505.0, 7206.0]                       0                 0                 0   \n",
       "(7206.0, 7907.0]                       0                 0                 0   \n",
       "(7907.0, 8608.0]                     342               143               199   \n",
       "(8608.0, 9309.0]                       0                 0                 0   \n",
       "(9309.0, 10010.0]                    123                 8               115   \n",
       "\n",
       "                    perc_ppl_who_made_insurance_claim  \n",
       "steps_disc                                             \n",
       "(2999.999, 3701.0]                          73.913043  \n",
       "(3701.0, 4402.0]                            74.210526  \n",
       "(4402.0, 5103.0]                            55.696203  \n",
       "(5103.0, 5804.0]                                  NaN  \n",
       "(5804.0, 6505.0]                                  NaN  \n",
       "(6505.0, 7206.0]                                  NaN  \n",
       "(7206.0, 7907.0]                                  NaN  \n",
       "(7907.0, 8608.0]                            41.812865  \n",
       "(8608.0, 9309.0]                                  NaN  \n",
       "(9309.0, 10010.0]                            6.504065  "
      ]
     },
     "execution_count": 27,
     "metadata": {},
     "output_type": "execute_result"
    }
   ],
   "source": [
    "#comparing steps column with target\n",
    "df_steps=calc_perc('steps_disc')\n",
    "df_steps"
   ]
  },
  {
   "cell_type": "markdown",
   "metadata": {},
   "source": [
    "Steps less than 5000 have greater percentage of people making insurance claims(55-74%).Steps above 7900 have 6-41% of people making claims."
   ]
  },
  {
   "cell_type": "code",
   "execution_count": 53,
   "metadata": {},
   "outputs": [
    {
     "name": "stderr",
     "output_type": "stream",
     "text": [
      "C:\\Users\\ADMIN\\anaconda3\\lib\\site-packages\\seaborn\\_decorators.py:36: FutureWarning: Pass the following variable as a keyword arg: x. From version 0.12, the only valid positional argument will be `data`, and passing other arguments without an explicit keyword will result in an error or misinterpretation.\n",
      "  warnings.warn(\n"
     ]
    },
    {
     "data": {
      "text/plain": [
       "<AxesSubplot:xlabel='children', ylabel='count'>"
      ]
     },
     "execution_count": 53,
     "metadata": {},
     "output_type": "execute_result"
    },
    {
     "data": {
      "image/png": "[encoded data removed]",
      "text/plain": [
       "<Figure size 432x288 with 1 Axes>"
      ]
     },
     "metadata": {
      "needs_background": "light"
     },
     "output_type": "display_data"
    }
   ],
   "source": [
    "sns.countplot(customer_data.children, hue=customer_data.insuranceclaim)"
   ]
  },
  {
   "cell_type": "code",
   "execution_count": 28,
   "metadata": {},
   "outputs": [
    {
     "data": {
      "text/html": [
       "<div>\n",
       "<style scoped>\n",
       "    .dataframe tbody tr th:only-of-type {\n",
       "        vertical-align: middle;\n",
       "    }\n",
       "\n",
       "    .dataframe tbody tr th {\n",
       "        vertical-align: top;\n",
       "    }\n",
       "\n",
       "    .dataframe thead th {\n",
       "        text-align: right;\n",
       "    }\n",
       "</style>\n",
       "<table border=\"1\" class=\"dataframe\">\n",
       "  <thead>\n",
       "    <tr style=\"text-align: right;\">\n",
       "      <th></th>\n",
       "      <th>insuranceclaim_total</th>\n",
       "      <th>insuranceclaim_1</th>\n",
       "      <th>insuranceclaim_0</th>\n",
       "      <th>perc_ppl_who_made_insurance_claim</th>\n",
       "    </tr>\n",
       "    <tr>\n",
       "      <th>children</th>\n",
       "      <th></th>\n",
       "      <th></th>\n",
       "      <th></th>\n",
       "      <th></th>\n",
       "    </tr>\n",
       "  </thead>\n",
       "  <tbody>\n",
       "    <tr>\n",
       "      <th>0</th>\n",
       "      <td>574</td>\n",
       "      <td>463</td>\n",
       "      <td>111</td>\n",
       "      <td>80.662021</td>\n",
       "    </tr>\n",
       "    <tr>\n",
       "      <th>1</th>\n",
       "      <td>324</td>\n",
       "      <td>173</td>\n",
       "      <td>151</td>\n",
       "      <td>53.395062</td>\n",
       "    </tr>\n",
       "    <tr>\n",
       "      <th>2</th>\n",
       "      <td>240</td>\n",
       "      <td>94</td>\n",
       "      <td>146</td>\n",
       "      <td>39.166667</td>\n",
       "    </tr>\n",
       "    <tr>\n",
       "      <th>3</th>\n",
       "      <td>157</td>\n",
       "      <td>45</td>\n",
       "      <td>112</td>\n",
       "      <td>28.662420</td>\n",
       "    </tr>\n",
       "    <tr>\n",
       "      <th>4</th>\n",
       "      <td>25</td>\n",
       "      <td>4</td>\n",
       "      <td>21</td>\n",
       "      <td>16.000000</td>\n",
       "    </tr>\n",
       "    <tr>\n",
       "      <th>5</th>\n",
       "      <td>18</td>\n",
       "      <td>4</td>\n",
       "      <td>14</td>\n",
       "      <td>22.222222</td>\n",
       "    </tr>\n",
       "  </tbody>\n",
       "</table>\n",
       "</div>"
      ],
      "text/plain": [
       "          insuranceclaim_total  insuranceclaim_1  insuranceclaim_0  \\\n",
       "children                                                             \n",
       "0                          574               463               111   \n",
       "1                          324               173               151   \n",
       "2                          240                94               146   \n",
       "3                          157                45               112   \n",
       "4                           25                 4                21   \n",
       "5                           18                 4                14   \n",
       "\n",
       "          perc_ppl_who_made_insurance_claim  \n",
       "children                                     \n",
       "0                                 80.662021  \n",
       "1                                 53.395062  \n",
       "2                                 39.166667  \n",
       "3                                 28.662420  \n",
       "4                                 16.000000  \n",
       "5                                 22.222222  "
      ]
     },
     "execution_count": 28,
     "metadata": {},
     "output_type": "execute_result"
    }
   ],
   "source": [
    "df_children=calc_perc(col_list[4])\n",
    "df_children"
   ]
  },
  {
   "cell_type": "markdown",
   "metadata": {},
   "source": [
    "Children 0 category have 80 percentage of people who have made claim compared to other categories."
   ]
  },
  {
   "cell_type": "code",
   "execution_count": 49,
   "metadata": {},
   "outputs": [
    {
     "name": "stderr",
     "output_type": "stream",
     "text": [
      "C:\\Users\\ADMIN\\anaconda3\\lib\\site-packages\\seaborn\\_decorators.py:36: FutureWarning: Pass the following variable as a keyword arg: x. From version 0.12, the only valid positional argument will be `data`, and passing other arguments without an explicit keyword will result in an error or misinterpretation.\n",
      "  warnings.warn(\n"
     ]
    },
    {
     "data": {
      "text/plain": [
       "<AxesSubplot:xlabel='smoker', ylabel='count'>"
      ]
     },
     "execution_count": 49,
     "metadata": {},
     "output_type": "execute_result"
    },
    {
     "data": {
      "image/png": "[encoded data removed]",
      "text/plain": [
       "<Figure size 432x288 with 1 Axes>"
      ]
     },
     "metadata": {
      "needs_background": "light"
     },
     "output_type": "display_data"
    }
   ],
   "source": [
    "sns.countplot(customer_data.smoker, hue=customer_data.insuranceclaim)"
   ]
  },
  {
   "cell_type": "code",
   "execution_count": 29,
   "metadata": {},
   "outputs": [
    {
     "data": {
      "text/html": [
       "<div>\n",
       "<style scoped>\n",
       "    .dataframe tbody tr th:only-of-type {\n",
       "        vertical-align: middle;\n",
       "    }\n",
       "\n",
       "    .dataframe tbody tr th {\n",
       "        vertical-align: top;\n",
       "    }\n",
       "\n",
       "    .dataframe thead th {\n",
       "        text-align: right;\n",
       "    }\n",
       "</style>\n",
       "<table border=\"1\" class=\"dataframe\">\n",
       "  <thead>\n",
       "    <tr style=\"text-align: right;\">\n",
       "      <th></th>\n",
       "      <th>insuranceclaim_total</th>\n",
       "      <th>insuranceclaim_1</th>\n",
       "      <th>insuranceclaim_0</th>\n",
       "      <th>perc_ppl_who_made_insurance_claim</th>\n",
       "    </tr>\n",
       "    <tr>\n",
       "      <th>smoker</th>\n",
       "      <th></th>\n",
       "      <th></th>\n",
       "      <th></th>\n",
       "      <th></th>\n",
       "    </tr>\n",
       "  </thead>\n",
       "  <tbody>\n",
       "    <tr>\n",
       "      <th>0</th>\n",
       "      <td>1064</td>\n",
       "      <td>534</td>\n",
       "      <td>530</td>\n",
       "      <td>50.187970</td>\n",
       "    </tr>\n",
       "    <tr>\n",
       "      <th>1</th>\n",
       "      <td>274</td>\n",
       "      <td>249</td>\n",
       "      <td>25</td>\n",
       "      <td>90.875912</td>\n",
       "    </tr>\n",
       "  </tbody>\n",
       "</table>\n",
       "</div>"
      ],
      "text/plain": [
       "        insuranceclaim_total  insuranceclaim_1  insuranceclaim_0  \\\n",
       "smoker                                                             \n",
       "0                       1064               534               530   \n",
       "1                        274               249                25   \n",
       "\n",
       "        perc_ppl_who_made_insurance_claim  \n",
       "smoker                                     \n",
       "0                               50.187970  \n",
       "1                               90.875912  "
      ]
     },
     "execution_count": 29,
     "metadata": {},
     "output_type": "execute_result"
    }
   ],
   "source": [
    "df_smoker=calc_perc(col_list[5])\n",
    "df_smoker"
   ]
  },
  {
   "cell_type": "markdown",
   "metadata": {},
   "source": [
    "90 percent people in smoker category have made insurance claim.In non-smoker it is 50%."
   ]
  },
  {
   "cell_type": "code",
   "execution_count": 50,
   "metadata": {},
   "outputs": [
    {
     "name": "stderr",
     "output_type": "stream",
     "text": [
      "C:\\Users\\ADMIN\\anaconda3\\lib\\site-packages\\seaborn\\_decorators.py:36: FutureWarning: Pass the following variable as a keyword arg: x. From version 0.12, the only valid positional argument will be `data`, and passing other arguments without an explicit keyword will result in an error or misinterpretation.\n",
      "  warnings.warn(\n"
     ]
    },
    {
     "data": {
      "text/plain": [
       "<AxesSubplot:xlabel='region', ylabel='count'>"
      ]
     },
     "execution_count": 50,
     "metadata": {},
     "output_type": "execute_result"
    },
    {
     "data": {
      "image/png": "[encoded data removed]",
      "text/plain": [
       "<Figure size 432x288 with 1 Axes>"
      ]
     },
     "metadata": {
      "needs_background": "light"
     },
     "output_type": "display_data"
    }
   ],
   "source": [
    "sns.countplot(customer_data.region, hue=customer_data.insuranceclaim)"
   ]
  },
  {
   "cell_type": "code",
   "execution_count": 30,
   "metadata": {},
   "outputs": [
    {
     "data": {
      "text/html": [
       "<div>\n",
       "<style scoped>\n",
       "    .dataframe tbody tr th:only-of-type {\n",
       "        vertical-align: middle;\n",
       "    }\n",
       "\n",
       "    .dataframe tbody tr th {\n",
       "        vertical-align: top;\n",
       "    }\n",
       "\n",
       "    .dataframe thead th {\n",
       "        text-align: right;\n",
       "    }\n",
       "</style>\n",
       "<table border=\"1\" class=\"dataframe\">\n",
       "  <thead>\n",
       "    <tr style=\"text-align: right;\">\n",
       "      <th></th>\n",
       "      <th>insuranceclaim_total</th>\n",
       "      <th>insuranceclaim_1</th>\n",
       "      <th>insuranceclaim_0</th>\n",
       "      <th>perc_ppl_who_made_insurance_claim</th>\n",
       "    </tr>\n",
       "    <tr>\n",
       "      <th>region</th>\n",
       "      <th></th>\n",
       "      <th></th>\n",
       "      <th></th>\n",
       "      <th></th>\n",
       "    </tr>\n",
       "  </thead>\n",
       "  <tbody>\n",
       "    <tr>\n",
       "      <th>0</th>\n",
       "      <td>324</td>\n",
       "      <td>192</td>\n",
       "      <td>132</td>\n",
       "      <td>59.259259</td>\n",
       "    </tr>\n",
       "    <tr>\n",
       "      <th>1</th>\n",
       "      <td>325</td>\n",
       "      <td>163</td>\n",
       "      <td>162</td>\n",
       "      <td>50.153846</td>\n",
       "    </tr>\n",
       "    <tr>\n",
       "      <th>2</th>\n",
       "      <td>364</td>\n",
       "      <td>245</td>\n",
       "      <td>119</td>\n",
       "      <td>67.307692</td>\n",
       "    </tr>\n",
       "    <tr>\n",
       "      <th>3</th>\n",
       "      <td>325</td>\n",
       "      <td>183</td>\n",
       "      <td>142</td>\n",
       "      <td>56.307692</td>\n",
       "    </tr>\n",
       "  </tbody>\n",
       "</table>\n",
       "</div>"
      ],
      "text/plain": [
       "        insuranceclaim_total  insuranceclaim_1  insuranceclaim_0  \\\n",
       "region                                                             \n",
       "0                        324               192               132   \n",
       "1                        325               163               162   \n",
       "2                        364               245               119   \n",
       "3                        325               183               142   \n",
       "\n",
       "        perc_ppl_who_made_insurance_claim  \n",
       "region                                     \n",
       "0                               59.259259  \n",
       "1                               50.153846  \n",
       "2                               67.307692  \n",
       "3                               56.307692  "
      ]
     },
     "execution_count": 30,
     "metadata": {},
     "output_type": "execute_result"
    }
   ],
   "source": [
    "df_region=calc_perc(col_list[6])\n",
    "df_region"
   ]
  },
  {
   "cell_type": "markdown",
   "metadata": {},
   "source": [
    "All region categories have greater than 50 percent of people making claims."
   ]
  },
  {
   "cell_type": "code",
   "execution_count": 52,
   "metadata": {},
   "outputs": [
    {
     "data": {
      "text/plain": [
       "<AxesSubplot:xlabel='insuranceclaim', ylabel='charges'>"
      ]
     },
     "execution_count": 52,
     "metadata": {},
     "output_type": "execute_result"
    },
    {
     "data": {
      "image/png": "[encoded data removed]",
      "text/plain": [
       "<Figure size 432x288 with 1 Axes>"
      ]
     },
     "metadata": {
      "needs_background": "light"
     },
     "output_type": "display_data"
    }
   ],
   "source": [
    "sns.stripplot(x=customer_data.insuranceclaim, y=customer_data.charges)"
   ]
  },
  {
   "cell_type": "code",
   "execution_count": 31,
   "metadata": {},
   "outputs": [
    {
     "data": {
      "text/html": [
       "<div>\n",
       "<style scoped>\n",
       "    .dataframe tbody tr th:only-of-type {\n",
       "        vertical-align: middle;\n",
       "    }\n",
       "\n",
       "    .dataframe tbody tr th {\n",
       "        vertical-align: top;\n",
       "    }\n",
       "\n",
       "    .dataframe thead th {\n",
       "        text-align: right;\n",
       "    }\n",
       "</style>\n",
       "<table border=\"1\" class=\"dataframe\">\n",
       "  <thead>\n",
       "    <tr style=\"text-align: right;\">\n",
       "      <th></th>\n",
       "      <th>insuranceclaim_total</th>\n",
       "      <th>insuranceclaim_1</th>\n",
       "      <th>insuranceclaim_0</th>\n",
       "      <th>perc_ppl_who_made_insurance_claim</th>\n",
       "    </tr>\n",
       "    <tr>\n",
       "      <th>charges_disc</th>\n",
       "      <th></th>\n",
       "      <th></th>\n",
       "      <th></th>\n",
       "      <th></th>\n",
       "    </tr>\n",
       "  </thead>\n",
       "  <tbody>\n",
       "    <tr>\n",
       "      <th>(1121.869, 7386.73]</th>\n",
       "      <td>536</td>\n",
       "      <td>234</td>\n",
       "      <td>302</td>\n",
       "      <td>43.656716</td>\n",
       "    </tr>\n",
       "    <tr>\n",
       "      <th>(7386.73, 13651.59]</th>\n",
       "      <td>398</td>\n",
       "      <td>232</td>\n",
       "      <td>166</td>\n",
       "      <td>58.291457</td>\n",
       "    </tr>\n",
       "    <tr>\n",
       "      <th>(13651.59, 19916.45]</th>\n",
       "      <td>129</td>\n",
       "      <td>84</td>\n",
       "      <td>45</td>\n",
       "      <td>65.116279</td>\n",
       "    </tr>\n",
       "    <tr>\n",
       "      <th>(19916.45, 26181.31]</th>\n",
       "      <td>86</td>\n",
       "      <td>60</td>\n",
       "      <td>26</td>\n",
       "      <td>69.767442</td>\n",
       "    </tr>\n",
       "    <tr>\n",
       "      <th>(26181.31, 32446.17]</th>\n",
       "      <td>35</td>\n",
       "      <td>24</td>\n",
       "      <td>11</td>\n",
       "      <td>68.571429</td>\n",
       "    </tr>\n",
       "    <tr>\n",
       "      <th>(32446.17, 38711.03]</th>\n",
       "      <td>59</td>\n",
       "      <td>54</td>\n",
       "      <td>5</td>\n",
       "      <td>91.525424</td>\n",
       "    </tr>\n",
       "    <tr>\n",
       "      <th>(38711.03, 44975.89]</th>\n",
       "      <td>57</td>\n",
       "      <td>57</td>\n",
       "      <td>0</td>\n",
       "      <td>100.000000</td>\n",
       "    </tr>\n",
       "    <tr>\n",
       "      <th>(44975.89, 51240.75]</th>\n",
       "      <td>32</td>\n",
       "      <td>32</td>\n",
       "      <td>0</td>\n",
       "      <td>100.000000</td>\n",
       "    </tr>\n",
       "    <tr>\n",
       "      <th>(51240.75, 57505.61]</th>\n",
       "      <td>2</td>\n",
       "      <td>2</td>\n",
       "      <td>0</td>\n",
       "      <td>100.000000</td>\n",
       "    </tr>\n",
       "    <tr>\n",
       "      <th>(57505.61, 63770.47]</th>\n",
       "      <td>4</td>\n",
       "      <td>4</td>\n",
       "      <td>0</td>\n",
       "      <td>100.000000</td>\n",
       "    </tr>\n",
       "  </tbody>\n",
       "</table>\n",
       "</div>"
      ],
      "text/plain": [
       "                      insuranceclaim_total  insuranceclaim_1  \\\n",
       "charges_disc                                                   \n",
       "(1121.869, 7386.73]                    536               234   \n",
       "(7386.73, 13651.59]                    398               232   \n",
       "(13651.59, 19916.45]                   129                84   \n",
       "(19916.45, 26181.31]                    86                60   \n",
       "(26181.31, 32446.17]                    35                24   \n",
       "(32446.17, 38711.03]                    59                54   \n",
       "(38711.03, 44975.89]                    57                57   \n",
       "(44975.89, 51240.75]                    32                32   \n",
       "(51240.75, 57505.61]                     2                 2   \n",
       "(57505.61, 63770.47]                     4                 4   \n",
       "\n",
       "                      insuranceclaim_0  perc_ppl_who_made_insurance_claim  \n",
       "charges_disc                                                               \n",
       "(1121.869, 7386.73]                302                          43.656716  \n",
       "(7386.73, 13651.59]                166                          58.291457  \n",
       "(13651.59, 19916.45]                45                          65.116279  \n",
       "(19916.45, 26181.31]                26                          69.767442  \n",
       "(26181.31, 32446.17]                11                          68.571429  \n",
       "(32446.17, 38711.03]                 5                          91.525424  \n",
       "(38711.03, 44975.89]                 0                         100.000000  \n",
       "(44975.89, 51240.75]                 0                         100.000000  \n",
       "(51240.75, 57505.61]                 0                         100.000000  \n",
       "(57505.61, 63770.47]                 0                         100.000000  "
      ]
     },
     "execution_count": 31,
     "metadata": {},
     "output_type": "execute_result"
    }
   ],
   "source": [
    "df_charges=calc_perc('charges_disc')\n",
    "df_charges"
   ]
  },
  {
   "cell_type": "markdown",
   "metadata": {},
   "source": [
    "All people who have not made any claim have charges less than 40k.Above 40k 100 percent of people have made claims."
   ]
  },
  {
   "cell_type": "code",
   "execution_count": 32,
   "metadata": {
    "scrolled": true
   },
   "outputs": [
    {
     "data": {
      "text/plain": [
       "<seaborn.axisgrid.JointGrid at 0x260c1a4d6a0>"
      ]
     },
     "execution_count": 32,
     "metadata": {},
     "output_type": "execute_result"
    },
    {
     "data": {
      "image/png": "[encoded data removed]",
      "text/plain": [
       "<Figure size 432x432 with 3 Axes>"
      ]
     },
     "metadata": {
      "needs_background": "light"
     },
     "output_type": "display_data"
    }
   ],
   "source": [
    "#Comparing age with bmi for any correlation\n",
    "sns.jointplot(x='age',y='bmi',data=customer_data)"
   ]
  },
  {
   "cell_type": "code",
   "execution_count": 33,
   "metadata": {},
   "outputs": [
    {
     "data": {
      "text/html": [
       "<div>\n",
       "<style scoped>\n",
       "    .dataframe tbody tr th:only-of-type {\n",
       "        vertical-align: middle;\n",
       "    }\n",
       "\n",
       "    .dataframe tbody tr th {\n",
       "        vertical-align: top;\n",
       "    }\n",
       "\n",
       "    .dataframe thead th {\n",
       "        text-align: right;\n",
       "    }\n",
       "</style>\n",
       "<table border=\"1\" class=\"dataframe\">\n",
       "  <thead>\n",
       "    <tr style=\"text-align: right;\">\n",
       "      <th></th>\n",
       "      <th>age</th>\n",
       "      <th>sex</th>\n",
       "      <th>bmi</th>\n",
       "      <th>steps</th>\n",
       "      <th>children</th>\n",
       "      <th>smoker</th>\n",
       "      <th>region</th>\n",
       "      <th>charges</th>\n",
       "      <th>insuranceclaim</th>\n",
       "    </tr>\n",
       "  </thead>\n",
       "  <tbody>\n",
       "    <tr>\n",
       "      <th>age</th>\n",
       "      <td>1.000000</td>\n",
       "      <td>-0.020856</td>\n",
       "      <td>0.109272</td>\n",
       "      <td>-0.167957</td>\n",
       "      <td>0.042469</td>\n",
       "      <td>-0.025019</td>\n",
       "      <td>0.002127</td>\n",
       "      <td>0.299008</td>\n",
       "      <td>0.113723</td>\n",
       "    </tr>\n",
       "    <tr>\n",
       "      <th>sex</th>\n",
       "      <td>-0.020856</td>\n",
       "      <td>1.000000</td>\n",
       "      <td>0.046371</td>\n",
       "      <td>-0.039470</td>\n",
       "      <td>0.017163</td>\n",
       "      <td>0.076185</td>\n",
       "      <td>0.004588</td>\n",
       "      <td>0.057292</td>\n",
       "      <td>0.031565</td>\n",
       "    </tr>\n",
       "    <tr>\n",
       "      <th>bmi</th>\n",
       "      <td>0.109272</td>\n",
       "      <td>0.046371</td>\n",
       "      <td>1.000000</td>\n",
       "      <td>-0.681149</td>\n",
       "      <td>0.012759</td>\n",
       "      <td>0.003750</td>\n",
       "      <td>0.157566</td>\n",
       "      <td>0.198341</td>\n",
       "      <td>0.384198</td>\n",
       "    </tr>\n",
       "    <tr>\n",
       "      <th>steps</th>\n",
       "      <td>-0.167957</td>\n",
       "      <td>-0.039470</td>\n",
       "      <td>-0.681149</td>\n",
       "      <td>1.000000</td>\n",
       "      <td>0.055346</td>\n",
       "      <td>-0.267845</td>\n",
       "      <td>-0.076483</td>\n",
       "      <td>-0.305570</td>\n",
       "      <td>-0.419514</td>\n",
       "    </tr>\n",
       "    <tr>\n",
       "      <th>children</th>\n",
       "      <td>0.042469</td>\n",
       "      <td>0.017163</td>\n",
       "      <td>0.012759</td>\n",
       "      <td>0.055346</td>\n",
       "      <td>1.000000</td>\n",
       "      <td>0.007673</td>\n",
       "      <td>0.016569</td>\n",
       "      <td>0.067998</td>\n",
       "      <td>-0.409526</td>\n",
       "    </tr>\n",
       "    <tr>\n",
       "      <th>smoker</th>\n",
       "      <td>-0.025019</td>\n",
       "      <td>0.076185</td>\n",
       "      <td>0.003750</td>\n",
       "      <td>-0.267845</td>\n",
       "      <td>0.007673</td>\n",
       "      <td>1.000000</td>\n",
       "      <td>-0.002181</td>\n",
       "      <td>0.787251</td>\n",
       "      <td>0.333261</td>\n",
       "    </tr>\n",
       "    <tr>\n",
       "      <th>region</th>\n",
       "      <td>0.002127</td>\n",
       "      <td>0.004588</td>\n",
       "      <td>0.157566</td>\n",
       "      <td>-0.076483</td>\n",
       "      <td>0.016569</td>\n",
       "      <td>-0.002181</td>\n",
       "      <td>1.000000</td>\n",
       "      <td>-0.006208</td>\n",
       "      <td>0.020891</td>\n",
       "    </tr>\n",
       "    <tr>\n",
       "      <th>charges</th>\n",
       "      <td>0.299008</td>\n",
       "      <td>0.057292</td>\n",
       "      <td>0.198341</td>\n",
       "      <td>-0.305570</td>\n",
       "      <td>0.067998</td>\n",
       "      <td>0.787251</td>\n",
       "      <td>-0.006208</td>\n",
       "      <td>1.000000</td>\n",
       "      <td>0.309418</td>\n",
       "    </tr>\n",
       "    <tr>\n",
       "      <th>insuranceclaim</th>\n",
       "      <td>0.113723</td>\n",
       "      <td>0.031565</td>\n",
       "      <td>0.384198</td>\n",
       "      <td>-0.419514</td>\n",
       "      <td>-0.409526</td>\n",
       "      <td>0.333261</td>\n",
       "      <td>0.020891</td>\n",
       "      <td>0.309418</td>\n",
       "      <td>1.000000</td>\n",
       "    </tr>\n",
       "  </tbody>\n",
       "</table>\n",
       "</div>"
      ],
      "text/plain": [
       "                     age       sex       bmi     steps  children    smoker  \\\n",
       "age             1.000000 -0.020856  0.109272 -0.167957  0.042469 -0.025019   \n",
       "sex            -0.020856  1.000000  0.046371 -0.039470  0.017163  0.076185   \n",
       "bmi             0.109272  0.046371  1.000000 -0.681149  0.012759  0.003750   \n",
       "steps          -0.167957 -0.039470 -0.681149  1.000000  0.055346 -0.267845   \n",
       "children        0.042469  0.017163  0.012759  0.055346  1.000000  0.007673   \n",
       "smoker         -0.025019  0.076185  0.003750 -0.267845  0.007673  1.000000   \n",
       "region          0.002127  0.004588  0.157566 -0.076483  0.016569 -0.002181   \n",
       "charges         0.299008  0.057292  0.198341 -0.305570  0.067998  0.787251   \n",
       "insuranceclaim  0.113723  0.031565  0.384198 -0.419514 -0.409526  0.333261   \n",
       "\n",
       "                  region   charges  insuranceclaim  \n",
       "age             0.002127  0.299008        0.113723  \n",
       "sex             0.004588  0.057292        0.031565  \n",
       "bmi             0.157566  0.198341        0.384198  \n",
       "steps          -0.076483 -0.305570       -0.419514  \n",
       "children        0.016569  0.067998       -0.409526  \n",
       "smoker         -0.002181  0.787251        0.333261  \n",
       "region          1.000000 -0.006208        0.020891  \n",
       "charges        -0.006208  1.000000        0.309418  \n",
       "insuranceclaim  0.020891  0.309418        1.000000  "
      ]
     },
     "execution_count": 33,
     "metadata": {},
     "output_type": "execute_result"
    }
   ],
   "source": [
    "customer_data.corr()"
   ]
  },
  {
   "cell_type": "code",
   "execution_count": 36,
   "metadata": {},
   "outputs": [],
   "source": [
    "#Write the final output to an excel file\n",
    "writer = pd.ExcelWriter(r'C:\\Users\\ADMIN\\Desktop\\UseCase3_EDAOutput.xlsx')\n",
    "customer_data.to_excel(writer,index = False, header=True)\n",
    "writer.save()"
   ]
  },
  {
   "cell_type": "markdown",
   "metadata": {},
   "source": [
    "bmi,steps,children,smoker and charges are identified as having impact on claim.Lets create a model taking into account these features."
   ]
  },
  {
   "cell_type": "markdown",
   "metadata": {},
   "source": [
    "Lets check the distribution of the above identified variables."
   ]
  },
  {
   "cell_type": "code",
   "execution_count": 37,
   "metadata": {},
   "outputs": [
    {
     "name": "stderr",
     "output_type": "stream",
     "text": [
      "C:\\Users\\ADMIN\\anaconda3\\lib\\site-packages\\seaborn\\distributions.py:2551: FutureWarning: `distplot` is a deprecated function and will be removed in a future version. Please adapt your code to use either `displot` (a figure-level function with similar flexibility) or `histplot` (an axes-level function for histograms).\n",
      "  warnings.warn(msg, FutureWarning)\n"
     ]
    },
    {
     "data": {
      "text/plain": [
       "<AxesSubplot:xlabel='bmi', ylabel='Density'>"
      ]
     },
     "execution_count": 37,
     "metadata": {},
     "output_type": "execute_result"
    },
    {
     "data": {
      "image/png": "[encoded data removed]",
      "text/plain": [
       "<Figure size 432x288 with 1 Axes>"
      ]
     },
     "metadata": {
      "needs_background": "light"
     },
     "output_type": "display_data"
    }
   ],
   "source": [
    "sns.distplot(customer_data.bmi)"
   ]
  },
  {
   "cell_type": "code",
   "execution_count": 38,
   "metadata": {},
   "outputs": [
    {
     "name": "stderr",
     "output_type": "stream",
     "text": [
      "C:\\Users\\ADMIN\\anaconda3\\lib\\site-packages\\seaborn\\distributions.py:2551: FutureWarning: `distplot` is a deprecated function and will be removed in a future version. Please adapt your code to use either `displot` (a figure-level function with similar flexibility) or `histplot` (an axes-level function for histograms).\n",
      "  warnings.warn(msg, FutureWarning)\n"
     ]
    },
    {
     "data": {
      "text/plain": [
       "<AxesSubplot:xlabel='steps', ylabel='Density'>"
      ]
     },
     "execution_count": 38,
     "metadata": {},
     "output_type": "execute_result"
    },
    {
     "data": {
      "image/png": "[encoded data removed]",
      "text/plain": [
       "<Figure size 432x288 with 1 Axes>"
      ]
     },
     "metadata": {
      "needs_background": "light"
     },
     "output_type": "display_data"
    }
   ],
   "source": [
    "sns.distplot(customer_data.steps)"
   ]
  },
  {
   "cell_type": "code",
   "execution_count": 41,
   "metadata": {},
   "outputs": [
    {
     "name": "stderr",
     "output_type": "stream",
     "text": [
      "C:\\Users\\ADMIN\\anaconda3\\lib\\site-packages\\seaborn\\distributions.py:2551: FutureWarning: `distplot` is a deprecated function and will be removed in a future version. Please adapt your code to use either `displot` (a figure-level function with similar flexibility) or `histplot` (an axes-level function for histograms).\n",
      "  warnings.warn(msg, FutureWarning)\n"
     ]
    },
    {
     "data": {
      "text/plain": [
       "<AxesSubplot:xlabel='charges', ylabel='Density'>"
      ]
     },
     "execution_count": 41,
     "metadata": {},
     "output_type": "execute_result"
    },
    {
     "data": {
      "image/png": "[encoded data removed]",
      "text/plain": [
       "<Figure size 432x288 with 1 Axes>"
      ]
     },
     "metadata": {
      "needs_background": "light"
     },
     "output_type": "display_data"
    }
   ],
   "source": [
    "sns.distplot(customer_data.charges)"
   ]
  }
 ],
 "metadata": {
  "kernelspec": {
   "display_name": "Python 3",
   "language": "python",
   "name": "python3"
  },
  "language_info": {
   "codemirror_mode": {
    "name": "ipython",
    "version": 3
   },
   "file_extension": ".py",
   "mimetype": "text/x-python",
   "name": "python",
   "nbconvert_exporter": "python",
   "pygments_lexer": "ipython3",
   "version": "3.8.5"
  }
 },
 "nbformat": 4,
 "nbformat_minor": 4
}
