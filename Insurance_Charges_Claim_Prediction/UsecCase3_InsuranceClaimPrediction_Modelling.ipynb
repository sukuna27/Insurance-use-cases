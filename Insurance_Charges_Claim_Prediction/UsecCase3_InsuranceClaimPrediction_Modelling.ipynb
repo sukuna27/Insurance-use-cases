{
 "cells": [
  {
   "cell_type": "code",
   "execution_count": 153,
   "metadata": {},
   "outputs": [],
   "source": [
    "import pandas as pd\n",
    "from sklearn.linear_model import LogisticRegression\n",
    "from sklearn.model_selection import train_test_split\n",
    "from ipynb.fs.full.UseCase4_PredictTravelInsuranceClaim_FE import *"
   ]
  },
  {
   "cell_type": "code",
   "execution_count": 154,
   "metadata": {},
   "outputs": [],
   "source": [
    "file_path=r'C:\\Users\\ADMIN\\Desktop\\UseCase3_EDAOutput.xlsx'\n",
    "col_list=['age','sex','bmi','steps','children','smoker','region','charges','insuranceclaim']"
   ]
  },
  {
   "cell_type": "code",
   "execution_count": 155,
   "metadata": {},
   "outputs": [
    {
     "data": {
      "text/html": [
       "<div>\n",
       "<style scoped>\n",
       "    .dataframe tbody tr th:only-of-type {\n",
       "        vertical-align: middle;\n",
       "    }\n",
       "\n",
       "    .dataframe tbody tr th {\n",
       "        vertical-align: top;\n",
       "    }\n",
       "\n",
       "    .dataframe thead th {\n",
       "        text-align: right;\n",
       "    }\n",
       "</style>\n",
       "<table border=\"1\" class=\"dataframe\">\n",
       "  <thead>\n",
       "    <tr style=\"text-align: right;\">\n",
       "      <th></th>\n",
       "      <th>age</th>\n",
       "      <th>sex</th>\n",
       "      <th>bmi</th>\n",
       "      <th>steps</th>\n",
       "      <th>children</th>\n",
       "      <th>smoker</th>\n",
       "      <th>region</th>\n",
       "      <th>charges</th>\n",
       "      <th>insuranceclaim</th>\n",
       "      <th>charges_disc</th>\n",
       "      <th>age_disc</th>\n",
       "      <th>bmi_disc</th>\n",
       "      <th>steps_disc</th>\n",
       "    </tr>\n",
       "  </thead>\n",
       "  <tbody>\n",
       "    <tr>\n",
       "      <th>0</th>\n",
       "      <td>19</td>\n",
       "      <td>0</td>\n",
       "      <td>27.900</td>\n",
       "      <td>3009</td>\n",
       "      <td>0</td>\n",
       "      <td>1</td>\n",
       "      <td>3</td>\n",
       "      <td>16884.92400</td>\n",
       "      <td>1</td>\n",
       "      <td>(13651.59, 19916.45]</td>\n",
       "      <td>(17.999, 22.6]</td>\n",
       "      <td>(27.12, 30.84]</td>\n",
       "      <td>(2999.999, 3701.0]</td>\n",
       "    </tr>\n",
       "    <tr>\n",
       "      <th>1</th>\n",
       "      <td>18</td>\n",
       "      <td>1</td>\n",
       "      <td>33.770</td>\n",
       "      <td>3008</td>\n",
       "      <td>1</td>\n",
       "      <td>0</td>\n",
       "      <td>2</td>\n",
       "      <td>1725.55230</td>\n",
       "      <td>1</td>\n",
       "      <td>(1121.869, 7386.73]</td>\n",
       "      <td>(17.999, 22.6]</td>\n",
       "      <td>(30.84, 34.56]</td>\n",
       "      <td>(2999.999, 3701.0]</td>\n",
       "    </tr>\n",
       "    <tr>\n",
       "      <th>2</th>\n",
       "      <td>28</td>\n",
       "      <td>1</td>\n",
       "      <td>33.000</td>\n",
       "      <td>3009</td>\n",
       "      <td>3</td>\n",
       "      <td>0</td>\n",
       "      <td>2</td>\n",
       "      <td>4449.46200</td>\n",
       "      <td>0</td>\n",
       "      <td>(1121.869, 7386.73]</td>\n",
       "      <td>(27.2, 31.8]</td>\n",
       "      <td>(30.84, 34.56]</td>\n",
       "      <td>(2999.999, 3701.0]</td>\n",
       "    </tr>\n",
       "    <tr>\n",
       "      <th>3</th>\n",
       "      <td>33</td>\n",
       "      <td>1</td>\n",
       "      <td>22.705</td>\n",
       "      <td>10009</td>\n",
       "      <td>0</td>\n",
       "      <td>0</td>\n",
       "      <td>1</td>\n",
       "      <td>21984.47061</td>\n",
       "      <td>0</td>\n",
       "      <td>(19916.45, 26181.31]</td>\n",
       "      <td>(31.8, 36.4]</td>\n",
       "      <td>(19.68, 23.4]</td>\n",
       "      <td>(9309.0, 10010.0]</td>\n",
       "    </tr>\n",
       "    <tr>\n",
       "      <th>4</th>\n",
       "      <td>32</td>\n",
       "      <td>1</td>\n",
       "      <td>28.880</td>\n",
       "      <td>8010</td>\n",
       "      <td>0</td>\n",
       "      <td>0</td>\n",
       "      <td>1</td>\n",
       "      <td>3866.85520</td>\n",
       "      <td>1</td>\n",
       "      <td>(1121.869, 7386.73]</td>\n",
       "      <td>(31.8, 36.4]</td>\n",
       "      <td>(27.12, 30.84]</td>\n",
       "      <td>(7907.0, 8608.0]</td>\n",
       "    </tr>\n",
       "  </tbody>\n",
       "</table>\n",
       "</div>"
      ],
      "text/plain": [
       "   age  sex     bmi  steps  children  smoker  region      charges  \\\n",
       "0   19    0  27.900   3009         0       1       3  16884.92400   \n",
       "1   18    1  33.770   3008         1       0       2   1725.55230   \n",
       "2   28    1  33.000   3009         3       0       2   4449.46200   \n",
       "3   33    1  22.705  10009         0       0       1  21984.47061   \n",
       "4   32    1  28.880   8010         0       0       1   3866.85520   \n",
       "\n",
       "   insuranceclaim          charges_disc        age_disc        bmi_disc  \\\n",
       "0               1  (13651.59, 19916.45]  (17.999, 22.6]  (27.12, 30.84]   \n",
       "1               1   (1121.869, 7386.73]  (17.999, 22.6]  (30.84, 34.56]   \n",
       "2               0   (1121.869, 7386.73]    (27.2, 31.8]  (30.84, 34.56]   \n",
       "3               0  (19916.45, 26181.31]    (31.8, 36.4]   (19.68, 23.4]   \n",
       "4               1   (1121.869, 7386.73]    (31.8, 36.4]  (27.12, 30.84]   \n",
       "\n",
       "           steps_disc  \n",
       "0  (2999.999, 3701.0]  \n",
       "1  (2999.999, 3701.0]  \n",
       "2  (2999.999, 3701.0]  \n",
       "3   (9309.0, 10010.0]  \n",
       "4    (7907.0, 8608.0]  "
      ]
     },
     "execution_count": 155,
     "metadata": {},
     "output_type": "execute_result"
    }
   ],
   "source": [
    "#Read the file\n",
    "customer_data=pd.read_excel(file_path)\n",
    "customer_data.head()"
   ]
  },
  {
   "cell_type": "code",
   "execution_count": 258,
   "metadata": {},
   "outputs": [
    {
     "data": {
      "text/html": [
       "<div>\n",
       "<style scoped>\n",
       "    .dataframe tbody tr th:only-of-type {\n",
       "        vertical-align: middle;\n",
       "    }\n",
       "\n",
       "    .dataframe tbody tr th {\n",
       "        vertical-align: top;\n",
       "    }\n",
       "\n",
       "    .dataframe thead th {\n",
       "        text-align: right;\n",
       "    }\n",
       "</style>\n",
       "<table border=\"1\" class=\"dataframe\">\n",
       "  <thead>\n",
       "    <tr style=\"text-align: right;\">\n",
       "      <th></th>\n",
       "      <th>bmi</th>\n",
       "      <th>smoker</th>\n",
       "      <th>children</th>\n",
       "      <th>charges</th>\n",
       "    </tr>\n",
       "  </thead>\n",
       "  <tbody>\n",
       "    <tr>\n",
       "      <th>0</th>\n",
       "      <td>27.900</td>\n",
       "      <td>1</td>\n",
       "      <td>0</td>\n",
       "      <td>16884.92400</td>\n",
       "    </tr>\n",
       "    <tr>\n",
       "      <th>1</th>\n",
       "      <td>33.770</td>\n",
       "      <td>0</td>\n",
       "      <td>1</td>\n",
       "      <td>1725.55230</td>\n",
       "    </tr>\n",
       "    <tr>\n",
       "      <th>2</th>\n",
       "      <td>33.000</td>\n",
       "      <td>0</td>\n",
       "      <td>3</td>\n",
       "      <td>4449.46200</td>\n",
       "    </tr>\n",
       "    <tr>\n",
       "      <th>3</th>\n",
       "      <td>22.705</td>\n",
       "      <td>0</td>\n",
       "      <td>0</td>\n",
       "      <td>21984.47061</td>\n",
       "    </tr>\n",
       "    <tr>\n",
       "      <th>4</th>\n",
       "      <td>28.880</td>\n",
       "      <td>0</td>\n",
       "      <td>0</td>\n",
       "      <td>3866.85520</td>\n",
       "    </tr>\n",
       "  </tbody>\n",
       "</table>\n",
       "</div>"
      ],
      "text/plain": [
       "      bmi  smoker  children      charges\n",
       "0  27.900       1         0  16884.92400\n",
       "1  33.770       0         1   1725.55230\n",
       "2  33.000       0         3   4449.46200\n",
       "3  22.705       0         0  21984.47061\n",
       "4  28.880       0         0   3866.85520"
      ]
     },
     "execution_count": 258,
     "metadata": {},
     "output_type": "execute_result"
    }
   ],
   "source": [
    "#Adding steps and children increases the VIF, so using only 3 features in the model.\n",
    "X=customer_data[['bmi','smoker','children','charges']]\n",
    "y = customer_data.insuranceclaim\n",
    "X.head()"
   ]
  },
  {
   "cell_type": "code",
   "execution_count": 259,
   "metadata": {},
   "outputs": [
    {
     "name": "stdout",
     "output_type": "stream",
     "text": [
      "bmi         3.358249\n",
      "smoker      3.480352\n",
      "children    1.791463\n",
      "charges     6.425436\n",
      "dtype: float64\n"
     ]
    }
   ],
   "source": [
    "from statsmodels.stats.outliers_influence import variance_inflation_factor\n",
    "vif = [variance_inflation_factor(X.values, i) for i in range(X.shape[1])] ## Replace X with your indepedent data type\n",
    "vif_s =pd.Series(vif, index =X.columns)\n",
    "print(vif_s)"
   ]
  },
  {
   "cell_type": "code",
   "execution_count": 260,
   "metadata": {},
   "outputs": [],
   "source": [
    "X_train, X_test, y_train, y_test = train_test_split(X, y, test_size = 0.2, random_state = 0)"
   ]
  },
  {
   "cell_type": "code",
   "execution_count": 261,
   "metadata": {},
   "outputs": [
    {
     "name": "stderr",
     "output_type": "stream",
     "text": [
      "C:\\Users\\ADMIN\\UseCase4_PredictTravelInsuranceClaim_FE.ipynb:63: SettingWithCopyWarning: \n",
      "A value is trying to be set on a copy of a slice from a DataFrame.\n",
      "Try using .loc[row_indexer,col_indexer] = value instead\n",
      "\n",
      "See the caveats in the documentation: https://pandas.pydata.org/pandas-docs/stable/user_guide/indexing.html#returning-a-view-versus-a-copy\n",
      "  \"</style>\\n\",\n",
      "C:\\Users\\ADMIN\\UseCase4_PredictTravelInsuranceClaim_FE.ipynb:64: SettingWithCopyWarning: \n",
      "A value is trying to be set on a copy of a slice from a DataFrame.\n",
      "Try using .loc[row_indexer,col_indexer] = value instead\n",
      "\n",
      "See the caveats in the documentation: https://pandas.pydata.org/pandas-docs/stable/user_guide/indexing.html#returning-a-view-versus-a-copy\n",
      "  \"<table border=\\\"1\\\" class=\\\"dataframe\\\">\\n\",\n"
     ]
    },
    {
     "data": {
      "text/html": [
       "<div>\n",
       "<style scoped>\n",
       "    .dataframe tbody tr th:only-of-type {\n",
       "        vertical-align: middle;\n",
       "    }\n",
       "\n",
       "    .dataframe tbody tr th {\n",
       "        vertical-align: top;\n",
       "    }\n",
       "\n",
       "    .dataframe thead th {\n",
       "        text-align: right;\n",
       "    }\n",
       "</style>\n",
       "<table border=\"1\" class=\"dataframe\">\n",
       "  <thead>\n",
       "    <tr style=\"text-align: right;\">\n",
       "      <th></th>\n",
       "      <th>bmi</th>\n",
       "      <th>smoker</th>\n",
       "      <th>children</th>\n",
       "      <th>charges</th>\n",
       "      <th>children_freq_imp</th>\n",
       "    </tr>\n",
       "  </thead>\n",
       "  <tbody>\n",
       "    <tr>\n",
       "      <th>621</th>\n",
       "      <td>34.100</td>\n",
       "      <td>1</td>\n",
       "      <td>4</td>\n",
       "      <td>40182.24600</td>\n",
       "      <td>0</td>\n",
       "    </tr>\n",
       "    <tr>\n",
       "      <th>194</th>\n",
       "      <td>34.430</td>\n",
       "      <td>0</td>\n",
       "      <td>0</td>\n",
       "      <td>1137.46970</td>\n",
       "      <td>0</td>\n",
       "    </tr>\n",
       "    <tr>\n",
       "      <th>240</th>\n",
       "      <td>36.670</td>\n",
       "      <td>1</td>\n",
       "      <td>2</td>\n",
       "      <td>38511.62830</td>\n",
       "      <td>2</td>\n",
       "    </tr>\n",
       "    <tr>\n",
       "      <th>1168</th>\n",
       "      <td>35.200</td>\n",
       "      <td>0</td>\n",
       "      <td>2</td>\n",
       "      <td>4670.64000</td>\n",
       "      <td>2</td>\n",
       "    </tr>\n",
       "    <tr>\n",
       "      <th>1192</th>\n",
       "      <td>32.395</td>\n",
       "      <td>0</td>\n",
       "      <td>1</td>\n",
       "      <td>13019.16105</td>\n",
       "      <td>1</td>\n",
       "    </tr>\n",
       "  </tbody>\n",
       "</table>\n",
       "</div>"
      ],
      "text/plain": [
       "         bmi  smoker  children      charges  children_freq_imp\n",
       "621   34.100       1         4  40182.24600                  0\n",
       "194   34.430       0         0   1137.46970                  0\n",
       "240   36.670       1         2  38511.62830                  2\n",
       "1168  35.200       0         2   4670.64000                  2\n",
       "1192  32.395       0         1  13019.16105                  1"
      ]
     },
     "execution_count": 261,
     "metadata": {},
     "output_type": "execute_result"
    }
   ],
   "source": [
    "#Lets do outlier handing for children column as children 4 and 5 category is around 1.5%\n",
    "(customer_data[customer_data.children==3].count()/len(customer_data)*100)[0]\n",
    "rare_freq_imputation(X_train,X_test,'children')\n",
    "X_train.head()"
   ]
  },
  {
   "cell_type": "code",
   "execution_count": 262,
   "metadata": {},
   "outputs": [
    {
     "name": "stderr",
     "output_type": "stream",
     "text": [
      "C:\\Users\\ADMIN\\anaconda3\\lib\\site-packages\\pandas\\core\\frame.py:4163: SettingWithCopyWarning: \n",
      "A value is trying to be set on a copy of a slice from a DataFrame\n",
      "\n",
      "See the caveats in the documentation: https://pandas.pydata.org/pandas-docs/stable/user_guide/indexing.html#returning-a-view-versus-a-copy\n",
      "  return super().drop(\n"
     ]
    }
   ],
   "source": [
    "X_train.drop('children',axis=1,inplace=True)\n",
    "X_test.drop('children',axis=1,inplace=True)"
   ]
  },
  {
   "cell_type": "code",
   "execution_count": 263,
   "metadata": {},
   "outputs": [],
   "source": [
    "classifier=LogisticRegression()"
   ]
  },
  {
   "cell_type": "code",
   "execution_count": 264,
   "metadata": {},
   "outputs": [],
   "source": [
    "#Before calling the logistic regressor lets do the standard scaling\n",
    "from sklearn.preprocessing import StandardScaler\n",
    "X_train_m1=X_train\n",
    "X_test_m1=X_test\n",
    "y_train_m1=y_train\n",
    "y_test_m1=y_test"
   ]
  },
  {
   "cell_type": "code",
   "execution_count": 265,
   "metadata": {},
   "outputs": [
    {
     "name": "stdout",
     "output_type": "stream",
     "text": [
      "bmi steps children smoker charges\n"
     ]
    }
   ],
   "source": [
    "print(col_list[2],col_list[3],col_list[4],col_list[5],col_list[7])"
   ]
  },
  {
   "cell_type": "code",
   "execution_count": 266,
   "metadata": {},
   "outputs": [],
   "source": [
    "# set up the scaler\n",
    "scaler = StandardScaler()\n",
    "\n",
    "# fit and transform train and test sets\n",
    "X_train_scaled=scaler.fit_transform(X_train_m1,[col_list[2],'children_freq_imp',col_list[5]])\n",
    "X_test_scaled=scaler.fit_transform(X_test_m1,[col_list[2],'children_frq_imp',col_list[5]])\n"
   ]
  },
  {
   "cell_type": "code",
   "execution_count": 267,
   "metadata": {},
   "outputs": [],
   "source": [
    "# let's transform the returned NumPy arrays to dataframes \n",
    "\n",
    "X_train_scaled = pd.DataFrame(X_train_scaled, columns=X_train.columns)\n",
    "X_test_scaled = pd.DataFrame(X_test_scaled, columns=X_test.columns)"
   ]
  },
  {
   "cell_type": "code",
   "execution_count": 268,
   "metadata": {},
   "outputs": [
    {
     "data": {
      "text/html": [
       "<div>\n",
       "<style scoped>\n",
       "    .dataframe tbody tr th:only-of-type {\n",
       "        vertical-align: middle;\n",
       "    }\n",
       "\n",
       "    .dataframe tbody tr th {\n",
       "        vertical-align: top;\n",
       "    }\n",
       "\n",
       "    .dataframe thead th {\n",
       "        text-align: right;\n",
       "    }\n",
       "</style>\n",
       "<table border=\"1\" class=\"dataframe\">\n",
       "  <thead>\n",
       "    <tr style=\"text-align: right;\">\n",
       "      <th></th>\n",
       "      <th>bmi</th>\n",
       "      <th>smoker</th>\n",
       "      <th>charges</th>\n",
       "      <th>children_freq_imp</th>\n",
       "    </tr>\n",
       "  </thead>\n",
       "  <tbody>\n",
       "    <tr>\n",
       "      <th>count</th>\n",
       "      <td>1070.0</td>\n",
       "      <td>1070.0</td>\n",
       "      <td>1070.0</td>\n",
       "      <td>1070.0</td>\n",
       "    </tr>\n",
       "    <tr>\n",
       "      <th>mean</th>\n",
       "      <td>30.7</td>\n",
       "      <td>0.2</td>\n",
       "      <td>13201.2</td>\n",
       "      <td>0.9</td>\n",
       "    </tr>\n",
       "    <tr>\n",
       "      <th>std</th>\n",
       "      <td>6.2</td>\n",
       "      <td>0.4</td>\n",
       "      <td>11979.2</td>\n",
       "      <td>1.0</td>\n",
       "    </tr>\n",
       "    <tr>\n",
       "      <th>min</th>\n",
       "      <td>16.0</td>\n",
       "      <td>0.0</td>\n",
       "      <td>1121.9</td>\n",
       "      <td>0.0</td>\n",
       "    </tr>\n",
       "    <tr>\n",
       "      <th>25%</th>\n",
       "      <td>26.3</td>\n",
       "      <td>0.0</td>\n",
       "      <td>4746.5</td>\n",
       "      <td>0.0</td>\n",
       "    </tr>\n",
       "    <tr>\n",
       "      <th>50%</th>\n",
       "      <td>30.4</td>\n",
       "      <td>0.0</td>\n",
       "      <td>9440.1</td>\n",
       "      <td>1.0</td>\n",
       "    </tr>\n",
       "    <tr>\n",
       "      <th>75%</th>\n",
       "      <td>34.8</td>\n",
       "      <td>0.0</td>\n",
       "      <td>16584.3</td>\n",
       "      <td>2.0</td>\n",
       "    </tr>\n",
       "    <tr>\n",
       "      <th>max</th>\n",
       "      <td>53.1</td>\n",
       "      <td>1.0</td>\n",
       "      <td>63770.4</td>\n",
       "      <td>3.0</td>\n",
       "    </tr>\n",
       "  </tbody>\n",
       "</table>\n",
       "</div>"
      ],
      "text/plain": [
       "          bmi  smoker  charges  children_freq_imp\n",
       "count  1070.0  1070.0   1070.0             1070.0\n",
       "mean     30.7     0.2  13201.2                0.9\n",
       "std       6.2     0.4  11979.2                1.0\n",
       "min      16.0     0.0   1121.9                0.0\n",
       "25%      26.3     0.0   4746.5                0.0\n",
       "50%      30.4     0.0   9440.1                1.0\n",
       "75%      34.8     0.0  16584.3                2.0\n",
       "max      53.1     1.0  63770.4                3.0"
      ]
     },
     "execution_count": 268,
     "metadata": {},
     "output_type": "execute_result"
    }
   ],
   "source": [
    "import numpy as np\n",
    "np.round(X_train.describe(), 1)"
   ]
  },
  {
   "cell_type": "code",
   "execution_count": 269,
   "metadata": {},
   "outputs": [
    {
     "data": {
      "text/html": [
       "<div>\n",
       "<style scoped>\n",
       "    .dataframe tbody tr th:only-of-type {\n",
       "        vertical-align: middle;\n",
       "    }\n",
       "\n",
       "    .dataframe tbody tr th {\n",
       "        vertical-align: top;\n",
       "    }\n",
       "\n",
       "    .dataframe thead th {\n",
       "        text-align: right;\n",
       "    }\n",
       "</style>\n",
       "<table border=\"1\" class=\"dataframe\">\n",
       "  <thead>\n",
       "    <tr style=\"text-align: right;\">\n",
       "      <th></th>\n",
       "      <th>bmi</th>\n",
       "      <th>smoker</th>\n",
       "      <th>charges</th>\n",
       "      <th>children_freq_imp</th>\n",
       "    </tr>\n",
       "  </thead>\n",
       "  <tbody>\n",
       "    <tr>\n",
       "      <th>count</th>\n",
       "      <td>1070.0</td>\n",
       "      <td>1070.0</td>\n",
       "      <td>1070.0</td>\n",
       "      <td>1070.0</td>\n",
       "    </tr>\n",
       "    <tr>\n",
       "      <th>mean</th>\n",
       "      <td>-0.0</td>\n",
       "      <td>0.0</td>\n",
       "      <td>-0.0</td>\n",
       "      <td>0.0</td>\n",
       "    </tr>\n",
       "    <tr>\n",
       "      <th>std</th>\n",
       "      <td>1.0</td>\n",
       "      <td>1.0</td>\n",
       "      <td>1.0</td>\n",
       "      <td>1.0</td>\n",
       "    </tr>\n",
       "    <tr>\n",
       "      <th>min</th>\n",
       "      <td>-2.4</td>\n",
       "      <td>-0.5</td>\n",
       "      <td>-1.0</td>\n",
       "      <td>-0.9</td>\n",
       "    </tr>\n",
       "    <tr>\n",
       "      <th>25%</th>\n",
       "      <td>-0.7</td>\n",
       "      <td>-0.5</td>\n",
       "      <td>-0.7</td>\n",
       "      <td>-0.9</td>\n",
       "    </tr>\n",
       "    <tr>\n",
       "      <th>50%</th>\n",
       "      <td>-0.1</td>\n",
       "      <td>-0.5</td>\n",
       "      <td>-0.3</td>\n",
       "      <td>0.1</td>\n",
       "    </tr>\n",
       "    <tr>\n",
       "      <th>75%</th>\n",
       "      <td>0.7</td>\n",
       "      <td>-0.5</td>\n",
       "      <td>0.3</td>\n",
       "      <td>1.0</td>\n",
       "    </tr>\n",
       "    <tr>\n",
       "      <th>max</th>\n",
       "      <td>3.6</td>\n",
       "      <td>2.0</td>\n",
       "      <td>4.2</td>\n",
       "      <td>2.0</td>\n",
       "    </tr>\n",
       "  </tbody>\n",
       "</table>\n",
       "</div>"
      ],
      "text/plain": [
       "          bmi  smoker  charges  children_freq_imp\n",
       "count  1070.0  1070.0   1070.0             1070.0\n",
       "mean     -0.0     0.0     -0.0                0.0\n",
       "std       1.0     1.0      1.0                1.0\n",
       "min      -2.4    -0.5     -1.0               -0.9\n",
       "25%      -0.7    -0.5     -0.7               -0.9\n",
       "50%      -0.1    -0.5     -0.3                0.1\n",
       "75%       0.7    -0.5      0.3                1.0\n",
       "max       3.6     2.0      4.2                2.0"
      ]
     },
     "execution_count": 269,
     "metadata": {},
     "output_type": "execute_result"
    }
   ],
   "source": [
    "np.round(X_train_scaled.describe(), 1)"
   ]
  },
  {
   "cell_type": "code",
   "execution_count": 270,
   "metadata": {},
   "outputs": [
    {
     "data": {
      "text/html": [
       "<div>\n",
       "<style scoped>\n",
       "    .dataframe tbody tr th:only-of-type {\n",
       "        vertical-align: middle;\n",
       "    }\n",
       "\n",
       "    .dataframe tbody tr th {\n",
       "        vertical-align: top;\n",
       "    }\n",
       "\n",
       "    .dataframe thead th {\n",
       "        text-align: right;\n",
       "    }\n",
       "</style>\n",
       "<table border=\"1\" class=\"dataframe\">\n",
       "  <thead>\n",
       "    <tr style=\"text-align: right;\">\n",
       "      <th></th>\n",
       "      <th>bmi</th>\n",
       "      <th>smoker</th>\n",
       "      <th>charges</th>\n",
       "      <th>children_freq_imp</th>\n",
       "    </tr>\n",
       "  </thead>\n",
       "  <tbody>\n",
       "    <tr>\n",
       "      <th>0</th>\n",
       "      <td>0.545305</td>\n",
       "      <td>1.971255</td>\n",
       "      <td>2.253387</td>\n",
       "      <td>-0.891975</td>\n",
       "    </tr>\n",
       "    <tr>\n",
       "      <th>1</th>\n",
       "      <td>0.598672</td>\n",
       "      <td>-0.507291</td>\n",
       "      <td>-1.007529</td>\n",
       "      <td>-0.891975</td>\n",
       "    </tr>\n",
       "    <tr>\n",
       "      <th>2</th>\n",
       "      <td>0.960921</td>\n",
       "      <td>1.971255</td>\n",
       "      <td>2.113861</td>\n",
       "      <td>1.028374</td>\n",
       "    </tr>\n",
       "    <tr>\n",
       "      <th>3</th>\n",
       "      <td>0.723195</td>\n",
       "      <td>-0.507291</td>\n",
       "      <td>-0.712448</td>\n",
       "      <td>1.028374</td>\n",
       "    </tr>\n",
       "    <tr>\n",
       "      <th>4</th>\n",
       "      <td>0.269575</td>\n",
       "      <td>-0.507291</td>\n",
       "      <td>-0.015202</td>\n",
       "      <td>0.068199</td>\n",
       "    </tr>\n",
       "  </tbody>\n",
       "</table>\n",
       "</div>"
      ],
      "text/plain": [
       "        bmi    smoker   charges  children_freq_imp\n",
       "0  0.545305  1.971255  2.253387          -0.891975\n",
       "1  0.598672 -0.507291 -1.007529          -0.891975\n",
       "2  0.960921  1.971255  2.113861           1.028374\n",
       "3  0.723195 -0.507291 -0.712448           1.028374\n",
       "4  0.269575 -0.507291 -0.015202           0.068199"
      ]
     },
     "execution_count": 270,
     "metadata": {},
     "output_type": "execute_result"
    }
   ],
   "source": [
    "X_train_scaled.head()"
   ]
  },
  {
   "cell_type": "code",
   "execution_count": 271,
   "metadata": {},
   "outputs": [
    {
     "data": {
      "text/html": [
       "<div>\n",
       "<style scoped>\n",
       "    .dataframe tbody tr th:only-of-type {\n",
       "        vertical-align: middle;\n",
       "    }\n",
       "\n",
       "    .dataframe tbody tr th {\n",
       "        vertical-align: top;\n",
       "    }\n",
       "\n",
       "    .dataframe thead th {\n",
       "        text-align: right;\n",
       "    }\n",
       "</style>\n",
       "<table border=\"1\" class=\"dataframe\">\n",
       "  <thead>\n",
       "    <tr style=\"text-align: right;\">\n",
       "      <th></th>\n",
       "      <th>bmi</th>\n",
       "      <th>smoker</th>\n",
       "      <th>charges</th>\n",
       "      <th>children_freq_imp</th>\n",
       "    </tr>\n",
       "  </thead>\n",
       "  <tbody>\n",
       "    <tr>\n",
       "      <th>621</th>\n",
       "      <td>34.100</td>\n",
       "      <td>1</td>\n",
       "      <td>40182.24600</td>\n",
       "      <td>0</td>\n",
       "    </tr>\n",
       "    <tr>\n",
       "      <th>194</th>\n",
       "      <td>34.430</td>\n",
       "      <td>0</td>\n",
       "      <td>1137.46970</td>\n",
       "      <td>0</td>\n",
       "    </tr>\n",
       "    <tr>\n",
       "      <th>240</th>\n",
       "      <td>36.670</td>\n",
       "      <td>1</td>\n",
       "      <td>38511.62830</td>\n",
       "      <td>2</td>\n",
       "    </tr>\n",
       "    <tr>\n",
       "      <th>1168</th>\n",
       "      <td>35.200</td>\n",
       "      <td>0</td>\n",
       "      <td>4670.64000</td>\n",
       "      <td>2</td>\n",
       "    </tr>\n",
       "    <tr>\n",
       "      <th>1192</th>\n",
       "      <td>32.395</td>\n",
       "      <td>0</td>\n",
       "      <td>13019.16105</td>\n",
       "      <td>1</td>\n",
       "    </tr>\n",
       "  </tbody>\n",
       "</table>\n",
       "</div>"
      ],
      "text/plain": [
       "         bmi  smoker      charges  children_freq_imp\n",
       "621   34.100       1  40182.24600                  0\n",
       "194   34.430       0   1137.46970                  0\n",
       "240   36.670       1  38511.62830                  2\n",
       "1168  35.200       0   4670.64000                  2\n",
       "1192  32.395       0  13019.16105                  1"
      ]
     },
     "execution_count": 271,
     "metadata": {},
     "output_type": "execute_result"
    }
   ],
   "source": [
    "X_train.head()"
   ]
  },
  {
   "cell_type": "code",
   "execution_count": 272,
   "metadata": {},
   "outputs": [
    {
     "data": {
      "text/plain": [
       "LogisticRegression()"
      ]
     },
     "execution_count": 272,
     "metadata": {},
     "output_type": "execute_result"
    }
   ],
   "source": [
    "classifier.fit(X_train_scaled, y_train)"
   ]
  },
  {
   "cell_type": "code",
   "execution_count": 273,
   "metadata": {},
   "outputs": [],
   "source": [
    "y_pred=classifier.predict(X_test_scaled)"
   ]
  },
  {
   "cell_type": "code",
   "execution_count": 274,
   "metadata": {},
   "outputs": [
    {
     "name": "stdout",
     "output_type": "stream",
     "text": [
      "[1 0 1 1 0 0 1 0 0 0 0 0 0 0 1 0 0 1 0 1 1 0 1 1 1 1 0 0 1 0 0 1 1 1 1 1 1\n",
      " 1 1 1 0 1 1 1 1 0 0 0 0 0 1 0 1 1 1 1 1 1 1 0 1 1 0 0 1 1 1 1 0 1 1 0 1 1\n",
      " 0 1 0 0 1 1 1 1 1 1 1 1 1 1 0 1 0 1 1 0 1 1 1 1 0 1 1 1 0 1 1 0 0 1 1 1 0\n",
      " 1 0 1 1 0 0 1 1 0 1 0 1 0 0 0 1 1 1 1 0 1 1 0 1 1 1 0 1 0 1 1 1 1 0 1 1 0\n",
      " 0 0 0 1 1 0 1 0 1 0 0 0 0 1 1 1 0 1 1 0 0 1 0 0 0 1 0 1 0 0 1 1 0 0 1 1 0\n",
      " 1 1 0 1 0 1 0 0 1 1 1 0 0 1 0 1 1 0 1 0 1 0 1 1 1 1 1 0 1 0 0 0 0 0 0 0 0\n",
      " 1 0 1 1 1 1 0 1 1 1 1 1 0 0 0 1 0 0 1 1 1 0 0 1 0 1 0 0 1 1 0 1 1 0 1 1 1\n",
      " 0 0 1 1 0 0 1 1 0]\n",
      "\n",
      "\n",
      "578     1\n",
      "610     0\n",
      "569     1\n",
      "1034    1\n",
      "198     0\n",
      "981     0\n",
      "31      1\n",
      "1256    0\n",
      "1219    0\n",
      "1320    0\n",
      "613     0\n",
      "1107    1\n",
      "1263    0\n",
      "406     0\n",
      "795     1\n",
      "970     1\n",
      "824     0\n",
      "141     1\n",
      "1173    0\n",
      "1042    1\n",
      "966     1\n",
      "467     0\n",
      "1098    1\n",
      "757     1\n",
      "1097    1\n",
      "319     0\n",
      "1286    1\n",
      "459     0\n",
      "5       0\n",
      "517     0\n",
      "54      0\n",
      "1062    1\n",
      "722     1\n",
      "45      1\n",
      "989     1\n",
      "1032    1\n",
      "1121    1\n",
      "34      1\n",
      "667     1\n",
      "1268    1\n",
      "863     0\n",
      "108     1\n",
      "638     1\n",
      "55      1\n",
      "161     1\n",
      "1019    0\n",
      "159     1\n",
      "1310    0\n",
      "1220    0\n",
      "661     0\n",
      "1178    1\n",
      "1195    0\n",
      "52      1\n",
      "883     1\n",
      "227     1\n",
      "546     1\n",
      "974     1\n",
      "744     1\n",
      "1272    1\n",
      "717     0\n",
      "487     1\n",
      "1301    1\n",
      "435     0\n",
      "1144    0\n",
      "390     0\n",
      "483     1\n",
      "503     1\n",
      "298     1\n",
      "364     0\n",
      "211     0\n",
      "918     1\n",
      "1061    0\n",
      "1252    1\n",
      "997     1\n",
      "202     0\n",
      "342     1\n",
      "204     0\n",
      "184     0\n",
      "1208    1\n",
      "1284    1\n",
      "333     1\n",
      "549     1\n",
      "1202    1\n",
      "268     1\n",
      "958     1\n",
      "142     0\n",
      "656     1\n",
      "1235    1\n",
      "233     0\n",
      "19      1\n",
      "152     0\n",
      "1126    1\n",
      "554     1\n",
      "1234    1\n",
      "988     1\n",
      "662     1\n",
      "381     1\n",
      "953     1\n",
      "1190    0\n",
      "18      1\n",
      "479     1\n",
      "834     1\n",
      "303     0\n",
      "53      1\n",
      "641     0\n",
      "1054    0\n",
      "1089    0\n",
      "47      1\n",
      "308     1\n",
      "1146    1\n",
      "486     0\n",
      "796     0\n",
      "299     0\n",
      "911     1\n",
      "530     1\n",
      "686     1\n",
      "1295    0\n",
      "310     1\n",
      "1209    1\n",
      "1293    1\n",
      "312     1\n",
      "1133    0\n",
      "768     1\n",
      "758     0\n",
      "913     0\n",
      "431     0\n",
      "818     1\n",
      "85      1\n",
      "39      1\n",
      "787     1\n",
      "823     1\n",
      "1       1\n",
      "589     0\n",
      "512     0\n",
      "461     1\n",
      "322     1\n",
      "224     1\n",
      "711     0\n",
      "58      1\n",
      "881     0\n",
      "1147    1\n",
      "1055    1\n",
      "481     1\n",
      "317     1\n",
      "320     0\n",
      "801     1\n",
      "443     1\n",
      "1157    0\n",
      "747     0\n",
      "980     0\n",
      "426     0\n",
      "14      1\n",
      "1203    1\n",
      "1283    0\n",
      "960     0\n",
      "669     0\n",
      "506     1\n",
      "270     0\n",
      "1135    1\n",
      "124     0\n",
      "906     0\n",
      "944     1\n",
      "9       0\n",
      "634     1\n",
      "1260    0\n",
      "754     0\n",
      "362     1\n",
      "708     0\n",
      "80      0\n",
      "1248    1\n",
      "657     0\n",
      "608     0\n",
      "712     0\n",
      "247     1\n",
      "253     0\n",
      "61      0\n",
      "813     0\n",
      "829     0\n",
      "92      1\n",
      "1296    1\n",
      "553     0\n",
      "505     0\n",
      "75      1\n",
      "511     1\n",
      "140     0\n",
      "1321    1\n",
      "436     1\n",
      "363     0\n",
      "402     1\n",
      "1264    0\n",
      "254     1\n",
      "186     0\n",
      "1287    0\n",
      "156     1\n",
      "477     1\n",
      "1002    0\n",
      "8       0\n",
      "998     0\n",
      "1217    0\n",
      "434     0\n",
      "1110    1\n",
      "420     1\n",
      "27      0\n",
      "982     0\n",
      "1005    0\n",
      "615     1\n",
      "1008    0\n",
      "416     1\n",
      "1127    0\n",
      "442     1\n",
      "1013    1\n",
      "531     1\n",
      "1113    0\n",
      "1331    1\n",
      "878     0\n",
      "452     0\n",
      "300     0\n",
      "241     0\n",
      "231     1\n",
      "1029    1\n",
      "540     0\n",
      "995     0\n",
      "1056    1\n",
      "579     0\n",
      "798     1\n",
      "752     1\n",
      "302     1\n",
      "260     0\n",
      "408     0\n",
      "192     0\n",
      "808     1\n",
      "528     1\n",
      "654     1\n",
      "1095    0\n",
      "583     0\n",
      "1309    0\n",
      "1183    0\n",
      "1267    1\n",
      "535     0\n",
      "853     0\n",
      "1014    1\n",
      "1186    1\n",
      "215     1\n",
      "1046    0\n",
      "986     0\n",
      "489     1\n",
      "968     0\n",
      "1160    1\n",
      "792     0\n",
      "1224    0\n",
      "465     1\n",
      "251     1\n",
      "1017    0\n",
      "1239    1\n",
      "427     1\n",
      "295     0\n",
      "820     1\n",
      "1335    1\n",
      "884     0\n",
      "326     0\n",
      "1109    0\n",
      "783     1\n",
      "668     1\n",
      "1084    0\n",
      "726     0\n",
      "1132    1\n",
      "725     1\n",
      "963     0\n",
      "Name: insuranceclaim, dtype: int64\n"
     ]
    }
   ],
   "source": [
    "print(y_pred)\n",
    "print(\"\\n\")\n",
    "print(y_test)"
   ]
  },
  {
   "cell_type": "code",
   "execution_count": 275,
   "metadata": {},
   "outputs": [
    {
     "data": {
      "text/plain": [
       "0.8843283582089553"
      ]
     },
     "execution_count": 275,
     "metadata": {},
     "output_type": "execute_result"
    }
   ],
   "source": [
    "from sklearn.metrics import accuracy_score,confusion_matrix,precision_score,recall_score,f1_score,log_loss\n",
    "accuracy_score(y_test,y_pred)"
   ]
  },
  {
   "cell_type": "code",
   "execution_count": 276,
   "metadata": {},
   "outputs": [
    {
     "name": "stdout",
     "output_type": "stream",
     "text": [
      "[[103  20]\n",
      " [ 11 134]]\n"
     ]
    },
    {
     "data": {
      "text/plain": [
       "3.995216642503116"
      ]
     },
     "execution_count": 276,
     "metadata": {},
     "output_type": "execute_result"
    }
   ],
   "source": [
    "print(confusion_matrix(y_test,y_pred))\n",
    "log_loss(y_test,y_pred)"
   ]
  },
  {
   "cell_type": "code",
   "execution_count": 277,
   "metadata": {},
   "outputs": [
    {
     "data": {
      "text/plain": [
       "0.8701298701298701"
      ]
     },
     "execution_count": 277,
     "metadata": {},
     "output_type": "execute_result"
    }
   ],
   "source": [
    "precision_score(y_test,y_pred)"
   ]
  },
  {
   "cell_type": "code",
   "execution_count": 278,
   "metadata": {},
   "outputs": [
    {
     "data": {
      "text/plain": [
       "0.9241379310344827"
      ]
     },
     "execution_count": 278,
     "metadata": {},
     "output_type": "execute_result"
    }
   ],
   "source": [
    "recall_score(y_test,y_pred)"
   ]
  },
  {
   "cell_type": "code",
   "execution_count": 279,
   "metadata": {},
   "outputs": [
    {
     "data": {
      "text/plain": [
       "0.8963210702341137"
      ]
     },
     "execution_count": 279,
     "metadata": {},
     "output_type": "execute_result"
    }
   ],
   "source": [
    "f1_score(y_test,y_pred)"
   ]
  },
  {
   "cell_type": "code",
   "execution_count": 280,
   "metadata": {},
   "outputs": [
    {
     "name": "stdout",
     "output_type": "stream",
     "text": [
      "85.89181801320258\n",
      "2.950926445628889\n"
     ]
    }
   ],
   "source": [
    "#Lets check the output with cross validation.\n",
    "from sklearn.model_selection import cross_val_score \n",
    "classifier_avg = cross_val_score(estimator = classifier, X = X_train, y = y_train, cv = 5,scoring='f1') \n",
    "print (classifier_avg.mean()*100)\n",
    "print (classifier_avg.std()*100)"
   ]
  },
  {
   "cell_type": "code",
   "execution_count": 281,
   "metadata": {},
   "outputs": [
    {
     "data": {
      "text/plain": [
       "dict_keys(['explained_variance', 'r2', 'max_error', 'neg_median_absolute_error', 'neg_mean_absolute_error', 'neg_mean_squared_error', 'neg_mean_squared_log_error', 'neg_root_mean_squared_error', 'neg_mean_poisson_deviance', 'neg_mean_gamma_deviance', 'accuracy', 'roc_auc', 'roc_auc_ovr', 'roc_auc_ovo', 'roc_auc_ovr_weighted', 'roc_auc_ovo_weighted', 'balanced_accuracy', 'average_precision', 'neg_log_loss', 'neg_brier_score', 'adjusted_rand_score', 'homogeneity_score', 'completeness_score', 'v_measure_score', 'mutual_info_score', 'adjusted_mutual_info_score', 'normalized_mutual_info_score', 'fowlkes_mallows_score', 'precision', 'precision_macro', 'precision_micro', 'precision_samples', 'precision_weighted', 'recall', 'recall_macro', 'recall_micro', 'recall_samples', 'recall_weighted', 'f1', 'f1_macro', 'f1_micro', 'f1_samples', 'f1_weighted', 'jaccard', 'jaccard_macro', 'jaccard_micro', 'jaccard_samples', 'jaccard_weighted'])"
      ]
     },
     "execution_count": 281,
     "metadata": {},
     "output_type": "execute_result"
    }
   ],
   "source": [
    "import sklearn.metrics\n",
    "sklearn.metrics.SCORERS.keys()"
   ]
  },
  {
   "cell_type": "code",
   "execution_count": 282,
   "metadata": {},
   "outputs": [
    {
     "data": {
      "text/plain": [
       "age               42.899851\n",
       "sex               42.899851\n",
       "bmi               42.899851\n",
       "steps             42.899851\n",
       "children          42.899851\n",
       "smoker            42.899851\n",
       "region            42.899851\n",
       "charges           42.899851\n",
       "insuranceclaim    42.899851\n",
       "charges_disc      42.899851\n",
       "age_disc          42.899851\n",
       "bmi_disc          42.899851\n",
       "steps_disc        42.899851\n",
       "dtype: float64"
      ]
     },
     "execution_count": 282,
     "metadata": {},
     "output_type": "execute_result"
    }
   ],
   "source": [
    "customer_data[customer_data.children==0].count()/len(customer_data)*100"
   ]
  },
  {
   "cell_type": "code",
   "execution_count": null,
   "metadata": {},
   "outputs": [],
   "source": []
  },
  {
   "cell_type": "code",
   "execution_count": null,
   "metadata": {},
   "outputs": [],
   "source": []
  }
 ],
 "metadata": {
  "kernelspec": {
   "display_name": "Python 3",
   "language": "python",
   "name": "python3"
  },
  "language_info": {
   "codemirror_mode": {
    "name": "ipython",
    "version": 3
   },
   "file_extension": ".py",
   "mimetype": "text/x-python",
   "name": "python",
   "nbconvert_exporter": "python",
   "pygments_lexer": "ipython3",
   "version": "3.8.5"
  }
 },
 "nbformat": 4,
 "nbformat_minor": 4
}
