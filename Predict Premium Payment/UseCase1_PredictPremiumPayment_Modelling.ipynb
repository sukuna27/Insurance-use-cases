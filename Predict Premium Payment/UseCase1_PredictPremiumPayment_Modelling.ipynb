{
 "cells": [
  {
   "cell_type": "code",
   "execution_count": 1,
   "metadata": {},
   "outputs": [],
   "source": [
    "import pandas as pd\n",
    "from sklearn.model_selection import train_test_split"
   ]
  },
  {
   "cell_type": "code",
   "execution_count": 2,
   "metadata": {},
   "outputs": [],
   "source": [
    "#configurations\n",
    "file_path=r'C:\\Users\\ADMIN\\Desktop\\UseCase1_EDAOutput.xlsx'"
   ]
  },
  {
   "cell_type": "code",
   "execution_count": 3,
   "metadata": {},
   "outputs": [],
   "source": [
    "customer_data=pd.read_excel(file_path)"
   ]
  },
  {
   "cell_type": "code",
   "execution_count": 4,
   "metadata": {},
   "outputs": [
    {
     "data": {
      "text/html": [
       "<div>\n",
       "<style scoped>\n",
       "    .dataframe tbody tr th:only-of-type {\n",
       "        vertical-align: middle;\n",
       "    }\n",
       "\n",
       "    .dataframe tbody tr th {\n",
       "        vertical-align: top;\n",
       "    }\n",
       "\n",
       "    .dataframe thead th {\n",
       "        text-align: right;\n",
       "    }\n",
       "</style>\n",
       "<table border=\"1\" class=\"dataframe\">\n",
       "  <thead>\n",
       "    <tr style=\"text-align: right;\">\n",
       "      <th></th>\n",
       "      <th>id</th>\n",
       "      <th>perc_premium_paid_by_cash_credit</th>\n",
       "      <th>Income</th>\n",
       "      <th>Count_3-6_months_late</th>\n",
       "      <th>Count_6-12_months_late</th>\n",
       "      <th>Count_more_than_12_months_late</th>\n",
       "      <th>application_underwriting_score</th>\n",
       "      <th>no_of_premiums_paid</th>\n",
       "      <th>sourcing_channel</th>\n",
       "      <th>residence_area_type</th>\n",
       "      <th>...</th>\n",
       "      <th>Age</th>\n",
       "      <th>Age_disc</th>\n",
       "      <th>Age_disc_labels</th>\n",
       "      <th>Income_disc</th>\n",
       "      <th>Income_disc_labels</th>\n",
       "      <th>perc_premium_paid_by_cash_credit_disc</th>\n",
       "      <th>no_of_prem_paid_disc</th>\n",
       "      <th>Premium_disc</th>\n",
       "      <th>Premium_disc_labels</th>\n",
       "      <th>Count_total_premiums_paid_late</th>\n",
       "    </tr>\n",
       "  </thead>\n",
       "  <tbody>\n",
       "    <tr>\n",
       "      <th>0</th>\n",
       "      <td>110936</td>\n",
       "      <td>0.429</td>\n",
       "      <td>355060</td>\n",
       "      <td>0</td>\n",
       "      <td>0</td>\n",
       "      <td>0</td>\n",
       "      <td>99.02</td>\n",
       "      <td>13</td>\n",
       "      <td>C</td>\n",
       "      <td>Urban</td>\n",
       "      <td>...</td>\n",
       "      <td>33</td>\n",
       "      <td>(30, 40]</td>\n",
       "      <td>Q2</td>\n",
       "      <td>(0, 1000000]</td>\n",
       "      <td>&lt;10l</td>\n",
       "      <td>(0.4, 0.5]</td>\n",
       "      <td>(7.8, 13.6]</td>\n",
       "      <td>(1200.0, 7080.0]</td>\n",
       "      <td>1-7k</td>\n",
       "      <td>0</td>\n",
       "    </tr>\n",
       "    <tr>\n",
       "      <th>1</th>\n",
       "      <td>41492</td>\n",
       "      <td>0.010</td>\n",
       "      <td>315150</td>\n",
       "      <td>0</td>\n",
       "      <td>0</td>\n",
       "      <td>0</td>\n",
       "      <td>99.89</td>\n",
       "      <td>21</td>\n",
       "      <td>A</td>\n",
       "      <td>Urban</td>\n",
       "      <td>...</td>\n",
       "      <td>59</td>\n",
       "      <td>(50, 60]</td>\n",
       "      <td>Q4</td>\n",
       "      <td>(0, 1000000]</td>\n",
       "      <td>&lt;10l</td>\n",
       "      <td>(-0.001, 0.1]</td>\n",
       "      <td>(19.4, 25.2]</td>\n",
       "      <td>(12960.0, 18840.0]</td>\n",
       "      <td>12-18k</td>\n",
       "      <td>0</td>\n",
       "    </tr>\n",
       "    <tr>\n",
       "      <th>2</th>\n",
       "      <td>31300</td>\n",
       "      <td>0.917</td>\n",
       "      <td>84140</td>\n",
       "      <td>2</td>\n",
       "      <td>3</td>\n",
       "      <td>1</td>\n",
       "      <td>98.69</td>\n",
       "      <td>7</td>\n",
       "      <td>C</td>\n",
       "      <td>Rural</td>\n",
       "      <td>...</td>\n",
       "      <td>48</td>\n",
       "      <td>(40, 50]</td>\n",
       "      <td>Q3</td>\n",
       "      <td>(0, 1000000]</td>\n",
       "      <td>&lt;10l</td>\n",
       "      <td>(0.9, 1.0]</td>\n",
       "      <td>(1.999, 7.8]</td>\n",
       "      <td>(1200.0, 7080.0]</td>\n",
       "      <td>1-7k</td>\n",
       "      <td>6</td>\n",
       "    </tr>\n",
       "    <tr>\n",
       "      <th>3</th>\n",
       "      <td>19415</td>\n",
       "      <td>0.049</td>\n",
       "      <td>250510</td>\n",
       "      <td>0</td>\n",
       "      <td>0</td>\n",
       "      <td>0</td>\n",
       "      <td>99.57</td>\n",
       "      <td>9</td>\n",
       "      <td>A</td>\n",
       "      <td>Urban</td>\n",
       "      <td>...</td>\n",
       "      <td>42</td>\n",
       "      <td>(40, 50]</td>\n",
       "      <td>Q3</td>\n",
       "      <td>(0, 1000000]</td>\n",
       "      <td>&lt;10l</td>\n",
       "      <td>(-0.001, 0.1]</td>\n",
       "      <td>(7.8, 13.6]</td>\n",
       "      <td>(7080.0, 12960.0]</td>\n",
       "      <td>7-12k</td>\n",
       "      <td>0</td>\n",
       "    </tr>\n",
       "    <tr>\n",
       "      <th>4</th>\n",
       "      <td>99379</td>\n",
       "      <td>0.052</td>\n",
       "      <td>198680</td>\n",
       "      <td>0</td>\n",
       "      <td>0</td>\n",
       "      <td>0</td>\n",
       "      <td>99.87</td>\n",
       "      <td>12</td>\n",
       "      <td>B</td>\n",
       "      <td>Urban</td>\n",
       "      <td>...</td>\n",
       "      <td>86</td>\n",
       "      <td>(80, 90]</td>\n",
       "      <td>Q7</td>\n",
       "      <td>(0, 1000000]</td>\n",
       "      <td>&lt;10l</td>\n",
       "      <td>(-0.001, 0.1]</td>\n",
       "      <td>(7.8, 13.6]</td>\n",
       "      <td>(7080.0, 12960.0]</td>\n",
       "      <td>7-12k</td>\n",
       "      <td>0</td>\n",
       "    </tr>\n",
       "  </tbody>\n",
       "</table>\n",
       "<p>5 rows × 22 columns</p>\n",
       "</div>"
      ],
      "text/plain": [
       "       id  perc_premium_paid_by_cash_credit  Income  Count_3-6_months_late  \\\n",
       "0  110936                             0.429  355060                      0   \n",
       "1   41492                             0.010  315150                      0   \n",
       "2   31300                             0.917   84140                      2   \n",
       "3   19415                             0.049  250510                      0   \n",
       "4   99379                             0.052  198680                      0   \n",
       "\n",
       "   Count_6-12_months_late  Count_more_than_12_months_late  \\\n",
       "0                       0                               0   \n",
       "1                       0                               0   \n",
       "2                       3                               1   \n",
       "3                       0                               0   \n",
       "4                       0                               0   \n",
       "\n",
       "   application_underwriting_score  no_of_premiums_paid sourcing_channel  \\\n",
       "0                           99.02                   13                C   \n",
       "1                           99.89                   21                A   \n",
       "2                           98.69                    7                C   \n",
       "3                           99.57                    9                A   \n",
       "4                           99.87                   12                B   \n",
       "\n",
       "  residence_area_type  ...  Age  Age_disc  Age_disc_labels   Income_disc  \\\n",
       "0               Urban  ...   33  (30, 40]               Q2  (0, 1000000]   \n",
       "1               Urban  ...   59  (50, 60]               Q4  (0, 1000000]   \n",
       "2               Rural  ...   48  (40, 50]               Q3  (0, 1000000]   \n",
       "3               Urban  ...   42  (40, 50]               Q3  (0, 1000000]   \n",
       "4               Urban  ...   86  (80, 90]               Q7  (0, 1000000]   \n",
       "\n",
       "  Income_disc_labels perc_premium_paid_by_cash_credit_disc  \\\n",
       "0               <10l                            (0.4, 0.5]   \n",
       "1               <10l                         (-0.001, 0.1]   \n",
       "2               <10l                            (0.9, 1.0]   \n",
       "3               <10l                         (-0.001, 0.1]   \n",
       "4               <10l                         (-0.001, 0.1]   \n",
       "\n",
       "  no_of_prem_paid_disc        Premium_disc Premium_disc_labels  \\\n",
       "0          (7.8, 13.6]    (1200.0, 7080.0]                1-7k   \n",
       "1         (19.4, 25.2]  (12960.0, 18840.0]              12-18k   \n",
       "2         (1.999, 7.8]    (1200.0, 7080.0]                1-7k   \n",
       "3          (7.8, 13.6]   (7080.0, 12960.0]               7-12k   \n",
       "4          (7.8, 13.6]   (7080.0, 12960.0]               7-12k   \n",
       "\n",
       "  Count_total_premiums_paid_late  \n",
       "0                              0  \n",
       "1                              0  \n",
       "2                              6  \n",
       "3                              0  \n",
       "4                              0  \n",
       "\n",
       "[5 rows x 22 columns]"
      ]
     },
     "execution_count": 4,
     "metadata": {},
     "output_type": "execute_result"
    }
   ],
   "source": [
    "customer_data.head()"
   ]
  },
  {
   "cell_type": "code",
   "execution_count": 50,
   "metadata": {},
   "outputs": [
    {
     "name": "stdout",
     "output_type": "stream",
     "text": [
      "(55897, 3) (23956, 3)\n",
      "(55897,) (23956,)\n"
     ]
    }
   ],
   "source": [
    "#Splitiing into train and test data before doing encoding on categorical values.\n",
    "X=customer_data[['perc_premium_paid_by_cash_credit','no_of_premiums_paid','Count_total_premiums_paid_late']]\n",
    "y=customer_data.target\n",
    "X_train, X_test, y_train, y_test = train_test_split(X, y, test_size=0.3,\n",
    "                                                    random_state=0)\n",
    "print(X_train.shape, X_test.shape)\n",
    "print(y_train.shape,y_test.shape)"
   ]
  },
  {
   "cell_type": "code",
   "execution_count": 51,
   "metadata": {},
   "outputs": [
    {
     "name": "stdout",
     "output_type": "stream",
     "text": [
      "perc_premium_paid_by_cash_credit    1.650234\n",
      "no_of_premiums_paid                 1.494922\n",
      "Count_total_premiums_paid_late      1.237535\n",
      "dtype: float64\n"
     ]
    }
   ],
   "source": [
    "from statsmodels.stats.outliers_influence import variance_inflation_factor\n",
    "vif = [variance_inflation_factor(X.values, i) for i in range(X.shape[1])] ## Replace X with your indepedent data type\n",
    "vif_s =pd.Series(vif, index =X.columns)\n",
    "print(vif_s)"
   ]
  },
  {
   "cell_type": "code",
   "execution_count": 52,
   "metadata": {},
   "outputs": [],
   "source": [
    "#Before calling the logistic regressor lets do the standard scaling\n",
    "from sklearn.preprocessing import StandardScaler\n",
    "X_train_m1=X_train\n",
    "X_test_m1=X_test\n",
    "y_train_m1=y_train\n",
    "y_test_m1=y_test\n",
    "\n",
    "# set up the scaler\n",
    "scaler = StandardScaler()"
   ]
  },
  {
   "cell_type": "code",
   "execution_count": 53,
   "metadata": {},
   "outputs": [],
   "source": [
    "\n",
    "# fit and transform train and test sets\n",
    "X_train_scaled=scaler.fit_transform(X_train_m1)\n",
    "X_test_scaled=scaler.fit_transform(X_test_m1)\n",
    "\n",
    "# let's transform the returned NumPy arrays to dataframes \n",
    "\n",
    "X_train_scaled = pd.DataFrame(X_train_scaled, columns=X_train.columns)\n",
    "X_test_scaled = pd.DataFrame(X_test_scaled, columns=X_test.columns)"
   ]
  },
  {
   "cell_type": "code",
   "execution_count": 54,
   "metadata": {},
   "outputs": [
    {
     "data": {
      "text/html": [
       "<div>\n",
       "<style scoped>\n",
       "    .dataframe tbody tr th:only-of-type {\n",
       "        vertical-align: middle;\n",
       "    }\n",
       "\n",
       "    .dataframe tbody tr th {\n",
       "        vertical-align: top;\n",
       "    }\n",
       "\n",
       "    .dataframe thead th {\n",
       "        text-align: right;\n",
       "    }\n",
       "</style>\n",
       "<table border=\"1\" class=\"dataframe\">\n",
       "  <thead>\n",
       "    <tr style=\"text-align: right;\">\n",
       "      <th></th>\n",
       "      <th>perc_premium_paid_by_cash_credit</th>\n",
       "      <th>no_of_premiums_paid</th>\n",
       "      <th>Count_total_premiums_paid_late</th>\n",
       "    </tr>\n",
       "  </thead>\n",
       "  <tbody>\n",
       "    <tr>\n",
       "      <th>0</th>\n",
       "      <td>0.839170</td>\n",
       "      <td>1.182199</td>\n",
       "      <td>-0.367055</td>\n",
       "    </tr>\n",
       "    <tr>\n",
       "      <th>1</th>\n",
       "      <td>1.550154</td>\n",
       "      <td>0.409076</td>\n",
       "      <td>2.483884</td>\n",
       "    </tr>\n",
       "    <tr>\n",
       "      <th>2</th>\n",
       "      <td>0.435880</td>\n",
       "      <td>-0.364048</td>\n",
       "      <td>-0.367055</td>\n",
       "    </tr>\n",
       "    <tr>\n",
       "      <th>3</th>\n",
       "      <td>-0.935304</td>\n",
       "      <td>-1.523733</td>\n",
       "      <td>1.533571</td>\n",
       "    </tr>\n",
       "    <tr>\n",
       "      <th>4</th>\n",
       "      <td>-0.872571</td>\n",
       "      <td>-0.170767</td>\n",
       "      <td>-0.367055</td>\n",
       "    </tr>\n",
       "  </tbody>\n",
       "</table>\n",
       "</div>"
      ],
      "text/plain": [
       "   perc_premium_paid_by_cash_credit  no_of_premiums_paid  \\\n",
       "0                          0.839170             1.182199   \n",
       "1                          1.550154             0.409076   \n",
       "2                          0.435880            -0.364048   \n",
       "3                         -0.935304            -1.523733   \n",
       "4                         -0.872571            -0.170767   \n",
       "\n",
       "   Count_total_premiums_paid_late  \n",
       "0                       -0.367055  \n",
       "1                        2.483884  \n",
       "2                       -0.367055  \n",
       "3                        1.533571  \n",
       "4                       -0.367055  "
      ]
     },
     "execution_count": 54,
     "metadata": {},
     "output_type": "execute_result"
    }
   ],
   "source": [
    "X_train_scaled.head()"
   ]
  },
  {
   "cell_type": "code",
   "execution_count": 55,
   "metadata": {},
   "outputs": [],
   "source": [
    "from sklearn.linear_model import LogisticRegression"
   ]
  },
  {
   "cell_type": "code",
   "execution_count": 56,
   "metadata": {},
   "outputs": [],
   "source": [
    "classifier=LogisticRegression()"
   ]
  },
  {
   "cell_type": "code",
   "execution_count": 57,
   "metadata": {},
   "outputs": [
    {
     "data": {
      "text/plain": [
       "LogisticRegression()"
      ]
     },
     "execution_count": 57,
     "metadata": {},
     "output_type": "execute_result"
    }
   ],
   "source": [
    "classifier.fit(X_train_scaled,y_train)"
   ]
  },
  {
   "cell_type": "code",
   "execution_count": 58,
   "metadata": {},
   "outputs": [],
   "source": [
    "y_pred=classifier.predict(X_test)"
   ]
  },
  {
   "cell_type": "code",
   "execution_count": 59,
   "metadata": {},
   "outputs": [],
   "source": [
    "from sklearn.metrics import accuracy_score,confusion_matrix,precision_score,recall_score,f1_score,log_loss"
   ]
  },
  {
   "cell_type": "code",
   "execution_count": 60,
   "metadata": {},
   "outputs": [
    {
     "data": {
      "text/plain": [
       "0.9340457505426616"
      ]
     },
     "execution_count": 60,
     "metadata": {},
     "output_type": "execute_result"
    }
   ],
   "source": [
    "accuracy_score(y_test,y_pred)"
   ]
  },
  {
   "cell_type": "code",
   "execution_count": 61,
   "metadata": {},
   "outputs": [
    {
     "data": {
      "text/plain": [
       "0.9483372666809697"
      ]
     },
     "execution_count": 61,
     "metadata": {},
     "output_type": "execute_result"
    }
   ],
   "source": [
    "precision_score(y_test,y_pred)"
   ]
  },
  {
   "cell_type": "code",
   "execution_count": 62,
   "metadata": {},
   "outputs": [
    {
     "data": {
      "text/plain": [
       "0.9654886199816521"
      ]
     },
     "execution_count": 62,
     "metadata": {},
     "output_type": "execute_result"
    }
   ],
   "source": [
    "f1_score(y_test,y_pred)"
   ]
  },
  {
   "cell_type": "code",
   "execution_count": 63,
   "metadata": {},
   "outputs": [
    {
     "data": {
      "text/plain": [
       "array([[  275,  1204],\n",
       "       [  376, 22101]], dtype=int64)"
      ]
     },
     "execution_count": 63,
     "metadata": {},
     "output_type": "execute_result"
    }
   ],
   "source": [
    "confusion_matrix(y_test,y_pred)"
   ]
  },
  {
   "cell_type": "code",
   "execution_count": 64,
   "metadata": {},
   "outputs": [
    {
     "data": {
      "text/plain": [
       "2.278019261114746"
      ]
     },
     "execution_count": 64,
     "metadata": {},
     "output_type": "execute_result"
    }
   ],
   "source": [
    "log_loss(y_test,y_pred)"
   ]
  },
  {
   "cell_type": "code",
   "execution_count": 65,
   "metadata": {},
   "outputs": [
    {
     "data": {
      "text/plain": [
       "0.9832717889398052"
      ]
     },
     "execution_count": 65,
     "metadata": {},
     "output_type": "execute_result"
    }
   ],
   "source": [
    "recall_score(y_test,y_pred)"
   ]
  },
  {
   "cell_type": "code",
   "execution_count": 66,
   "metadata": {},
   "outputs": [],
   "source": [
    "from sklearn.tree import DecisionTreeClassifier"
   ]
  },
  {
   "cell_type": "code",
   "execution_count": 67,
   "metadata": {},
   "outputs": [],
   "source": [
    "classifier1=DecisionTreeClassifier()"
   ]
  },
  {
   "cell_type": "code",
   "execution_count": 68,
   "metadata": {},
   "outputs": [
    {
     "data": {
      "text/plain": [
       "DecisionTreeClassifier()"
      ]
     },
     "execution_count": 68,
     "metadata": {},
     "output_type": "execute_result"
    }
   ],
   "source": [
    "classifier1.fit(X_train_scaled,y_train)"
   ]
  },
  {
   "cell_type": "code",
   "execution_count": 70,
   "metadata": {},
   "outputs": [],
   "source": [
    "y_pred=classifier1.predict(X_test_scaled)"
   ]
  },
  {
   "cell_type": "code",
   "execution_count": 71,
   "metadata": {},
   "outputs": [
    {
     "name": "stdout",
     "output_type": "stream",
     "text": [
      "0.9474774179334655\n",
      "0.9095842377692436\n",
      "0.9520499424422209\n"
     ]
    }
   ],
   "source": [
    "print(precision_score(y_test,y_pred))\n",
    "print(accuracy_score(y_test,y_pred))\n",
    "print(f1_score(y_test,y_pred))"
   ]
  },
  {
   "cell_type": "code",
   "execution_count": 72,
   "metadata": {},
   "outputs": [
    {
     "name": "stdout",
     "output_type": "stream",
     "text": [
      "[[  287  1192]\n",
      " [  974 21503]]\n"
     ]
    }
   ],
   "source": [
    "print(confusion_matrix(y_test,y_pred))"
   ]
  },
  {
   "cell_type": "code",
   "execution_count": null,
   "metadata": {},
   "outputs": [],
   "source": []
  }
 ],
 "metadata": {
  "kernelspec": {
   "display_name": "Python 3",
   "language": "python",
   "name": "python3"
  },
  "language_info": {
   "codemirror_mode": {
    "name": "ipython",
    "version": 3
   },
   "file_extension": ".py",
   "mimetype": "text/x-python",
   "name": "python",
   "nbconvert_exporter": "python",
   "pygments_lexer": "ipython3",
   "version": "3.8.5"
  }
 },
 "nbformat": 4,
 "nbformat_minor": 4
}
