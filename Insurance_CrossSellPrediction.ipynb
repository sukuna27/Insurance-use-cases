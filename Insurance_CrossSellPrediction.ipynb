{
 "cells": [
  {
   "cell_type": "markdown",
   "metadata": {},
   "source": [
    "# Problem Statement:\n",
    "\n",
    "Your Client FinMan is a financial services company that provides various financial services like loan, investment funds, insurance etc. to its customers. FinMan wishes to cross-sell health insurance to the existing customers who may or may not hold insurance policies with the company. The company recommend health insurance to it's customers based on their profile once these customers land on the website. Customers might browse the recommended health insurance policy and consequently fill up a form to apply. When these customers fill-up the form, their Response towards the policy is considered positive and they are classified as a lead.\n",
    "\n",
    "Once these leads are acquired, the sales advisors approach them to convert and thus the company can sell proposed health insurance to these leads in a more efficient manner.\n",
    "\n",
    "Now the company needs your help in building a model to predict whether the person will be interested in their proposed Health plan/policy given the information about:\n",
    "\n",
    "Demographics (city, age, region etc.)\n",
    "Information regarding holding policies of the customer\n",
    "Recommended Policy Information"
   ]
  },
  {
   "cell_type": "code",
   "execution_count": 1,
   "metadata": {},
   "outputs": [],
   "source": [
    "#import necessary libraries\n",
    "import pandas as pd\n",
    "import numpy as np\n",
    "#For visualization\n",
    "import seaborn as sns\n",
    "import matplotlib.pyplot as plt\n",
    "# the scaler - for min-max scaling\n",
    "from sklearn.preprocessing import RobustScaler\n",
    "#For model building\n",
    "from sklearn.model_selection import train_test_split\n",
    "from sklearn.linear_model import LogisticRegression\n",
    "from sklearn.tree import DecisionTreeClassifier\n",
    "from sklearn.neighbors import KNeighborsClassifier\n",
    "from sklearn.ensemble import RandomForestClassifier,GradientBoostingClassifier\n",
    "from sklearn.ensemble import VotingClassifier\n",
    "from sklearn.metrics import roc_auc_score,roc_curve\n",
    "#To ignore warnings\n",
    "import warnings\n",
    "warnings.filterwarnings('ignore')"
   ]
  },
  {
   "cell_type": "code",
   "execution_count": 2,
   "metadata": {},
   "outputs": [],
   "source": [
    "#Configurations\n",
    "file_path_train = r'C:\\Users\\ADMIN\\Jobathon\\train_Df64byy.csv'\n",
    "file_path_test = r'C:\\Users\\ADMIN\\Jobathon\\test_YCcRUnU.csv'\n",
    "file_path_SampleSubmission = r'C:\\Users\\ADMIN\\Jobathon\\sample_submission_QrCyCoT.csv'"
   ]
  },
  {
   "cell_type": "code",
   "execution_count": 3,
   "metadata": {},
   "outputs": [],
   "source": [
    "#Read the input files\n",
    "X_train = pd.read_csv(file_path_train)\n",
    "X_test = pd.read_csv(file_path_test)\n",
    "submission = pd.read_csv(file_path_SampleSubmission)"
   ]
  },
  {
   "cell_type": "code",
   "execution_count": 4,
   "metadata": {},
   "outputs": [
    {
     "data": {
      "text/html": [
       "<div>\n",
       "<style scoped>\n",
       "    .dataframe tbody tr th:only-of-type {\n",
       "        vertical-align: middle;\n",
       "    }\n",
       "\n",
       "    .dataframe tbody tr th {\n",
       "        vertical-align: top;\n",
       "    }\n",
       "\n",
       "    .dataframe thead th {\n",
       "        text-align: right;\n",
       "    }\n",
       "</style>\n",
       "<table border=\"1\" class=\"dataframe\">\n",
       "  <thead>\n",
       "    <tr style=\"text-align: right;\">\n",
       "      <th></th>\n",
       "      <th>count</th>\n",
       "      <th>mean</th>\n",
       "      <th>std</th>\n",
       "      <th>min</th>\n",
       "      <th>25%</th>\n",
       "      <th>50%</th>\n",
       "      <th>75%</th>\n",
       "      <th>max</th>\n",
       "    </tr>\n",
       "  </thead>\n",
       "  <tbody>\n",
       "    <tr>\n",
       "      <th>ID</th>\n",
       "      <td>50882.0</td>\n",
       "      <td>25441.500000</td>\n",
       "      <td>14688.512535</td>\n",
       "      <td>1.0</td>\n",
       "      <td>12721.25</td>\n",
       "      <td>25441.5</td>\n",
       "      <td>38161.75</td>\n",
       "      <td>50882.0</td>\n",
       "    </tr>\n",
       "    <tr>\n",
       "      <th>Region_Code</th>\n",
       "      <td>50882.0</td>\n",
       "      <td>1732.788707</td>\n",
       "      <td>1424.081652</td>\n",
       "      <td>1.0</td>\n",
       "      <td>523.00</td>\n",
       "      <td>1391.0</td>\n",
       "      <td>2667.00</td>\n",
       "      <td>6194.0</td>\n",
       "    </tr>\n",
       "    <tr>\n",
       "      <th>Upper_Age</th>\n",
       "      <td>50882.0</td>\n",
       "      <td>44.856275</td>\n",
       "      <td>17.310271</td>\n",
       "      <td>18.0</td>\n",
       "      <td>28.00</td>\n",
       "      <td>44.0</td>\n",
       "      <td>59.00</td>\n",
       "      <td>75.0</td>\n",
       "    </tr>\n",
       "    <tr>\n",
       "      <th>Lower_Age</th>\n",
       "      <td>50882.0</td>\n",
       "      <td>42.738866</td>\n",
       "      <td>17.319375</td>\n",
       "      <td>16.0</td>\n",
       "      <td>27.00</td>\n",
       "      <td>40.0</td>\n",
       "      <td>57.00</td>\n",
       "      <td>75.0</td>\n",
       "    </tr>\n",
       "    <tr>\n",
       "      <th>Holding_Policy_Type</th>\n",
       "      <td>30631.0</td>\n",
       "      <td>2.439228</td>\n",
       "      <td>1.025923</td>\n",
       "      <td>1.0</td>\n",
       "      <td>1.00</td>\n",
       "      <td>3.0</td>\n",
       "      <td>3.00</td>\n",
       "      <td>4.0</td>\n",
       "    </tr>\n",
       "    <tr>\n",
       "      <th>Reco_Policy_Cat</th>\n",
       "      <td>50882.0</td>\n",
       "      <td>15.115188</td>\n",
       "      <td>6.340663</td>\n",
       "      <td>1.0</td>\n",
       "      <td>12.00</td>\n",
       "      <td>17.0</td>\n",
       "      <td>20.00</td>\n",
       "      <td>22.0</td>\n",
       "    </tr>\n",
       "    <tr>\n",
       "      <th>Reco_Policy_Premium</th>\n",
       "      <td>50882.0</td>\n",
       "      <td>14183.950069</td>\n",
       "      <td>6590.074873</td>\n",
       "      <td>2280.0</td>\n",
       "      <td>9248.00</td>\n",
       "      <td>13178.0</td>\n",
       "      <td>18096.00</td>\n",
       "      <td>43350.4</td>\n",
       "    </tr>\n",
       "    <tr>\n",
       "      <th>Response</th>\n",
       "      <td>50882.0</td>\n",
       "      <td>0.239947</td>\n",
       "      <td>0.427055</td>\n",
       "      <td>0.0</td>\n",
       "      <td>0.00</td>\n",
       "      <td>0.0</td>\n",
       "      <td>0.00</td>\n",
       "      <td>1.0</td>\n",
       "    </tr>\n",
       "  </tbody>\n",
       "</table>\n",
       "</div>"
      ],
      "text/plain": [
       "                       count          mean           std     min       25%  \\\n",
       "ID                   50882.0  25441.500000  14688.512535     1.0  12721.25   \n",
       "Region_Code          50882.0   1732.788707   1424.081652     1.0    523.00   \n",
       "Upper_Age            50882.0     44.856275     17.310271    18.0     28.00   \n",
       "Lower_Age            50882.0     42.738866     17.319375    16.0     27.00   \n",
       "Holding_Policy_Type  30631.0      2.439228      1.025923     1.0      1.00   \n",
       "Reco_Policy_Cat      50882.0     15.115188      6.340663     1.0     12.00   \n",
       "Reco_Policy_Premium  50882.0  14183.950069   6590.074873  2280.0   9248.00   \n",
       "Response             50882.0      0.239947      0.427055     0.0      0.00   \n",
       "\n",
       "                         50%       75%      max  \n",
       "ID                   25441.5  38161.75  50882.0  \n",
       "Region_Code           1391.0   2667.00   6194.0  \n",
       "Upper_Age               44.0     59.00     75.0  \n",
       "Lower_Age               40.0     57.00     75.0  \n",
       "Holding_Policy_Type      3.0      3.00      4.0  \n",
       "Reco_Policy_Cat         17.0     20.00     22.0  \n",
       "Reco_Policy_Premium  13178.0  18096.00  43350.4  \n",
       "Response                 0.0      0.00      1.0  "
      ]
     },
     "execution_count": 4,
     "metadata": {},
     "output_type": "execute_result"
    }
   ],
   "source": [
    "X_train.describe().T"
   ]
  },
  {
   "cell_type": "markdown",
   "metadata": {},
   "source": [
    "Columns 'Region_Code','Holding_Policy_Type' 'Reco_Policy_Cat' and 'Response' are not continuous in nature.Lets convert these dtypes to categorical."
   ]
  },
  {
   "cell_type": "code",
   "execution_count": 5,
   "metadata": {},
   "outputs": [],
   "source": [
    "#changing numerical categorical columns into category type object\n",
    "for col in ['Region_Code', 'Holding_Policy_Type', 'Reco_Policy_Cat','Response']:\n",
    "    X_train[col] = X_train[col].astype('object')\n",
    "#Changing the same for X_test\n",
    "for col in ['Region_Code', 'Holding_Policy_Type', 'Reco_Policy_Cat']:\n",
    "    X_test[col] = X_test[col].astype('object')"
   ]
  },
  {
   "cell_type": "code",
   "execution_count": 6,
   "metadata": {},
   "outputs": [
    {
     "name": "stdout",
     "output_type": "stream",
     "text": [
      "<class 'pandas.core.frame.DataFrame'>\n",
      "RangeIndex: 50882 entries, 0 to 50881\n",
      "Data columns (total 14 columns):\n",
      " #   Column                   Non-Null Count  Dtype  \n",
      "---  ------                   --------------  -----  \n",
      " 0   ID                       50882 non-null  int64  \n",
      " 1   City_Code                50882 non-null  object \n",
      " 2   Region_Code              50882 non-null  object \n",
      " 3   Accomodation_Type        50882 non-null  object \n",
      " 4   Reco_Insurance_Type      50882 non-null  object \n",
      " 5   Upper_Age                50882 non-null  int64  \n",
      " 6   Lower_Age                50882 non-null  int64  \n",
      " 7   Is_Spouse                50882 non-null  object \n",
      " 8   Health Indicator         39191 non-null  object \n",
      " 9   Holding_Policy_Duration  30631 non-null  object \n",
      " 10  Holding_Policy_Type      30631 non-null  object \n",
      " 11  Reco_Policy_Cat          50882 non-null  object \n",
      " 12  Reco_Policy_Premium      50882 non-null  float64\n",
      " 13  Response                 50882 non-null  object \n",
      "dtypes: float64(1), int64(3), object(10)\n",
      "memory usage: 5.4+ MB\n"
     ]
    }
   ],
   "source": [
    "#Getting an overview of data\n",
    "X_train.info()"
   ]
  },
  {
   "cell_type": "markdown",
   "metadata": {},
   "source": [
    "Health indicator,Holding_Policy_Duration and Holding_Policy_Type columns have missing values."
   ]
  },
  {
   "cell_type": "markdown",
   "metadata": {},
   "source": [
    "# EDA"
   ]
  },
  {
   "cell_type": "markdown",
   "metadata": {},
   "source": [
    "# Visualization of Continuous Variables"
   ]
  },
  {
   "cell_type": "code",
   "execution_count": 7,
   "metadata": {},
   "outputs": [
    {
     "data": {
      "text/plain": [
       "Index(['ID', 'Upper_Age', 'Lower_Age', 'Reco_Policy_Premium'], dtype='object')"
      ]
     },
     "execution_count": 7,
     "metadata": {},
     "output_type": "execute_result"
    }
   ],
   "source": [
    "Numerical_columns=X_train.select_dtypes(include='number').columns\n",
    "Numerical_columns"
   ]
  },
  {
   "cell_type": "code",
   "execution_count": 8,
   "metadata": {},
   "outputs": [],
   "source": [
    "#Dropping the id column as it does not contain any information\n",
    "Numerical_columns=Numerical_columns.drop('ID')"
   ]
  },
  {
   "cell_type": "code",
   "execution_count": 9,
   "metadata": {},
   "outputs": [
    {
     "data": {
      "text/plain": [
       "Index(['Upper_Age', 'Lower_Age', 'Reco_Policy_Premium'], dtype='object')"
      ]
     },
     "execution_count": 9,
     "metadata": {},
     "output_type": "execute_result"
    }
   ],
   "source": [
    "Numerical_columns"
   ]
  },
  {
   "cell_type": "markdown",
   "metadata": {},
   "source": [
    "Analysing numerical columns wrt target"
   ]
  },
  {
   "cell_type": "code",
   "execution_count": 10,
   "metadata": {},
   "outputs": [],
   "source": [
    "#Method to draw stripplot\n",
    "def bivariate_stripplot(columns,target):\n",
    "    fig, axes = plt.subplots(2,2, figsize=(20,10)) # Divide the plot into 2 rows, 2 columns\n",
    "    # Draw the plot in first row second column\n",
    "    sns.stripplot(ax=axes[0,0],x=target , y = columns[0], data = X_train)\n",
    "    axes[0,0].set_title(columns[0])\n",
    "    if len(columns)>1:\n",
    "        sns.stripplot( ax=axes[0,1],x=target , y = columns[1], data = X_train)\n",
    "        axes[0,1].set_title(columns[1])\n",
    "    if len(columns)>2:\n",
    "        sns.stripplot( ax=axes[1,0],x=target , y = columns[2], data = X_train)\n",
    "        axes[1,0].set_title(columns[2])\n",
    "    if len(columns)>3:\n",
    "        sns.stripplot( ax=axes[1,1],x=target , y = columns[3], data = X_train)\n",
    "        axes[1,1].set_title(columns[3])"
   ]
  },
  {
   "cell_type": "code",
   "execution_count": 11,
   "metadata": {},
   "outputs": [
    {
     "data": {
      "image/png": "[encoded data removed]",
      "text/plain": [
       "<Figure size 1440x720 with 4 Axes>"
      ]
     },
     "metadata": {
      "needs_background": "light"
     },
     "output_type": "display_data"
    }
   ],
   "source": [
    "#Drawing the plot for all numerical columns in the dataset\n",
    "temp=0\n",
    "length=len(Numerical_columns)\n",
    "if (length%4 == 0):\n",
    "    condition=length+1\n",
    "else:\n",
    "    condition=(length+(4-(length%4)))+1\n",
    "for i in range(4,condition,4):\n",
    "    if i<length:\n",
    "        bivariate_stripplot(Numerical_columns[temp:i],'Response')\n",
    "    else:\n",
    "        bivariate_stripplot(Numerical_columns[temp:length],'Response')\n",
    "    temp=i"
   ]
  },
  {
   "cell_type": "code",
   "execution_count": 12,
   "metadata": {},
   "outputs": [],
   "source": [
    "def disc_EqualWidth(customer_data,variable):\n",
    "    # now let's capture the lower and upper boundaries\n",
    "    min_value = int(np.floor(customer_data[variable].min()))\n",
    "    max_value = int(np.ceil(customer_data[variable].max()))\n",
    "    range_value = max_value - min_value\n",
    "    # let's round the bin width\n",
    "    inter_value = int(np.round(range_value/10))\n",
    "    intervals = [i for i in range(min_value, max_value+inter_value, inter_value)]\n",
    "    labels = ['Bin_'+str(i) for i in range(1,len(intervals))]\n",
    "    # create one column with labels\n",
    "    customer_data[variable+'_disc_label'] = pd.cut(x = customer_data[variable], bins=intervals, labels=labels, include_lowest=True)\n",
    "    # and one with bin boundaries\n",
    "    customer_data[variable+'_disc'] = pd.cut(x = customer_data[variable], bins=intervals, include_lowest=True)"
   ]
  },
  {
   "cell_type": "code",
   "execution_count": 13,
   "metadata": {},
   "outputs": [],
   "source": [
    "#Discretisation of numerical columns\n",
    "for cols in Numerical_columns:\n",
    "    disc_EqualWidth(X_train,cols)"
   ]
  },
  {
   "cell_type": "code",
   "execution_count": 14,
   "metadata": {},
   "outputs": [],
   "source": [
    "#Creating a list of discretised numerical columns\n",
    "Numerical_columns_disc=Numerical_columns+'_disc'"
   ]
  },
  {
   "cell_type": "code",
   "execution_count": 15,
   "metadata": {},
   "outputs": [],
   "source": [
    "def bivariate_count(columns,target):\n",
    "    fig, axes = plt.subplots(2,2, figsize=(20,15)) # Divide the plot into 2 rows, 2 columns\n",
    "    # Draw the plot in first row second column\n",
    "    axes[0,0].tick_params('x', labelrotation=90)\n",
    "    sns.countplot(ax=axes[0,0],x=columns[0], hue=target, data = X_train)\n",
    "    if len(columns)>1:\n",
    "        axes[0,1].tick_params('x', labelrotation=90)\n",
    "        sns.countplot( ax=axes[0,1],x = columns[1],hue=target, data = X_train)\n",
    "    if len(columns)>2:\n",
    "        axes[1,0].tick_params('x', labelrotation=90)\n",
    "        sns.countplot( ax=axes[1,0],x = columns[2],hue=target, data = X_train)\n",
    "    if len(columns)>3:\n",
    "        axes[1,1].tick_params('x', labelrotation=90)\n",
    "        sns.countplot( ax=axes[1,1],x = columns[3],hue=target, data = X_train)"
   ]
  },
  {
   "cell_type": "code",
   "execution_count": 16,
   "metadata": {},
   "outputs": [
    {
     "data": {
      "image/png": "[encoded data removed]",
      "text/plain": [
       "<Figure size 1440x1080 with 4 Axes>"
      ]
     },
     "metadata": {
      "needs_background": "light"
     },
     "output_type": "display_data"
    }
   ],
   "source": [
    "#Drawing a plot for the discretised numeric columns\n",
    "temp=0\n",
    "length=len(Numerical_columns_disc)\n",
    "if (length%4 == 0):\n",
    "    condition=length+1\n",
    "else:\n",
    "    condition=(length+(4-(length%4)))+1\n",
    "for i in range(4,condition,4):\n",
    "    if i<length:\n",
    "        bivariate_count(Numerical_columns_disc[temp:i],'Response')\n",
    "    else:\n",
    "        bivariate_count(Numerical_columns_disc[temp:length],'Response')\n",
    "    temp=i"
   ]
  },
  {
   "cell_type": "markdown",
   "metadata": {},
   "source": [
    "Proportion of people with response 1 is same in all the age groups for both upper and lower age.'Reco_Policy_Premium' looks like having different impact on different premium groups.Lets reiterate the same with the calculations below."
   ]
  },
  {
   "cell_type": "code",
   "execution_count": 17,
   "metadata": {},
   "outputs": [],
   "source": [
    "#Calculating the percentage of people in each category of response.\n",
    "def calc_perc(colname,target):\n",
    "    df1=pd.DataFrame(X_train.groupby([colname])[target])\n",
    "    df1['perc']=0.0\n",
    "    df1['target_total']=0\n",
    "    df1['target_yes']=0\n",
    "    df1['target_no']=0\n",
    "    for i in range(0,len(df1)):\n",
    "        df2=df1[1][i]\n",
    "        total=len(df2)\n",
    "        if(total==0):\n",
    "            total=1\n",
    "        df2=df2[df2==1]\n",
    "        count_yes=len(df2)\n",
    "        df1['target_total'][i]=total\n",
    "        df1['target_yes'][i]=count_yes\n",
    "        df1['target_no'][i]=total-count_yes\n",
    "        df1['perc'][i]=(count_yes/total)*100\n",
    "    df1.rename(columns={0:colname},inplace=True)\n",
    "    df1=df1.iloc[:,[0,2,3,4,5]]\n",
    "    df1=df1.sort_values(by='perc',ascending=False)\n",
    "    return df1"
   ]
  },
  {
   "cell_type": "code",
   "execution_count": 18,
   "metadata": {},
   "outputs": [
    {
     "data": {
      "text/plain": [
       "0    38673\n",
       "1    12209\n",
       "Name: Response, dtype: int64"
      ]
     },
     "execution_count": 18,
     "metadata": {},
     "output_type": "execute_result"
    }
   ],
   "source": [
    "X_train['Response'].value_counts()"
   ]
  },
  {
   "cell_type": "markdown",
   "metadata": {},
   "source": [
    "We dont have the problem of class imbalance here."
   ]
  },
  {
   "cell_type": "code",
   "execution_count": 19,
   "metadata": {},
   "outputs": [
    {
     "name": "stdout",
     "output_type": "stream",
     "text": [
      "   Upper_Age_disc       perc  target_total  target_yes  target_no\n",
      "2    (30.0, 36.0]  25.302176          4964        1256       3708\n",
      "4    (42.0, 48.0]  24.534860          4891        1200       3691\n",
      "5    (48.0, 54.0]  24.423116          4897        1196       3701\n",
      "3    (36.0, 42.0]  24.350721          4505        1097       3408\n",
      "1    (24.0, 30.0]  24.248470          7518        1823       5695\n",
      "8    (66.0, 72.0]  24.188034          3510         849       2661\n",
      "7    (60.0, 66.0]  23.933543          4454        1066       3388\n",
      "6    (54.0, 60.0]  23.858921          4820        1150       3670\n",
      "9    (72.0, 78.0]  23.443878          3920         919       3001\n",
      "0  (17.999, 24.0]  22.328786          7403        1653       5750\n",
      "   Lower_Age_disc       perc  target_total  target_yes  target_no\n",
      "3    (34.0, 40.0]  25.090171          4436        1113       3323\n",
      "8    (64.0, 70.0]  24.930594          3602         898       2704\n",
      "2    (28.0, 34.0]  24.930411          5748        1433       4315\n",
      "6    (52.0, 58.0]  24.356738          4586        1117       3469\n",
      "4    (40.0, 46.0]  24.352100          4476        1090       3386\n",
      "0  (15.999, 22.0]  23.841528          5654        1348       4306\n",
      "5    (46.0, 52.0]  23.676759          4591        1087       3504\n",
      "1    (22.0, 28.0]  23.456662          9622        2257       7365\n",
      "9    (70.0, 76.0]  23.024831          3987         918       3069\n",
      "7    (58.0, 64.0]  22.679426          4180         948       3232\n",
      "   Reco_Policy_Premium_disc       perc  target_total  target_yes  target_no\n",
      "8        (35136.0, 39243.0]  28.571429           196          56        140\n",
      "6        (26922.0, 31029.0]  25.328330          1599         405       1194\n",
      "4        (18708.0, 22815.0]  24.622951          6100        1502       4598\n",
      "3        (14601.0, 18708.0]  24.239053          9889        2397       7492\n",
      "1         (6387.0, 10494.0]  24.149296         12137        2931       9206\n",
      "5        (22815.0, 26922.0]  23.853844          2901         692       2209\n",
      "7        (31029.0, 35136.0]  23.781388           677         161        516\n",
      "2        (10494.0, 14601.0]  23.710928         12509        2966       9543\n",
      "0        (2279.999, 6387.0]  22.585315          4835        1092       3743\n",
      "9        (39243.0, 43350.0]  18.421053            38           7         31\n",
      "10       (43350.0, 47457.0]   0.000000             1           0          1\n"
     ]
    }
   ],
   "source": [
    "for cols in Numerical_columns_disc:\n",
    "    df1=calc_perc(cols,'Response')\n",
    "    print(df1)"
   ]
  },
  {
   "cell_type": "markdown",
   "metadata": {},
   "source": [
    "From the above observations we can see that 'Upper_Age' and 'Lower_Age' columns have very less or negligible effect on the target.Both these columns have around 22-28 percent of people with the response as 1 across all age groups.\n",
    "Now lets do equal frequency discretisation of 'Reco_Policy_Premium' column to analyse further."
   ]
  },
  {
   "cell_type": "code",
   "execution_count": 20,
   "metadata": {},
   "outputs": [],
   "source": [
    "#Equal frequency discretisation\n",
    "def disc_EqualFreq(X_train,variable):\n",
    "    # create 10 labels, one for each quantile\n",
    "    labels = ['Q'+str(i+1) for i in range(0,10)]\n",
    "    X_train[variable+'_disc'], bins = pd.qcut(x=X_train[variable], q=10, retbins=True, precision=3, duplicates='drop')\n",
    "   "
   ]
  },
  {
   "cell_type": "code",
   "execution_count": 21,
   "metadata": {},
   "outputs": [],
   "source": [
    "disc_EqualFreq(X_train,'Reco_Policy_Premium')"
   ]
  },
  {
   "cell_type": "code",
   "execution_count": 22,
   "metadata": {},
   "outputs": [
    {
     "data": {
      "text/html": [
       "<div>\n",
       "<style scoped>\n",
       "    .dataframe tbody tr th:only-of-type {\n",
       "        vertical-align: middle;\n",
       "    }\n",
       "\n",
       "    .dataframe tbody tr th {\n",
       "        vertical-align: top;\n",
       "    }\n",
       "\n",
       "    .dataframe thead th {\n",
       "        text-align: right;\n",
       "    }\n",
       "</style>\n",
       "<table border=\"1\" class=\"dataframe\">\n",
       "  <thead>\n",
       "    <tr style=\"text-align: right;\">\n",
       "      <th></th>\n",
       "      <th>Reco_Policy_Premium_disc</th>\n",
       "      <th>perc</th>\n",
       "      <th>target_total</th>\n",
       "      <th>target_yes</th>\n",
       "      <th>target_no</th>\n",
       "    </tr>\n",
       "  </thead>\n",
       "  <tbody>\n",
       "    <tr>\n",
       "      <th>7</th>\n",
       "      <td>(16980.0, 19432.0]</td>\n",
       "      <td>25.196541</td>\n",
       "      <td>5088</td>\n",
       "      <td>1282</td>\n",
       "      <td>3806</td>\n",
       "    </tr>\n",
       "    <tr>\n",
       "      <th>1</th>\n",
       "      <td>(6480.0, 8400.0]</td>\n",
       "      <td>24.705882</td>\n",
       "      <td>5100</td>\n",
       "      <td>1260</td>\n",
       "      <td>3840</td>\n",
       "    </tr>\n",
       "    <tr>\n",
       "      <th>8</th>\n",
       "      <td>(19432.0, 23167.2]</td>\n",
       "      <td>24.552782</td>\n",
       "      <td>5087</td>\n",
       "      <td>1249</td>\n",
       "      <td>3838</td>\n",
       "    </tr>\n",
       "    <tr>\n",
       "      <th>9</th>\n",
       "      <td>(23167.2, 43350.4]</td>\n",
       "      <td>24.272799</td>\n",
       "      <td>5088</td>\n",
       "      <td>1235</td>\n",
       "      <td>3853</td>\n",
       "    </tr>\n",
       "    <tr>\n",
       "      <th>2</th>\n",
       "      <td>(8400.0, 9996.0]</td>\n",
       "      <td>24.119614</td>\n",
       "      <td>5083</td>\n",
       "      <td>1226</td>\n",
       "      <td>3857</td>\n",
       "    </tr>\n",
       "    <tr>\n",
       "      <th>5</th>\n",
       "      <td>(13178.0, 14976.0]</td>\n",
       "      <td>23.844187</td>\n",
       "      <td>5083</td>\n",
       "      <td>1212</td>\n",
       "      <td>3871</td>\n",
       "    </tr>\n",
       "    <tr>\n",
       "      <th>6</th>\n",
       "      <td>(14976.0, 16980.0]</td>\n",
       "      <td>23.682140</td>\n",
       "      <td>5084</td>\n",
       "      <td>1204</td>\n",
       "      <td>3880</td>\n",
       "    </tr>\n",
       "    <tr>\n",
       "      <th>4</th>\n",
       "      <td>(11502.0, 13178.0]</td>\n",
       "      <td>23.456303</td>\n",
       "      <td>5069</td>\n",
       "      <td>1189</td>\n",
       "      <td>3880</td>\n",
       "    </tr>\n",
       "    <tr>\n",
       "      <th>3</th>\n",
       "      <td>(9996.0, 11502.0]</td>\n",
       "      <td>23.437194</td>\n",
       "      <td>5103</td>\n",
       "      <td>1196</td>\n",
       "      <td>3907</td>\n",
       "    </tr>\n",
       "    <tr>\n",
       "      <th>0</th>\n",
       "      <td>(2279.999, 6480.0]</td>\n",
       "      <td>22.680008</td>\n",
       "      <td>5097</td>\n",
       "      <td>1156</td>\n",
       "      <td>3941</td>\n",
       "    </tr>\n",
       "  </tbody>\n",
       "</table>\n",
       "</div>"
      ],
      "text/plain": [
       "  Reco_Policy_Premium_disc       perc  target_total  target_yes  target_no\n",
       "7       (16980.0, 19432.0]  25.196541          5088        1282       3806\n",
       "1         (6480.0, 8400.0]  24.705882          5100        1260       3840\n",
       "8       (19432.0, 23167.2]  24.552782          5087        1249       3838\n",
       "9       (23167.2, 43350.4]  24.272799          5088        1235       3853\n",
       "2         (8400.0, 9996.0]  24.119614          5083        1226       3857\n",
       "5       (13178.0, 14976.0]  23.844187          5083        1212       3871\n",
       "6       (14976.0, 16980.0]  23.682140          5084        1204       3880\n",
       "4       (11502.0, 13178.0]  23.456303          5069        1189       3880\n",
       "3        (9996.0, 11502.0]  23.437194          5103        1196       3907\n",
       "0       (2279.999, 6480.0]  22.680008          5097        1156       3941"
      ]
     },
     "execution_count": 22,
     "metadata": {},
     "output_type": "execute_result"
    }
   ],
   "source": [
    "calc_perc('Reco_Policy_Premium_disc','Response')"
   ]
  },
  {
   "cell_type": "markdown",
   "metadata": {},
   "source": [
    "From the above we can see that 'Reco_Policy_Premium' has around 22-25 pecent of people with target 1 in all premium categories.This shows that this column has less impact on the response."
   ]
  },
  {
   "cell_type": "markdown",
   "metadata": {},
   "source": [
    "# Visualisation of Categorical Variables."
   ]
  },
  {
   "cell_type": "code",
   "execution_count": 23,
   "metadata": {},
   "outputs": [
    {
     "data": {
      "text/plain": [
       "Index(['City_Code', 'Region_Code', 'Accomodation_Type', 'Reco_Insurance_Type',\n",
       "       'Is_Spouse', 'Health Indicator', 'Holding_Policy_Duration',\n",
       "       'Holding_Policy_Type', 'Reco_Policy_Cat', 'Response',\n",
       "       'Upper_Age_disc_label', 'Upper_Age_disc', 'Lower_Age_disc_label',\n",
       "       'Lower_Age_disc', 'Reco_Policy_Premium_disc_label',\n",
       "       'Reco_Policy_Premium_disc'],\n",
       "      dtype='object')"
      ]
     },
     "execution_count": 23,
     "metadata": {},
     "output_type": "execute_result"
    }
   ],
   "source": [
    "Categorical_columns=X_train.select_dtypes(include=['category',object]).columns\n",
    "Categorical_columns"
   ]
  },
  {
   "cell_type": "markdown",
   "metadata": {},
   "source": [
    "Lets remove the 'Response' column and other manually inserted columns from the above list."
   ]
  },
  {
   "cell_type": "code",
   "execution_count": 24,
   "metadata": {},
   "outputs": [],
   "source": [
    "Categorical_columns=Categorical_columns.drop(['Response',\n",
    "       'Upper_Age_disc_label', 'Upper_Age_disc', 'Lower_Age_disc_label',\n",
    "       'Lower_Age_disc', 'Reco_Policy_Premium_disc_label',\n",
    "       'Reco_Policy_Premium_disc','Region_Code'])"
   ]
  },
  {
   "cell_type": "code",
   "execution_count": 25,
   "metadata": {},
   "outputs": [
    {
     "data": {
      "image/png": "[encoded data removed]",
      "text/plain": [
       "<Figure size 1440x1080 with 4 Axes>"
      ]
     },
     "metadata": {
      "needs_background": "light"
     },
     "output_type": "display_data"
    },
    {
     "data": {
      "image/png": "[encoded data removed]",
      "text/plain": [
       "<Figure size 1440x1080 with 4 Axes>"
      ]
     },
     "metadata": {
      "needs_background": "light"
     },
     "output_type": "display_data"
    }
   ],
   "source": [
    "#plotting count plot for all categorical columns.\n",
    "temp=0\n",
    "length=len(Categorical_columns)\n",
    "if (length%4 == 0):\n",
    "    condition=length+1\n",
    "else:\n",
    "    condition=(length+(4-(length%4)))+1\n",
    "for i in range(4,condition,4):\n",
    "    if i<length:\n",
    "        bivariate_count(Categorical_columns[temp:i],'Response')\n",
    "    else:\n",
    "        bivariate_count(Categorical_columns[temp:len(Categorical_columns)],'Response')\n",
    "    temp=i"
   ]
  },
  {
   "cell_type": "code",
   "execution_count": 26,
   "metadata": {},
   "outputs": [
    {
     "data": {
      "text/html": [
       "<div>\n",
       "<style scoped>\n",
       "    .dataframe tbody tr th:only-of-type {\n",
       "        vertical-align: middle;\n",
       "    }\n",
       "\n",
       "    .dataframe tbody tr th {\n",
       "        vertical-align: top;\n",
       "    }\n",
       "\n",
       "    .dataframe thead th {\n",
       "        text-align: right;\n",
       "    }\n",
       "</style>\n",
       "<table border=\"1\" class=\"dataframe\">\n",
       "  <thead>\n",
       "    <tr style=\"text-align: right;\">\n",
       "      <th></th>\n",
       "      <th>City_Code</th>\n",
       "      <th>perc</th>\n",
       "      <th>target_total</th>\n",
       "      <th>target_yes</th>\n",
       "      <th>target_no</th>\n",
       "    </tr>\n",
       "  </thead>\n",
       "  <tbody>\n",
       "    <tr>\n",
       "      <th>23</th>\n",
       "      <td>C30</td>\n",
       "      <td>31.034483</td>\n",
       "      <td>58</td>\n",
       "      <td>18</td>\n",
       "      <td>40</td>\n",
       "    </tr>\n",
       "    <tr>\n",
       "      <th>25</th>\n",
       "      <td>C32</td>\n",
       "      <td>28.750000</td>\n",
       "      <td>160</td>\n",
       "      <td>46</td>\n",
       "      <td>114</td>\n",
       "    </tr>\n",
       "    <tr>\n",
       "      <th>28</th>\n",
       "      <td>C35</td>\n",
       "      <td>28.571429</td>\n",
       "      <td>56</td>\n",
       "      <td>16</td>\n",
       "      <td>40</td>\n",
       "    </tr>\n",
       "    <tr>\n",
       "      <th>27</th>\n",
       "      <td>C34</td>\n",
       "      <td>27.692308</td>\n",
       "      <td>130</td>\n",
       "      <td>36</td>\n",
       "      <td>94</td>\n",
       "    </tr>\n",
       "    <tr>\n",
       "      <th>15</th>\n",
       "      <td>C23</td>\n",
       "      <td>26.575809</td>\n",
       "      <td>587</td>\n",
       "      <td>156</td>\n",
       "      <td>431</td>\n",
       "    </tr>\n",
       "    <tr>\n",
       "      <th>19</th>\n",
       "      <td>C27</td>\n",
       "      <td>25.762712</td>\n",
       "      <td>295</td>\n",
       "      <td>76</td>\n",
       "      <td>219</td>\n",
       "    </tr>\n",
       "    <tr>\n",
       "      <th>4</th>\n",
       "      <td>C13</td>\n",
       "      <td>25.373134</td>\n",
       "      <td>1005</td>\n",
       "      <td>255</td>\n",
       "      <td>750</td>\n",
       "    </tr>\n",
       "    <tr>\n",
       "      <th>33</th>\n",
       "      <td>C7</td>\n",
       "      <td>25.340314</td>\n",
       "      <td>1910</td>\n",
       "      <td>484</td>\n",
       "      <td>1426</td>\n",
       "    </tr>\n",
       "    <tr>\n",
       "      <th>26</th>\n",
       "      <td>C33</td>\n",
       "      <td>24.825175</td>\n",
       "      <td>286</td>\n",
       "      <td>71</td>\n",
       "      <td>215</td>\n",
       "    </tr>\n",
       "    <tr>\n",
       "      <th>0</th>\n",
       "      <td>C1</td>\n",
       "      <td>24.607155</td>\n",
       "      <td>8973</td>\n",
       "      <td>2208</td>\n",
       "      <td>6765</td>\n",
       "    </tr>\n",
       "    <tr>\n",
       "      <th>11</th>\n",
       "      <td>C2</td>\n",
       "      <td>24.435265</td>\n",
       "      <td>7747</td>\n",
       "      <td>1893</td>\n",
       "      <td>5854</td>\n",
       "    </tr>\n",
       "    <tr>\n",
       "      <th>2</th>\n",
       "      <td>C11</td>\n",
       "      <td>24.324324</td>\n",
       "      <td>1147</td>\n",
       "      <td>279</td>\n",
       "      <td>868</td>\n",
       "    </tr>\n",
       "    <tr>\n",
       "      <th>30</th>\n",
       "      <td>C4</td>\n",
       "      <td>24.216835</td>\n",
       "      <td>3671</td>\n",
       "      <td>889</td>\n",
       "      <td>2782</td>\n",
       "    </tr>\n",
       "    <tr>\n",
       "      <th>34</th>\n",
       "      <td>C8</td>\n",
       "      <td>24.197121</td>\n",
       "      <td>1806</td>\n",
       "      <td>437</td>\n",
       "      <td>1369</td>\n",
       "    </tr>\n",
       "    <tr>\n",
       "      <th>17</th>\n",
       "      <td>C25</td>\n",
       "      <td>24.043716</td>\n",
       "      <td>366</td>\n",
       "      <td>88</td>\n",
       "      <td>278</td>\n",
       "    </tr>\n",
       "    <tr>\n",
       "      <th>9</th>\n",
       "      <td>C18</td>\n",
       "      <td>23.839398</td>\n",
       "      <td>797</td>\n",
       "      <td>190</td>\n",
       "      <td>607</td>\n",
       "    </tr>\n",
       "    <tr>\n",
       "      <th>22</th>\n",
       "      <td>C3</td>\n",
       "      <td>23.747188</td>\n",
       "      <td>4889</td>\n",
       "      <td>1161</td>\n",
       "      <td>3728</td>\n",
       "    </tr>\n",
       "    <tr>\n",
       "      <th>7</th>\n",
       "      <td>C16</td>\n",
       "      <td>23.700441</td>\n",
       "      <td>1135</td>\n",
       "      <td>269</td>\n",
       "      <td>866</td>\n",
       "    </tr>\n",
       "    <tr>\n",
       "      <th>5</th>\n",
       "      <td>C14</td>\n",
       "      <td>23.592493</td>\n",
       "      <td>746</td>\n",
       "      <td>176</td>\n",
       "      <td>570</td>\n",
       "    </tr>\n",
       "    <tr>\n",
       "      <th>32</th>\n",
       "      <td>C6</td>\n",
       "      <td>23.589744</td>\n",
       "      <td>1950</td>\n",
       "      <td>460</td>\n",
       "      <td>1490</td>\n",
       "    </tr>\n",
       "    <tr>\n",
       "      <th>21</th>\n",
       "      <td>C29</td>\n",
       "      <td>23.514212</td>\n",
       "      <td>387</td>\n",
       "      <td>91</td>\n",
       "      <td>296</td>\n",
       "    </tr>\n",
       "    <tr>\n",
       "      <th>20</th>\n",
       "      <td>C28</td>\n",
       "      <td>23.508772</td>\n",
       "      <td>285</td>\n",
       "      <td>67</td>\n",
       "      <td>218</td>\n",
       "    </tr>\n",
       "    <tr>\n",
       "      <th>16</th>\n",
       "      <td>C24</td>\n",
       "      <td>23.508137</td>\n",
       "      <td>553</td>\n",
       "      <td>130</td>\n",
       "      <td>423</td>\n",
       "    </tr>\n",
       "    <tr>\n",
       "      <th>35</th>\n",
       "      <td>C9</td>\n",
       "      <td>23.340961</td>\n",
       "      <td>2185</td>\n",
       "      <td>510</td>\n",
       "      <td>1675</td>\n",
       "    </tr>\n",
       "    <tr>\n",
       "      <th>10</th>\n",
       "      <td>C19</td>\n",
       "      <td>23.136819</td>\n",
       "      <td>899</td>\n",
       "      <td>208</td>\n",
       "      <td>691</td>\n",
       "    </tr>\n",
       "    <tr>\n",
       "      <th>14</th>\n",
       "      <td>C22</td>\n",
       "      <td>23.062016</td>\n",
       "      <td>516</td>\n",
       "      <td>119</td>\n",
       "      <td>397</td>\n",
       "    </tr>\n",
       "    <tr>\n",
       "      <th>31</th>\n",
       "      <td>C5</td>\n",
       "      <td>23.020528</td>\n",
       "      <td>1364</td>\n",
       "      <td>314</td>\n",
       "      <td>1050</td>\n",
       "    </tr>\n",
       "    <tr>\n",
       "      <th>12</th>\n",
       "      <td>C20</td>\n",
       "      <td>22.894168</td>\n",
       "      <td>926</td>\n",
       "      <td>212</td>\n",
       "      <td>714</td>\n",
       "    </tr>\n",
       "    <tr>\n",
       "      <th>8</th>\n",
       "      <td>C17</td>\n",
       "      <td>22.864538</td>\n",
       "      <td>1159</td>\n",
       "      <td>265</td>\n",
       "      <td>894</td>\n",
       "    </tr>\n",
       "    <tr>\n",
       "      <th>13</th>\n",
       "      <td>C21</td>\n",
       "      <td>22.827688</td>\n",
       "      <td>679</td>\n",
       "      <td>155</td>\n",
       "      <td>524</td>\n",
       "    </tr>\n",
       "    <tr>\n",
       "      <th>3</th>\n",
       "      <td>C12</td>\n",
       "      <td>22.811060</td>\n",
       "      <td>868</td>\n",
       "      <td>198</td>\n",
       "      <td>670</td>\n",
       "    </tr>\n",
       "    <tr>\n",
       "      <th>1</th>\n",
       "      <td>C10</td>\n",
       "      <td>22.594662</td>\n",
       "      <td>1611</td>\n",
       "      <td>364</td>\n",
       "      <td>1247</td>\n",
       "    </tr>\n",
       "    <tr>\n",
       "      <th>18</th>\n",
       "      <td>C26</td>\n",
       "      <td>21.643287</td>\n",
       "      <td>499</td>\n",
       "      <td>108</td>\n",
       "      <td>391</td>\n",
       "    </tr>\n",
       "    <tr>\n",
       "      <th>6</th>\n",
       "      <td>C15</td>\n",
       "      <td>21.332209</td>\n",
       "      <td>1186</td>\n",
       "      <td>253</td>\n",
       "      <td>933</td>\n",
       "    </tr>\n",
       "    <tr>\n",
       "      <th>29</th>\n",
       "      <td>C36</td>\n",
       "      <td>13.888889</td>\n",
       "      <td>36</td>\n",
       "      <td>5</td>\n",
       "      <td>31</td>\n",
       "    </tr>\n",
       "    <tr>\n",
       "      <th>24</th>\n",
       "      <td>C31</td>\n",
       "      <td>13.333333</td>\n",
       "      <td>15</td>\n",
       "      <td>2</td>\n",
       "      <td>13</td>\n",
       "    </tr>\n",
       "  </tbody>\n",
       "</table>\n",
       "</div>"
      ],
      "text/plain": [
       "   City_Code       perc  target_total  target_yes  target_no\n",
       "23       C30  31.034483            58          18         40\n",
       "25       C32  28.750000           160          46        114\n",
       "28       C35  28.571429            56          16         40\n",
       "27       C34  27.692308           130          36         94\n",
       "15       C23  26.575809           587         156        431\n",
       "19       C27  25.762712           295          76        219\n",
       "4        C13  25.373134          1005         255        750\n",
       "33        C7  25.340314          1910         484       1426\n",
       "26       C33  24.825175           286          71        215\n",
       "0         C1  24.607155          8973        2208       6765\n",
       "11        C2  24.435265          7747        1893       5854\n",
       "2        C11  24.324324          1147         279        868\n",
       "30        C4  24.216835          3671         889       2782\n",
       "34        C8  24.197121          1806         437       1369\n",
       "17       C25  24.043716           366          88        278\n",
       "9        C18  23.839398           797         190        607\n",
       "22        C3  23.747188          4889        1161       3728\n",
       "7        C16  23.700441          1135         269        866\n",
       "5        C14  23.592493           746         176        570\n",
       "32        C6  23.589744          1950         460       1490\n",
       "21       C29  23.514212           387          91        296\n",
       "20       C28  23.508772           285          67        218\n",
       "16       C24  23.508137           553         130        423\n",
       "35        C9  23.340961          2185         510       1675\n",
       "10       C19  23.136819           899         208        691\n",
       "14       C22  23.062016           516         119        397\n",
       "31        C5  23.020528          1364         314       1050\n",
       "12       C20  22.894168           926         212        714\n",
       "8        C17  22.864538          1159         265        894\n",
       "13       C21  22.827688           679         155        524\n",
       "3        C12  22.811060           868         198        670\n",
       "1        C10  22.594662          1611         364       1247\n",
       "18       C26  21.643287           499         108        391\n",
       "6        C15  21.332209          1186         253        933\n",
       "29       C36  13.888889            36           5         31\n",
       "24       C31  13.333333            15           2         13"
      ]
     },
     "execution_count": 26,
     "metadata": {},
     "output_type": "execute_result"
    }
   ],
   "source": [
    "#Now lets calculate the percentage of people for each of these categorical columns.\n",
    "calc_perc(Categorical_columns[0],'Response')"
   ]
  },
  {
   "cell_type": "markdown",
   "metadata": {},
   "source": [
    "Cities C31 and C36 have equal and less percentage of people with response as 1.\n",
    "City C30 has the highest percentage of people(around 30%) with response as 1."
   ]
  },
  {
   "cell_type": "code",
   "execution_count": 27,
   "metadata": {},
   "outputs": [
    {
     "data": {
      "text/html": [
       "<div>\n",
       "<style scoped>\n",
       "    .dataframe tbody tr th:only-of-type {\n",
       "        vertical-align: middle;\n",
       "    }\n",
       "\n",
       "    .dataframe tbody tr th {\n",
       "        vertical-align: top;\n",
       "    }\n",
       "\n",
       "    .dataframe thead th {\n",
       "        text-align: right;\n",
       "    }\n",
       "</style>\n",
       "<table border=\"1\" class=\"dataframe\">\n",
       "  <thead>\n",
       "    <tr style=\"text-align: right;\">\n",
       "      <th></th>\n",
       "      <th>Accomodation_Type</th>\n",
       "      <th>perc</th>\n",
       "      <th>target_total</th>\n",
       "      <th>target_yes</th>\n",
       "      <th>target_no</th>\n",
       "    </tr>\n",
       "  </thead>\n",
       "  <tbody>\n",
       "    <tr>\n",
       "      <th>0</th>\n",
       "      <td>Owned</td>\n",
       "      <td>24.195914</td>\n",
       "      <td>27951</td>\n",
       "      <td>6763</td>\n",
       "      <td>21188</td>\n",
       "    </tr>\n",
       "    <tr>\n",
       "      <th>1</th>\n",
       "      <td>Rented</td>\n",
       "      <td>23.749509</td>\n",
       "      <td>22931</td>\n",
       "      <td>5446</td>\n",
       "      <td>17485</td>\n",
       "    </tr>\n",
       "  </tbody>\n",
       "</table>\n",
       "</div>"
      ],
      "text/plain": [
       "  Accomodation_Type       perc  target_total  target_yes  target_no\n",
       "0             Owned  24.195914         27951        6763      21188\n",
       "1            Rented  23.749509         22931        5446      17485"
      ]
     },
     "execution_count": 27,
     "metadata": {},
     "output_type": "execute_result"
    }
   ],
   "source": [
    "calc_perc(Categorical_columns[1],'Response')"
   ]
  },
  {
   "cell_type": "markdown",
   "metadata": {},
   "source": [
    "Both accomodation types have same percent of people with response as 1."
   ]
  },
  {
   "cell_type": "code",
   "execution_count": 28,
   "metadata": {},
   "outputs": [
    {
     "data": {
      "text/html": [
       "<div>\n",
       "<style scoped>\n",
       "    .dataframe tbody tr th:only-of-type {\n",
       "        vertical-align: middle;\n",
       "    }\n",
       "\n",
       "    .dataframe tbody tr th {\n",
       "        vertical-align: top;\n",
       "    }\n",
       "\n",
       "    .dataframe thead th {\n",
       "        text-align: right;\n",
       "    }\n",
       "</style>\n",
       "<table border=\"1\" class=\"dataframe\">\n",
       "  <thead>\n",
       "    <tr style=\"text-align: right;\">\n",
       "      <th></th>\n",
       "      <th>Reco_Insurance_Type</th>\n",
       "      <th>perc</th>\n",
       "      <th>target_total</th>\n",
       "      <th>target_yes</th>\n",
       "      <th>target_no</th>\n",
       "    </tr>\n",
       "  </thead>\n",
       "  <tbody>\n",
       "    <tr>\n",
       "      <th>1</th>\n",
       "      <td>Joint</td>\n",
       "      <td>24.830853</td>\n",
       "      <td>10346</td>\n",
       "      <td>2569</td>\n",
       "      <td>7777</td>\n",
       "    </tr>\n",
       "    <tr>\n",
       "      <th>0</th>\n",
       "      <td>Individual</td>\n",
       "      <td>23.781330</td>\n",
       "      <td>40536</td>\n",
       "      <td>9640</td>\n",
       "      <td>30896</td>\n",
       "    </tr>\n",
       "  </tbody>\n",
       "</table>\n",
       "</div>"
      ],
      "text/plain": [
       "  Reco_Insurance_Type       perc  target_total  target_yes  target_no\n",
       "1               Joint  24.830853         10346        2569       7777\n",
       "0          Individual  23.781330         40536        9640      30896"
      ]
     },
     "execution_count": 28,
     "metadata": {},
     "output_type": "execute_result"
    }
   ],
   "source": [
    "calc_perc(Categorical_columns[2],'Response')"
   ]
  },
  {
   "cell_type": "markdown",
   "metadata": {},
   "source": [
    "Both recommended insurance types have same percent of people with response as 1."
   ]
  },
  {
   "cell_type": "code",
   "execution_count": 29,
   "metadata": {},
   "outputs": [
    {
     "data": {
      "text/html": [
       "<div>\n",
       "<style scoped>\n",
       "    .dataframe tbody tr th:only-of-type {\n",
       "        vertical-align: middle;\n",
       "    }\n",
       "\n",
       "    .dataframe tbody tr th {\n",
       "        vertical-align: top;\n",
       "    }\n",
       "\n",
       "    .dataframe thead th {\n",
       "        text-align: right;\n",
       "    }\n",
       "</style>\n",
       "<table border=\"1\" class=\"dataframe\">\n",
       "  <thead>\n",
       "    <tr style=\"text-align: right;\">\n",
       "      <th></th>\n",
       "      <th>Is_Spouse</th>\n",
       "      <th>perc</th>\n",
       "      <th>target_total</th>\n",
       "      <th>target_yes</th>\n",
       "      <th>target_no</th>\n",
       "    </tr>\n",
       "  </thead>\n",
       "  <tbody>\n",
       "    <tr>\n",
       "      <th>1</th>\n",
       "      <td>Yes</td>\n",
       "      <td>24.364759</td>\n",
       "      <td>8422</td>\n",
       "      <td>2052</td>\n",
       "      <td>6370</td>\n",
       "    </tr>\n",
       "    <tr>\n",
       "      <th>0</th>\n",
       "      <td>No</td>\n",
       "      <td>23.921338</td>\n",
       "      <td>42460</td>\n",
       "      <td>10157</td>\n",
       "      <td>32303</td>\n",
       "    </tr>\n",
       "  </tbody>\n",
       "</table>\n",
       "</div>"
      ],
      "text/plain": [
       "  Is_Spouse       perc  target_total  target_yes  target_no\n",
       "1       Yes  24.364759          8422        2052       6370\n",
       "0        No  23.921338         42460       10157      32303"
      ]
     },
     "execution_count": 29,
     "metadata": {},
     "output_type": "execute_result"
    }
   ],
   "source": [
    "calc_perc(Categorical_columns[3],'Response')"
   ]
  },
  {
   "cell_type": "markdown",
   "metadata": {},
   "source": [
    "Both 'Is_Spouse' types have same percent of people with response as 1."
   ]
  },
  {
   "cell_type": "code",
   "execution_count": 30,
   "metadata": {},
   "outputs": [
    {
     "data": {
      "text/html": [
       "<div>\n",
       "<style scoped>\n",
       "    .dataframe tbody tr th:only-of-type {\n",
       "        vertical-align: middle;\n",
       "    }\n",
       "\n",
       "    .dataframe tbody tr th {\n",
       "        vertical-align: top;\n",
       "    }\n",
       "\n",
       "    .dataframe thead th {\n",
       "        text-align: right;\n",
       "    }\n",
       "</style>\n",
       "<table border=\"1\" class=\"dataframe\">\n",
       "  <thead>\n",
       "    <tr style=\"text-align: right;\">\n",
       "      <th></th>\n",
       "      <th>Health Indicator</th>\n",
       "      <th>perc</th>\n",
       "      <th>target_total</th>\n",
       "      <th>target_yes</th>\n",
       "      <th>target_no</th>\n",
       "    </tr>\n",
       "  </thead>\n",
       "  <tbody>\n",
       "    <tr>\n",
       "      <th>6</th>\n",
       "      <td>X7</td>\n",
       "      <td>31.632653</td>\n",
       "      <td>196</td>\n",
       "      <td>62</td>\n",
       "      <td>134</td>\n",
       "    </tr>\n",
       "    <tr>\n",
       "      <th>0</th>\n",
       "      <td>X1</td>\n",
       "      <td>24.411991</td>\n",
       "      <td>13010</td>\n",
       "      <td>3176</td>\n",
       "      <td>9834</td>\n",
       "    </tr>\n",
       "    <tr>\n",
       "      <th>3</th>\n",
       "      <td>X4</td>\n",
       "      <td>24.307853</td>\n",
       "      <td>5743</td>\n",
       "      <td>1396</td>\n",
       "      <td>4347</td>\n",
       "    </tr>\n",
       "    <tr>\n",
       "      <th>1</th>\n",
       "      <td>X2</td>\n",
       "      <td>24.109563</td>\n",
       "      <td>10332</td>\n",
       "      <td>2491</td>\n",
       "      <td>7841</td>\n",
       "    </tr>\n",
       "    <tr>\n",
       "      <th>5</th>\n",
       "      <td>X6</td>\n",
       "      <td>23.984375</td>\n",
       "      <td>1280</td>\n",
       "      <td>307</td>\n",
       "      <td>973</td>\n",
       "    </tr>\n",
       "    <tr>\n",
       "      <th>2</th>\n",
       "      <td>X3</td>\n",
       "      <td>23.646850</td>\n",
       "      <td>6762</td>\n",
       "      <td>1599</td>\n",
       "      <td>5163</td>\n",
       "    </tr>\n",
       "    <tr>\n",
       "      <th>4</th>\n",
       "      <td>X5</td>\n",
       "      <td>23.624783</td>\n",
       "      <td>1727</td>\n",
       "      <td>408</td>\n",
       "      <td>1319</td>\n",
       "    </tr>\n",
       "    <tr>\n",
       "      <th>7</th>\n",
       "      <td>X8</td>\n",
       "      <td>23.076923</td>\n",
       "      <td>78</td>\n",
       "      <td>18</td>\n",
       "      <td>60</td>\n",
       "    </tr>\n",
       "    <tr>\n",
       "      <th>8</th>\n",
       "      <td>X9</td>\n",
       "      <td>22.222222</td>\n",
       "      <td>63</td>\n",
       "      <td>14</td>\n",
       "      <td>49</td>\n",
       "    </tr>\n",
       "  </tbody>\n",
       "</table>\n",
       "</div>"
      ],
      "text/plain": [
       "  Health Indicator       perc  target_total  target_yes  target_no\n",
       "6               X7  31.632653           196          62        134\n",
       "0               X1  24.411991         13010        3176       9834\n",
       "3               X4  24.307853          5743        1396       4347\n",
       "1               X2  24.109563         10332        2491       7841\n",
       "5               X6  23.984375          1280         307        973\n",
       "2               X3  23.646850          6762        1599       5163\n",
       "4               X5  23.624783          1727         408       1319\n",
       "7               X8  23.076923            78          18         60\n",
       "8               X9  22.222222            63          14         49"
      ]
     },
     "execution_count": 30,
     "metadata": {},
     "output_type": "execute_result"
    }
   ],
   "source": [
    "calc_perc(Categorical_columns[4],'Response')"
   ]
  },
  {
   "cell_type": "markdown",
   "metadata": {},
   "source": [
    "Health Indicator X7 has highest percent of people(around 32) with response as 1.\n",
    "Whereas other health indicators have around 22-24 percent of people with response as 1."
   ]
  },
  {
   "cell_type": "markdown",
   "metadata": {},
   "source": [
    "Lets do zero encoding for 'Holding_Policy_Duration' and 'Holding_Policy_Type' columns.As blanks in these two columns essentially indicate that the customer does not hold any policy currently."
   ]
  },
  {
   "cell_type": "code",
   "execution_count": 31,
   "metadata": {},
   "outputs": [],
   "source": [
    "X_train['Holding_Policy_Duration']=X_train['Holding_Policy_Duration'].fillna('0.0')\n",
    "X_test['Holding_Policy_Duration']=X_test['Holding_Policy_Duration'].fillna('0.0')\n",
    "X_train['Holding_Policy_Type']=X_train['Holding_Policy_Type'].fillna('0.0')\n",
    "X_test['Holding_Policy_Type']=X_test['Holding_Policy_Type'].fillna('0.0')"
   ]
  },
  {
   "cell_type": "code",
   "execution_count": 32,
   "metadata": {},
   "outputs": [
    {
     "data": {
      "text/html": [
       "<div>\n",
       "<style scoped>\n",
       "    .dataframe tbody tr th:only-of-type {\n",
       "        vertical-align: middle;\n",
       "    }\n",
       "\n",
       "    .dataframe tbody tr th {\n",
       "        vertical-align: top;\n",
       "    }\n",
       "\n",
       "    .dataframe thead th {\n",
       "        text-align: right;\n",
       "    }\n",
       "</style>\n",
       "<table border=\"1\" class=\"dataframe\">\n",
       "  <thead>\n",
       "    <tr style=\"text-align: right;\">\n",
       "      <th></th>\n",
       "      <th>Holding_Policy_Duration</th>\n",
       "      <th>perc</th>\n",
       "      <th>target_total</th>\n",
       "      <th>target_yes</th>\n",
       "      <th>target_no</th>\n",
       "    </tr>\n",
       "  </thead>\n",
       "  <tbody>\n",
       "    <tr>\n",
       "      <th>2</th>\n",
       "      <td>10.0</td>\n",
       "      <td>27.306273</td>\n",
       "      <td>813</td>\n",
       "      <td>222</td>\n",
       "      <td>591</td>\n",
       "    </tr>\n",
       "    <tr>\n",
       "      <th>5</th>\n",
       "      <td>13.0</td>\n",
       "      <td>27.005871</td>\n",
       "      <td>511</td>\n",
       "      <td>138</td>\n",
       "      <td>373</td>\n",
       "    </tr>\n",
       "    <tr>\n",
       "      <th>13</th>\n",
       "      <td>7.0</td>\n",
       "      <td>25.714286</td>\n",
       "      <td>1645</td>\n",
       "      <td>423</td>\n",
       "      <td>1222</td>\n",
       "    </tr>\n",
       "    <tr>\n",
       "      <th>14</th>\n",
       "      <td>8.0</td>\n",
       "      <td>25.683891</td>\n",
       "      <td>1316</td>\n",
       "      <td>338</td>\n",
       "      <td>978</td>\n",
       "    </tr>\n",
       "    <tr>\n",
       "      <th>4</th>\n",
       "      <td>12.0</td>\n",
       "      <td>25.341131</td>\n",
       "      <td>513</td>\n",
       "      <td>130</td>\n",
       "      <td>383</td>\n",
       "    </tr>\n",
       "    <tr>\n",
       "      <th>3</th>\n",
       "      <td>11.0</td>\n",
       "      <td>25.091575</td>\n",
       "      <td>546</td>\n",
       "      <td>137</td>\n",
       "      <td>409</td>\n",
       "    </tr>\n",
       "    <tr>\n",
       "      <th>6</th>\n",
       "      <td>14+</td>\n",
       "      <td>25.074971</td>\n",
       "      <td>4335</td>\n",
       "      <td>1087</td>\n",
       "      <td>3248</td>\n",
       "    </tr>\n",
       "    <tr>\n",
       "      <th>7</th>\n",
       "      <td>14.0</td>\n",
       "      <td>24.678112</td>\n",
       "      <td>466</td>\n",
       "      <td>115</td>\n",
       "      <td>351</td>\n",
       "    </tr>\n",
       "    <tr>\n",
       "      <th>10</th>\n",
       "      <td>4.0</td>\n",
       "      <td>24.070733</td>\n",
       "      <td>2771</td>\n",
       "      <td>667</td>\n",
       "      <td>2104</td>\n",
       "    </tr>\n",
       "    <tr>\n",
       "      <th>0</th>\n",
       "      <td>0.0</td>\n",
       "      <td>23.895116</td>\n",
       "      <td>20251</td>\n",
       "      <td>4839</td>\n",
       "      <td>15412</td>\n",
       "    </tr>\n",
       "    <tr>\n",
       "      <th>11</th>\n",
       "      <td>5.0</td>\n",
       "      <td>23.835732</td>\n",
       "      <td>2362</td>\n",
       "      <td>563</td>\n",
       "      <td>1799</td>\n",
       "    </tr>\n",
       "    <tr>\n",
       "      <th>15</th>\n",
       "      <td>9.0</td>\n",
       "      <td>23.788151</td>\n",
       "      <td>1114</td>\n",
       "      <td>265</td>\n",
       "      <td>849</td>\n",
       "    </tr>\n",
       "    <tr>\n",
       "      <th>8</th>\n",
       "      <td>2.0</td>\n",
       "      <td>23.732394</td>\n",
       "      <td>4260</td>\n",
       "      <td>1011</td>\n",
       "      <td>3249</td>\n",
       "    </tr>\n",
       "    <tr>\n",
       "      <th>12</th>\n",
       "      <td>6.0</td>\n",
       "      <td>23.495248</td>\n",
       "      <td>1894</td>\n",
       "      <td>445</td>\n",
       "      <td>1449</td>\n",
       "    </tr>\n",
       "    <tr>\n",
       "      <th>9</th>\n",
       "      <td>3.0</td>\n",
       "      <td>23.201339</td>\n",
       "      <td>3586</td>\n",
       "      <td>832</td>\n",
       "      <td>2754</td>\n",
       "    </tr>\n",
       "    <tr>\n",
       "      <th>1</th>\n",
       "      <td>1.0</td>\n",
       "      <td>22.160480</td>\n",
       "      <td>4499</td>\n",
       "      <td>997</td>\n",
       "      <td>3502</td>\n",
       "    </tr>\n",
       "  </tbody>\n",
       "</table>\n",
       "</div>"
      ],
      "text/plain": [
       "   Holding_Policy_Duration       perc  target_total  target_yes  target_no\n",
       "2                     10.0  27.306273           813         222        591\n",
       "5                     13.0  27.005871           511         138        373\n",
       "13                     7.0  25.714286          1645         423       1222\n",
       "14                     8.0  25.683891          1316         338        978\n",
       "4                     12.0  25.341131           513         130        383\n",
       "3                     11.0  25.091575           546         137        409\n",
       "6                      14+  25.074971          4335        1087       3248\n",
       "7                     14.0  24.678112           466         115        351\n",
       "10                     4.0  24.070733          2771         667       2104\n",
       "0                      0.0  23.895116         20251        4839      15412\n",
       "11                     5.0  23.835732          2362         563       1799\n",
       "15                     9.0  23.788151          1114         265        849\n",
       "8                      2.0  23.732394          4260        1011       3249\n",
       "12                     6.0  23.495248          1894         445       1449\n",
       "9                      3.0  23.201339          3586         832       2754\n",
       "1                      1.0  22.160480          4499         997       3502"
      ]
     },
     "execution_count": 32,
     "metadata": {},
     "output_type": "execute_result"
    }
   ],
   "source": [
    "calc_perc(Categorical_columns[5],'Response')"
   ]
  },
  {
   "cell_type": "markdown",
   "metadata": {},
   "source": [
    "All 'Holding_Policy_Duration' has 22-27 percent of people having the response as 1."
   ]
  },
  {
   "cell_type": "code",
   "execution_count": 33,
   "metadata": {},
   "outputs": [
    {
     "data": {
      "text/html": [
       "<div>\n",
       "<style scoped>\n",
       "    .dataframe tbody tr th:only-of-type {\n",
       "        vertical-align: middle;\n",
       "    }\n",
       "\n",
       "    .dataframe tbody tr th {\n",
       "        vertical-align: top;\n",
       "    }\n",
       "\n",
       "    .dataframe thead th {\n",
       "        text-align: right;\n",
       "    }\n",
       "</style>\n",
       "<table border=\"1\" class=\"dataframe\">\n",
       "  <thead>\n",
       "    <tr style=\"text-align: right;\">\n",
       "      <th></th>\n",
       "      <th>Holding_Policy_Type</th>\n",
       "      <th>perc</th>\n",
       "      <th>target_total</th>\n",
       "      <th>target_yes</th>\n",
       "      <th>target_no</th>\n",
       "    </tr>\n",
       "  </thead>\n",
       "  <tbody>\n",
       "    <tr>\n",
       "      <th>3</th>\n",
       "      <td>4</td>\n",
       "      <td>24.820316</td>\n",
       "      <td>4174</td>\n",
       "      <td>1036</td>\n",
       "      <td>3138</td>\n",
       "    </tr>\n",
       "    <tr>\n",
       "      <th>2</th>\n",
       "      <td>3</td>\n",
       "      <td>24.226222</td>\n",
       "      <td>13279</td>\n",
       "      <td>3217</td>\n",
       "      <td>10062</td>\n",
       "    </tr>\n",
       "    <tr>\n",
       "      <th>4</th>\n",
       "      <td>0.0</td>\n",
       "      <td>23.895116</td>\n",
       "      <td>20251</td>\n",
       "      <td>4839</td>\n",
       "      <td>15412</td>\n",
       "    </tr>\n",
       "    <tr>\n",
       "      <th>1</th>\n",
       "      <td>2</td>\n",
       "      <td>23.776224</td>\n",
       "      <td>5005</td>\n",
       "      <td>1190</td>\n",
       "      <td>3815</td>\n",
       "    </tr>\n",
       "    <tr>\n",
       "      <th>0</th>\n",
       "      <td>1</td>\n",
       "      <td>23.577634</td>\n",
       "      <td>8173</td>\n",
       "      <td>1927</td>\n",
       "      <td>6246</td>\n",
       "    </tr>\n",
       "  </tbody>\n",
       "</table>\n",
       "</div>"
      ],
      "text/plain": [
       "  Holding_Policy_Type       perc  target_total  target_yes  target_no\n",
       "3                   4  24.820316          4174        1036       3138\n",
       "2                   3  24.226222         13279        3217      10062\n",
       "4                 0.0  23.895116         20251        4839      15412\n",
       "1                   2  23.776224          5005        1190       3815\n",
       "0                   1  23.577634          8173        1927       6246"
      ]
     },
     "execution_count": 33,
     "metadata": {},
     "output_type": "execute_result"
    }
   ],
   "source": [
    "calc_perc(Categorical_columns[6],'Response')"
   ]
  },
  {
   "cell_type": "code",
   "execution_count": 34,
   "metadata": {},
   "outputs": [
    {
     "data": {
      "text/html": [
       "<div>\n",
       "<style scoped>\n",
       "    .dataframe tbody tr th:only-of-type {\n",
       "        vertical-align: middle;\n",
       "    }\n",
       "\n",
       "    .dataframe tbody tr th {\n",
       "        vertical-align: top;\n",
       "    }\n",
       "\n",
       "    .dataframe thead th {\n",
       "        text-align: right;\n",
       "    }\n",
       "</style>\n",
       "<table border=\"1\" class=\"dataframe\">\n",
       "  <thead>\n",
       "    <tr style=\"text-align: right;\">\n",
       "      <th></th>\n",
       "      <th>Reco_Policy_Cat</th>\n",
       "      <th>perc</th>\n",
       "      <th>target_total</th>\n",
       "      <th>target_yes</th>\n",
       "      <th>target_no</th>\n",
       "    </tr>\n",
       "  </thead>\n",
       "  <tbody>\n",
       "    <tr>\n",
       "      <th>14</th>\n",
       "      <td>15</td>\n",
       "      <td>46.563467</td>\n",
       "      <td>1615</td>\n",
       "      <td>752</td>\n",
       "      <td>863</td>\n",
       "    </tr>\n",
       "    <tr>\n",
       "      <th>21</th>\n",
       "      <td>22</td>\n",
       "      <td>32.838534</td>\n",
       "      <td>6602</td>\n",
       "      <td>2168</td>\n",
       "      <td>4434</td>\n",
       "    </tr>\n",
       "    <tr>\n",
       "      <th>11</th>\n",
       "      <td>12</td>\n",
       "      <td>31.503690</td>\n",
       "      <td>2168</td>\n",
       "      <td>683</td>\n",
       "      <td>1485</td>\n",
       "    </tr>\n",
       "    <tr>\n",
       "      <th>16</th>\n",
       "      <td>17</td>\n",
       "      <td>29.845580</td>\n",
       "      <td>3756</td>\n",
       "      <td>1121</td>\n",
       "      <td>2635</td>\n",
       "    </tr>\n",
       "    <tr>\n",
       "      <th>4</th>\n",
       "      <td>5</td>\n",
       "      <td>29.096326</td>\n",
       "      <td>1007</td>\n",
       "      <td>293</td>\n",
       "      <td>714</td>\n",
       "    </tr>\n",
       "    <tr>\n",
       "      <th>18</th>\n",
       "      <td>19</td>\n",
       "      <td>27.696872</td>\n",
       "      <td>3708</td>\n",
       "      <td>1027</td>\n",
       "      <td>2681</td>\n",
       "    </tr>\n",
       "    <tr>\n",
       "      <th>7</th>\n",
       "      <td>8</td>\n",
       "      <td>26.932990</td>\n",
       "      <td>776</td>\n",
       "      <td>209</td>\n",
       "      <td>567</td>\n",
       "    </tr>\n",
       "    <tr>\n",
       "      <th>19</th>\n",
       "      <td>20</td>\n",
       "      <td>25.495751</td>\n",
       "      <td>3177</td>\n",
       "      <td>810</td>\n",
       "      <td>2367</td>\n",
       "    </tr>\n",
       "    <tr>\n",
       "      <th>13</th>\n",
       "      <td>14</td>\n",
       "      <td>24.397245</td>\n",
       "      <td>1742</td>\n",
       "      <td>425</td>\n",
       "      <td>1317</td>\n",
       "    </tr>\n",
       "    <tr>\n",
       "      <th>15</th>\n",
       "      <td>16</td>\n",
       "      <td>22.355534</td>\n",
       "      <td>4084</td>\n",
       "      <td>913</td>\n",
       "      <td>3171</td>\n",
       "    </tr>\n",
       "    <tr>\n",
       "      <th>17</th>\n",
       "      <td>18</td>\n",
       "      <td>22.060148</td>\n",
       "      <td>5553</td>\n",
       "      <td>1225</td>\n",
       "      <td>4328</td>\n",
       "    </tr>\n",
       "    <tr>\n",
       "      <th>12</th>\n",
       "      <td>13</td>\n",
       "      <td>21.852732</td>\n",
       "      <td>1684</td>\n",
       "      <td>368</td>\n",
       "      <td>1316</td>\n",
       "    </tr>\n",
       "    <tr>\n",
       "      <th>20</th>\n",
       "      <td>21</td>\n",
       "      <td>19.375373</td>\n",
       "      <td>5027</td>\n",
       "      <td>974</td>\n",
       "      <td>4053</td>\n",
       "    </tr>\n",
       "    <tr>\n",
       "      <th>2</th>\n",
       "      <td>3</td>\n",
       "      <td>19.357885</td>\n",
       "      <td>1059</td>\n",
       "      <td>205</td>\n",
       "      <td>854</td>\n",
       "    </tr>\n",
       "    <tr>\n",
       "      <th>6</th>\n",
       "      <td>7</td>\n",
       "      <td>18.585132</td>\n",
       "      <td>834</td>\n",
       "      <td>155</td>\n",
       "      <td>679</td>\n",
       "    </tr>\n",
       "    <tr>\n",
       "      <th>9</th>\n",
       "      <td>10</td>\n",
       "      <td>17.662338</td>\n",
       "      <td>770</td>\n",
       "      <td>136</td>\n",
       "      <td>634</td>\n",
       "    </tr>\n",
       "    <tr>\n",
       "      <th>5</th>\n",
       "      <td>6</td>\n",
       "      <td>17.273796</td>\n",
       "      <td>851</td>\n",
       "      <td>147</td>\n",
       "      <td>704</td>\n",
       "    </tr>\n",
       "    <tr>\n",
       "      <th>10</th>\n",
       "      <td>11</td>\n",
       "      <td>16.645327</td>\n",
       "      <td>781</td>\n",
       "      <td>130</td>\n",
       "      <td>651</td>\n",
       "    </tr>\n",
       "    <tr>\n",
       "      <th>8</th>\n",
       "      <td>9</td>\n",
       "      <td>16.603295</td>\n",
       "      <td>789</td>\n",
       "      <td>131</td>\n",
       "      <td>658</td>\n",
       "    </tr>\n",
       "    <tr>\n",
       "      <th>1</th>\n",
       "      <td>2</td>\n",
       "      <td>13.249870</td>\n",
       "      <td>1917</td>\n",
       "      <td>254</td>\n",
       "      <td>1663</td>\n",
       "    </tr>\n",
       "    <tr>\n",
       "      <th>3</th>\n",
       "      <td>4</td>\n",
       "      <td>7.389163</td>\n",
       "      <td>1015</td>\n",
       "      <td>75</td>\n",
       "      <td>940</td>\n",
       "    </tr>\n",
       "    <tr>\n",
       "      <th>0</th>\n",
       "      <td>1</td>\n",
       "      <td>0.406711</td>\n",
       "      <td>1967</td>\n",
       "      <td>8</td>\n",
       "      <td>1959</td>\n",
       "    </tr>\n",
       "  </tbody>\n",
       "</table>\n",
       "</div>"
      ],
      "text/plain": [
       "    Reco_Policy_Cat       perc  target_total  target_yes  target_no\n",
       "14               15  46.563467          1615         752        863\n",
       "21               22  32.838534          6602        2168       4434\n",
       "11               12  31.503690          2168         683       1485\n",
       "16               17  29.845580          3756        1121       2635\n",
       "4                 5  29.096326          1007         293        714\n",
       "18               19  27.696872          3708        1027       2681\n",
       "7                 8  26.932990           776         209        567\n",
       "19               20  25.495751          3177         810       2367\n",
       "13               14  24.397245          1742         425       1317\n",
       "15               16  22.355534          4084         913       3171\n",
       "17               18  22.060148          5553        1225       4328\n",
       "12               13  21.852732          1684         368       1316\n",
       "20               21  19.375373          5027         974       4053\n",
       "2                 3  19.357885          1059         205        854\n",
       "6                 7  18.585132           834         155        679\n",
       "9                10  17.662338           770         136        634\n",
       "5                 6  17.273796           851         147        704\n",
       "10               11  16.645327           781         130        651\n",
       "8                 9  16.603295           789         131        658\n",
       "1                 2  13.249870          1917         254       1663\n",
       "3                 4   7.389163          1015          75        940\n",
       "0                 1   0.406711          1967           8       1959"
      ]
     },
     "execution_count": 34,
     "metadata": {},
     "output_type": "execute_result"
    }
   ],
   "source": [
    "calc_perc(Categorical_columns[7],'Response')"
   ]
  },
  {
   "cell_type": "markdown",
   "metadata": {},
   "source": [
    "Recommended policy category has impact on the response.Policy category 15 has the highest response with 46 percent."
   ]
  },
  {
   "cell_type": "code",
   "execution_count": 35,
   "metadata": {},
   "outputs": [],
   "source": [
    "#Lets indicate a new column that indicates if a customer is currently holding a policy\n",
    "X_train['CurrentPolicyHolder']=np.where(X_train['Holding_Policy_Duration']=='0.0','0','1')\n",
    "X_test['CurrentPolicyHolder']=np.where(X_test['Holding_Policy_Duration']=='0.0','0','1')"
   ]
  },
  {
   "cell_type": "code",
   "execution_count": 36,
   "metadata": {},
   "outputs": [
    {
     "data": {
      "text/html": [
       "<div>\n",
       "<style scoped>\n",
       "    .dataframe tbody tr th:only-of-type {\n",
       "        vertical-align: middle;\n",
       "    }\n",
       "\n",
       "    .dataframe tbody tr th {\n",
       "        vertical-align: top;\n",
       "    }\n",
       "\n",
       "    .dataframe thead th {\n",
       "        text-align: right;\n",
       "    }\n",
       "</style>\n",
       "<table border=\"1\" class=\"dataframe\">\n",
       "  <thead>\n",
       "    <tr style=\"text-align: right;\">\n",
       "      <th></th>\n",
       "      <th>CurrentPolicyHolder</th>\n",
       "      <th>perc</th>\n",
       "      <th>target_total</th>\n",
       "      <th>target_yes</th>\n",
       "      <th>target_no</th>\n",
       "    </tr>\n",
       "  </thead>\n",
       "  <tbody>\n",
       "    <tr>\n",
       "      <th>1</th>\n",
       "      <td>1</td>\n",
       "      <td>24.060592</td>\n",
       "      <td>30631</td>\n",
       "      <td>7370</td>\n",
       "      <td>23261</td>\n",
       "    </tr>\n",
       "    <tr>\n",
       "      <th>0</th>\n",
       "      <td>0</td>\n",
       "      <td>23.895116</td>\n",
       "      <td>20251</td>\n",
       "      <td>4839</td>\n",
       "      <td>15412</td>\n",
       "    </tr>\n",
       "  </tbody>\n",
       "</table>\n",
       "</div>"
      ],
      "text/plain": [
       "  CurrentPolicyHolder       perc  target_total  target_yes  target_no\n",
       "1                   1  24.060592         30631        7370      23261\n",
       "0                   0  23.895116         20251        4839      15412"
      ]
     },
     "execution_count": 36,
     "metadata": {},
     "output_type": "execute_result"
    }
   ],
   "source": [
    "#Comparing the newly created column with response.\n",
    "calc_perc('CurrentPolicyHolder','Response')"
   ]
  },
  {
   "cell_type": "markdown",
   "metadata": {},
   "source": [
    "This column also does not add much information to the response variable."
   ]
  },
  {
   "cell_type": "markdown",
   "metadata": {},
   "source": [
    "'Reco_Policy_Premium','City_Code','Health Indicator' and 'Reco_Policy_Cat' are the features identified as having significant impact on Response variable."
   ]
  },
  {
   "cell_type": "markdown",
   "metadata": {},
   "source": [
    "# Feature Engineering"
   ]
  },
  {
   "cell_type": "code",
   "execution_count": 37,
   "metadata": {},
   "outputs": [],
   "source": [
    "#Lets add a new column average age which is the average of upper and lower age\n",
    "X_train['Age_mean'] = X_train.loc[: , [\"Upper_Age\",\"Lower_Age\"]].mean(axis=1)\n",
    "X_test['Age_mean'] = X_test.loc[: , [\"Upper_Age\",\"Lower_Age\"]].mean(axis=1)"
   ]
  },
  {
   "cell_type": "code",
   "execution_count": 38,
   "metadata": {},
   "outputs": [],
   "source": [
    "#Assigning new train and test based on identified columns.\n",
    "X_train1=X_train.loc[:,['City_Code','Accomodation_Type','Health Indicator','Reco_Policy_Cat','Reco_Insurance_Type','Upper_Age','Lower_Age','Region_Code','Reco_Policy_Premium','Holding_Policy_Duration','Holding_Policy_Type','Is_Spouse','Age_mean','CurrentPolicyHolder','Response']]\n",
    "X_test1=X_test.loc[:,['City_Code','Accomodation_Type','Health Indicator','Reco_Policy_Cat','Reco_Insurance_Type','Upper_Age','Lower_Age','Region_Code','Reco_Policy_Premium','Holding_Policy_Duration','Holding_Policy_Type','Is_Spouse','Age_mean','CurrentPolicyHolder']]"
   ]
  },
  {
   "cell_type": "code",
   "execution_count": 39,
   "metadata": {},
   "outputs": [],
   "source": [
    "X_train1['Health Indicator']=X_train1['Health Indicator'].fillna('Missing')\n",
    "X_test1['Health Indicator']=X_test1['Health Indicator'].fillna('Missing')"
   ]
  },
  {
   "cell_type": "code",
   "execution_count": 40,
   "metadata": {},
   "outputs": [],
   "source": [
    "X_train1['Response']=X_train1['Response'].astype('int32')"
   ]
  },
  {
   "cell_type": "code",
   "execution_count": 41,
   "metadata": {},
   "outputs": [],
   "source": [
    "def rare_new_imputation(X_train,X_test,variable,rare_cat):\n",
    "    X_train[variable+'_rare_imp'] = np.where(X_train[variable].isin(rare_cat), 'Others', X_train[variable])\n",
    "    X_test[variable+'_rare_imp'] = np.where(X_test[variable].isin(rare_cat), 'Others', X_test[variable])\n",
    "    Extra_values_in_test=[]\n",
    "    #Categories in test set that are not present in train set\n",
    "    for val_test in X_test[variable+'_rare_imp'].unique():\n",
    "        val_present=False\n",
    "        for val_train in X_train[variable+'_rare_imp'].unique():\n",
    "            if val_test==val_train:\n",
    "                val_present=True\n",
    "                break\n",
    "            if val_present==False:\n",
    "                Extra_values_in_test.append(val_test)\n",
    "    X_test[variable+'_rare_imp'] = np.where(X_test[variable+'_rare_imp'].isin(Extra_values_in_test), 'Others', X_test[variable+'_rare_imp'])"
   ]
  },
  {
   "cell_type": "code",
   "execution_count": 42,
   "metadata": {},
   "outputs": [],
   "source": [
    "temp = X_train1.groupby(['Region_Code'])['Region_Code'].count()/np.float(len(X_train1))\n",
    "rare_cat = [x for x in temp.loc[temp<0.00005].index.values]\n",
    "#Creates a new column 'Region_code_rare_imp' with imputed values\n",
    "rare_new_imputation(X_train1,X_test1,'Region_Code',rare_cat)"
   ]
  },
  {
   "cell_type": "code",
   "execution_count": 43,
   "metadata": {},
   "outputs": [],
   "source": [
    "Categorical_columns=X_train1.select_dtypes(include=['category',object]).columns\n",
    "#Dropping the old region code column as we are using the new imputed column from here.\n",
    "Categorical_columns=Categorical_columns.drop('Region_Code')"
   ]
  },
  {
   "cell_type": "code",
   "execution_count": 44,
   "metadata": {},
   "outputs": [],
   "source": [
    "def CategoricalImputation_RiskFactor(X_train,X_test,variable,target_variable):\n",
    "    ordered_labels = X_train.groupby([variable])[target_variable].mean().to_dict()\n",
    "    X_train[variable+'_ordered'] = X_train[variable].map(ordered_labels)\n",
    "    X_test[variable+'_ordered'] = X_test[variable].map(ordered_labels)"
   ]
  },
  {
   "cell_type": "code",
   "execution_count": 45,
   "metadata": {},
   "outputs": [],
   "source": [
    "#Converting all categorical columns to numeric\n",
    "for cols in Categorical_columns:\n",
    "     CategoricalImputation_RiskFactor(X_train1,X_test1,cols,'Response')"
   ]
  },
  {
   "cell_type": "code",
   "execution_count": 46,
   "metadata": {},
   "outputs": [],
   "source": [
    "#Taking only the encoded values for categorical columns\n",
    "X_train1=X_train1.loc[:,['Reco_Policy_Premium','Upper_Age','Lower_Age','Region_Code_rare_imp_ordered','City_Code_ordered','Accomodation_Type_ordered','Health Indicator_ordered','Reco_Policy_Cat_ordered','Reco_Insurance_Type_ordered','Holding_Policy_Type_ordered','Holding_Policy_Duration_ordered','Is_Spouse_ordered','CurrentPolicyHolder_ordered','Response']]\n",
    "X_test1=X_test1.loc[:,['Reco_Policy_Premium','Upper_Age','Lower_Age','Region_Code_rare_imp_ordered','City_Code_ordered','Accomodation_Type_ordered','Health Indicator_ordered','Reco_Policy_Cat_ordered','Reco_Insurance_Type_ordered','Holding_Policy_Type_ordered','Holding_Policy_Duration_ordered','Is_Spouse_ordered','CurrentPolicyHolder_ordered']]"
   ]
  },
  {
   "cell_type": "code",
   "execution_count": 47,
   "metadata": {},
   "outputs": [],
   "source": [
    "#Feature scaling on X_train and X_test\n",
    "def scaler_Robust(X_train,X_test):\n",
    "    # set up the scaler\n",
    "    scaler = RobustScaler()\n",
    "    # fit the scaler to the train set, it will learn the parameters\n",
    "    scaler.fit(X_train)\n",
    "    # transform train and test sets\n",
    "    X_train_scaled = scaler.transform(X_train)\n",
    "    X_test_scaled = scaler.transform(X_test)\n",
    "    # let's transform the returned NumPy arrays to dataframes \n",
    "    X_train_scaled = pd.DataFrame(X_train_scaled, columns=X_train.columns)\n",
    "    X_test_scaled = pd.DataFrame(X_test_scaled, columns=X_test.columns)\n",
    "    return X_train_scaled,X_test_scaled"
   ]
  },
  {
   "cell_type": "code",
   "execution_count": 48,
   "metadata": {},
   "outputs": [],
   "source": [
    "#this xtrain and xtest will be used for linear algorithms as scaling is necessary\n",
    "X_train_scaled,X_test_scaled=scaler_Robust(X_train1.iloc[:,0:13],X_test1)"
   ]
  },
  {
   "cell_type": "code",
   "execution_count": 49,
   "metadata": {},
   "outputs": [
    {
     "data": {
      "text/plain": [
       "((35617, 13), (15265, 13), (35617,), (15265,))"
      ]
     },
     "execution_count": 49,
     "metadata": {},
     "output_type": "execute_result"
    }
   ],
   "source": [
    "# let's separate into training and testing set\n",
    "\n",
    "X_train_sub, X_test_sub, y_train_sub, y_test_sub = train_test_split(X_train1.iloc[:,0:13], X_train1.Response, test_size=0.3,\n",
    "                                                    random_state=0)\n",
    "X_train_sub.shape, X_test_sub.shape,y_train_sub.shape,y_test_sub.shape"
   ]
  },
  {
   "cell_type": "code",
   "execution_count": 50,
   "metadata": {},
   "outputs": [
    {
     "data": {
      "text/plain": [
       "((35617, 13), (15265, 13), (35617,), (15265,))"
      ]
     },
     "execution_count": 50,
     "metadata": {},
     "output_type": "execute_result"
    }
   ],
   "source": [
    "# let's separate the scaled data into training and testing set\n",
    "\n",
    "X_train_sub_scaled, X_test_sub_scaled, y_train_sub_scaled, y_test_sub_scaled = train_test_split(X_train_scaled, X_train1.Response, test_size=0.3,\n",
    "                                                    random_state=0)\n",
    "X_train_sub_scaled.shape, X_test_sub_scaled.shape,y_train_sub_scaled.shape,y_test_sub_scaled.shape"
   ]
  },
  {
   "cell_type": "markdown",
   "metadata": {},
   "source": [
    "# Modelling"
   ]
  },
  {
   "cell_type": "code",
   "execution_count": 51,
   "metadata": {},
   "outputs": [
    {
     "data": {
      "text/plain": [
       "DecisionTreeClassifier(max_depth=5)"
      ]
     },
     "execution_count": 51,
     "metadata": {},
     "output_type": "execute_result"
    }
   ],
   "source": [
    "#DT classifier using all the parameters\n",
    "model_all_features = DecisionTreeClassifier(criterion=\"gini\", max_depth=5)\n",
    "model_all_features.fit(X_train_sub, y_train_sub)"
   ]
  },
  {
   "cell_type": "code",
   "execution_count": 52,
   "metadata": {},
   "outputs": [
    {
     "name": "stdout",
     "output_type": "stream",
     "text": [
      "Test all features xgb ROC AUC=0.536895\n"
     ]
    }
   ],
   "source": [
    "# calculate the roc-auc in the test set\n",
    "y_pred_test = model_all_features.predict(X_test_sub)\n",
    "auc_score_all = roc_auc_score(y_test_sub, y_pred_test)\n",
    "print('Test all features xgb ROC AUC=%f' % (auc_score_all))"
   ]
  },
  {
   "cell_type": "code",
   "execution_count": 53,
   "metadata": {},
   "outputs": [
    {
     "data": {
      "text/plain": [
       "<AxesSubplot:>"
      ]
     },
     "execution_count": 53,
     "metadata": {},
     "output_type": "execute_result"
    },
    {
     "data": {
      "image/png": "[encoded data removed]",
      "text/plain": [
       "<Figure size 1440x432 with 1 Axes>"
      ]
     },
     "metadata": {
      "needs_background": "light"
     },
     "output_type": "display_data"
    }
   ],
   "source": [
    "# get feature name and importance\n",
    "features = pd.Series(model_all_features.feature_importances_)\n",
    "features.index = X_train_sub.iloc[:,0:13].columns\n",
    "# sort the features by importance\n",
    "features.sort_values(ascending=True, inplace=True)\n",
    "# plot\n",
    "features.plot.bar(figsize=(20,6))"
   ]
  },
  {
   "cell_type": "code",
   "execution_count": 54,
   "metadata": {},
   "outputs": [],
   "source": [
    "#Using random forest classifier\n",
    "model_o = RandomForestClassifier()\n",
    "model_o.fit(X_train1.iloc[:,0:13],X_train1.Response)\n",
    "y_pred=model_o.predict(X_test1)\n",
    "submission['Response']=y_pred\n",
    "submission['Response'].value_counts()\n",
    "submission.to_csv(r'C:\\Users\\ADMIN\\Jobathon\\Solution\\my_submission_rf.csv', index=False)"
   ]
  },
  {
   "cell_type": "code",
   "execution_count": 55,
   "metadata": {},
   "outputs": [
    {
     "data": {
      "text/plain": [
       "<AxesSubplot:>"
      ]
     },
     "execution_count": 55,
     "metadata": {},
     "output_type": "execute_result"
    },
    {
     "data": {
      "image/png": "[encoded data removed]",
      "text/plain": [
       "<Figure size 1440x432 with 1 Axes>"
      ]
     },
     "metadata": {
      "needs_background": "light"
     },
     "output_type": "display_data"
    }
   ],
   "source": [
    "# get feature name and importance\n",
    "features = pd.Series(model_o.feature_importances_)\n",
    "features.index = X_train1.iloc[:,0:13].columns\n",
    "# sort the features by importance\n",
    "features.sort_values(ascending=True, inplace=True)\n",
    "# plot\n",
    "features.plot.bar(figsize=(20,6))"
   ]
  },
  {
   "cell_type": "markdown",
   "metadata": {},
   "source": [
    "Now,lets try using the thresholds for auc to check if the score improves"
   ]
  },
  {
   "cell_type": "markdown",
   "metadata": {},
   "source": [
    "Using threshold for logistic regression."
   ]
  },
  {
   "cell_type": "code",
   "execution_count": 56,
   "metadata": {},
   "outputs": [],
   "source": [
    "def plot_roc_curve(fpr,tpr):\n",
    "    plt.plot(fpr,tpr,color='orange',label='ROC')\n",
    "    plt.plot([0,1],[0,1],color='blue',linestyle='--')\n",
    "    plt.xlabel('False Positive Rate')\n",
    "    plt.ylabel('True Positive Rate')\n",
    "    plt.title('Receiver Operating Characteristics (ROC) curve')\n",
    "    plt.legend()\n",
    "    plt.show()"
   ]
  },
  {
   "cell_type": "code",
   "execution_count": 57,
   "metadata": {},
   "outputs": [],
   "source": [
    "classifier=LogisticRegression()\n",
    "classifier.fit(X_train_sub_scaled,y_train_sub_scaled)\n",
    "y_pred=classifier.predict_proba(X_test_sub_scaled)[:,1]"
   ]
  },
  {
   "cell_type": "code",
   "execution_count": 58,
   "metadata": {},
   "outputs": [
    {
     "data": {
      "image/png": "[encoded data removed]",
      "text/plain": [
       "<Figure size 432x288 with 1 Axes>"
      ]
     },
     "metadata": {
      "needs_background": "light"
     },
     "output_type": "display_data"
    }
   ],
   "source": [
    "fpr,tpr,thresholds=roc_curve(y_test_sub_scaled,y_pred)\n",
    "thresholds\n",
    "#plotting the roc_auc curve\n",
    "plot_roc_curve(fpr,tpr)"
   ]
  },
  {
   "cell_type": "code",
   "execution_count": 59,
   "metadata": {},
   "outputs": [
    {
     "data": {
      "text/html": [
       "<div>\n",
       "<style scoped>\n",
       "    .dataframe tbody tr th:only-of-type {\n",
       "        vertical-align: middle;\n",
       "    }\n",
       "\n",
       "    .dataframe tbody tr th {\n",
       "        vertical-align: top;\n",
       "    }\n",
       "\n",
       "    .dataframe thead th {\n",
       "        text-align: right;\n",
       "    }\n",
       "</style>\n",
       "<table border=\"1\" class=\"dataframe\">\n",
       "  <thead>\n",
       "    <tr style=\"text-align: right;\">\n",
       "      <th></th>\n",
       "      <th>threshold</th>\n",
       "      <th>roc</th>\n",
       "    </tr>\n",
       "  </thead>\n",
       "  <tbody>\n",
       "    <tr>\n",
       "      <th>2939</th>\n",
       "      <td>0.227993</td>\n",
       "      <td>0.660695</td>\n",
       "    </tr>\n",
       "    <tr>\n",
       "      <th>2940</th>\n",
       "      <td>0.227989</td>\n",
       "      <td>0.660651</td>\n",
       "    </tr>\n",
       "    <tr>\n",
       "      <th>2937</th>\n",
       "      <td>0.228002</td>\n",
       "      <td>0.660605</td>\n",
       "    </tr>\n",
       "    <tr>\n",
       "      <th>2938</th>\n",
       "      <td>0.227994</td>\n",
       "      <td>0.660562</td>\n",
       "    </tr>\n",
       "    <tr>\n",
       "      <th>2960</th>\n",
       "      <td>0.226993</td>\n",
       "      <td>0.660560</td>\n",
       "    </tr>\n",
       "  </tbody>\n",
       "</table>\n",
       "</div>"
      ],
      "text/plain": [
       "      threshold       roc\n",
       "2939   0.227993  0.660695\n",
       "2940   0.227989  0.660651\n",
       "2937   0.228002  0.660605\n",
       "2938   0.227994  0.660562\n",
       "2960   0.226993  0.660560"
      ]
     },
     "execution_count": 59,
     "metadata": {},
     "output_type": "execute_result"
    }
   ],
   "source": [
    "roc_list=[]\n",
    "for thres in thresholds:\n",
    "    y_pred1=np.where(y_pred>thres,1,0)\n",
    "    roc_list.append(roc_auc_score(y_test_sub_scaled,y_pred1))\n",
    "roc_list=pd.DataFrame(pd.concat([pd.Series(thresholds),pd.Series(roc_list)],axis=1))\n",
    "roc_list.columns=['threshold','roc']\n",
    "roc_list.sort_values(by='roc',ascending=False,inplace=True)\n",
    "roc_list.head()"
   ]
  },
  {
   "cell_type": "markdown",
   "metadata": {},
   "source": [
    "Fitting the model with threshold for maximum roc."
   ]
  },
  {
   "cell_type": "code",
   "execution_count": 60,
   "metadata": {},
   "outputs": [],
   "source": [
    "#Fitting the model to original test set\n",
    "classifier.fit(X_train_scaled.iloc[:,0:13],X_train1.Response)\n",
    "y_pred=classifier.predict_proba(X_test_scaled)[:,1]\n",
    "#Getting the output using the above threshold giving maximum roc\n",
    "y_pred1=np.where(y_pred>np.round(roc_list.iloc[0,0],6),1,0)\n",
    "submission['Response']=y_pred1\n",
    "submission['Response'].value_counts()\n",
    "submission.to_csv(r'C:\\Users\\ADMIN\\Jobathon\\Solution\\my_submission_Lr_usingthreshold_resample.csv', index=False)"
   ]
  },
  {
   "cell_type": "markdown",
   "metadata": {},
   "source": [
    "Using the threshold for gboost classifier"
   ]
  },
  {
   "cell_type": "code",
   "execution_count": 61,
   "metadata": {},
   "outputs": [],
   "source": [
    "model_gboost=GradientBoostingClassifier()\n",
    "model_gboost.fit(X_train_sub,y_train_sub)\n",
    "y_pred=model_gboost.predict_proba(X_test_sub)[:,1]"
   ]
  },
  {
   "cell_type": "code",
   "execution_count": 62,
   "metadata": {},
   "outputs": [
    {
     "data": {
      "image/png": "[encoded data removed]",
      "text/plain": [
       "<Figure size 432x288 with 1 Axes>"
      ]
     },
     "metadata": {
      "needs_background": "light"
     },
     "output_type": "display_data"
    }
   ],
   "source": [
    "fpr,tpr,thresholds=roc_curve(y_test_sub,y_pred)\n",
    "thresholds\n",
    "#plotting the roc_auc curve\n",
    "plot_roc_curve(fpr,tpr)"
   ]
  },
  {
   "cell_type": "code",
   "execution_count": 63,
   "metadata": {},
   "outputs": [
    {
     "data": {
      "text/html": [
       "<div>\n",
       "<style scoped>\n",
       "    .dataframe tbody tr th:only-of-type {\n",
       "        vertical-align: middle;\n",
       "    }\n",
       "\n",
       "    .dataframe tbody tr th {\n",
       "        vertical-align: top;\n",
       "    }\n",
       "\n",
       "    .dataframe thead th {\n",
       "        text-align: right;\n",
       "    }\n",
       "</style>\n",
       "<table border=\"1\" class=\"dataframe\">\n",
       "  <thead>\n",
       "    <tr style=\"text-align: right;\">\n",
       "      <th></th>\n",
       "      <th>threshold</th>\n",
       "      <th>roc</th>\n",
       "    </tr>\n",
       "  </thead>\n",
       "  <tbody>\n",
       "    <tr>\n",
       "      <th>3289</th>\n",
       "      <td>0.235690</td>\n",
       "      <td>0.664179</td>\n",
       "    </tr>\n",
       "    <tr>\n",
       "      <th>3291</th>\n",
       "      <td>0.235649</td>\n",
       "      <td>0.664138</td>\n",
       "    </tr>\n",
       "    <tr>\n",
       "      <th>3290</th>\n",
       "      <td>0.235683</td>\n",
       "      <td>0.664135</td>\n",
       "    </tr>\n",
       "    <tr>\n",
       "      <th>3287</th>\n",
       "      <td>0.235763</td>\n",
       "      <td>0.664132</td>\n",
       "    </tr>\n",
       "    <tr>\n",
       "      <th>3292</th>\n",
       "      <td>0.235562</td>\n",
       "      <td>0.664095</td>\n",
       "    </tr>\n",
       "  </tbody>\n",
       "</table>\n",
       "</div>"
      ],
      "text/plain": [
       "      threshold       roc\n",
       "3289   0.235690  0.664179\n",
       "3291   0.235649  0.664138\n",
       "3290   0.235683  0.664135\n",
       "3287   0.235763  0.664132\n",
       "3292   0.235562  0.664095"
      ]
     },
     "execution_count": 63,
     "metadata": {},
     "output_type": "execute_result"
    }
   ],
   "source": [
    "roc_list=[]\n",
    "for thres in thresholds:\n",
    "    y_pred1=np.where(y_pred>thres,1,0)\n",
    "    roc_list.append(roc_auc_score(y_test_sub,y_pred1))\n",
    "roc_list=pd.DataFrame(pd.concat([pd.Series(thresholds),pd.Series(roc_list)],axis=1))\n",
    "roc_list.columns=['threshold','roc']\n",
    "roc_list.sort_values(by='roc',ascending=False,inplace=True)\n",
    "roc_list.head()"
   ]
  },
  {
   "cell_type": "markdown",
   "metadata": {},
   "source": [
    "Fitting the model with threshold for maximum roc."
   ]
  },
  {
   "cell_type": "code",
   "execution_count": 64,
   "metadata": {},
   "outputs": [],
   "source": [
    "model_gboost.fit(X_train1.iloc[:,0:13],X_train1.Response)\n",
    "y_pred=model_gboost.predict_proba(X_test1)[:,1]\n",
    "y_pred1=np.where(y_pred>np.round(roc_list.iloc[0,0],6),1,0)\n",
    "submission['Response']=y_pred1\n",
    "submission.to_csv(r'C:\\Users\\ADMIN\\Jobathon\\Solution\\my_submission_gboost.csv', index=False)"
   ]
  },
  {
   "cell_type": "markdown",
   "metadata": {},
   "source": [
    "Using a voting classifier."
   ]
  },
  {
   "cell_type": "code",
   "execution_count": 65,
   "metadata": {},
   "outputs": [],
   "source": [
    "#parameters use dfor initial upload['City_Code_ordered','Reco_Policy_Premium','Region_Code_rare_imp_ordered','Health Indicator_ordered','Reco_Policy_Cat_ordered','Holding_Policy_Duration_ordered']\n",
    "estimator = [] \n",
    "estimator.append(('LR', LogisticRegression()))\n",
    "estimator.append(('KNN', KNeighborsClassifier()))\n",
    "estimator.append(('DT', DecisionTreeClassifier()))\n",
    "classifier=VotingClassifier(estimators=estimator,voting='soft')\n",
    "classifier.fit(X_train_sub_scaled,y_train_sub_scaled)\n",
    "y_pred=classifier.predict_proba(X_test_sub_scaled)[:,1]"
   ]
  },
  {
   "cell_type": "code",
   "execution_count": 66,
   "metadata": {},
   "outputs": [
    {
     "data": {
      "image/png": "[encoded data removed]",
      "text/plain": [
       "<Figure size 432x288 with 1 Axes>"
      ]
     },
     "metadata": {
      "needs_background": "light"
     },
     "output_type": "display_data"
    }
   ],
   "source": [
    "fpr,tpr,thresholds=roc_curve(y_test_sub_scaled,y_pred)\n",
    "thresholds\n",
    "#plotting the roc_auc curve\n",
    "plot_roc_curve(fpr,tpr)"
   ]
  },
  {
   "cell_type": "code",
   "execution_count": 67,
   "metadata": {},
   "outputs": [
    {
     "data": {
      "text/html": [
       "<div>\n",
       "<style scoped>\n",
       "    .dataframe tbody tr th:only-of-type {\n",
       "        vertical-align: middle;\n",
       "    }\n",
       "\n",
       "    .dataframe tbody tr th {\n",
       "        vertical-align: top;\n",
       "    }\n",
       "\n",
       "    .dataframe thead th {\n",
       "        text-align: right;\n",
       "    }\n",
       "</style>\n",
       "<table border=\"1\" class=\"dataframe\">\n",
       "  <thead>\n",
       "    <tr style=\"text-align: right;\">\n",
       "      <th></th>\n",
       "      <th>threshold</th>\n",
       "      <th>roc</th>\n",
       "    </tr>\n",
       "  </thead>\n",
       "  <tbody>\n",
       "    <tr>\n",
       "      <th>3724</th>\n",
       "      <td>0.142761</td>\n",
       "      <td>0.635854</td>\n",
       "    </tr>\n",
       "    <tr>\n",
       "      <th>3720</th>\n",
       "      <td>0.142901</td>\n",
       "      <td>0.635848</td>\n",
       "    </tr>\n",
       "    <tr>\n",
       "      <th>3732</th>\n",
       "      <td>0.142401</td>\n",
       "      <td>0.635825</td>\n",
       "    </tr>\n",
       "    <tr>\n",
       "      <th>3726</th>\n",
       "      <td>0.142670</td>\n",
       "      <td>0.635814</td>\n",
       "    </tr>\n",
       "    <tr>\n",
       "      <th>3725</th>\n",
       "      <td>0.142757</td>\n",
       "      <td>0.635811</td>\n",
       "    </tr>\n",
       "  </tbody>\n",
       "</table>\n",
       "</div>"
      ],
      "text/plain": [
       "      threshold       roc\n",
       "3724   0.142761  0.635854\n",
       "3720   0.142901  0.635848\n",
       "3732   0.142401  0.635825\n",
       "3726   0.142670  0.635814\n",
       "3725   0.142757  0.635811"
      ]
     },
     "execution_count": 67,
     "metadata": {},
     "output_type": "execute_result"
    }
   ],
   "source": [
    "roc_list=[]\n",
    "for thres in thresholds:\n",
    "    y_pred1=np.where(y_pred>thres,1,0)\n",
    "    roc_list.append(roc_auc_score(y_test_sub_scaled,y_pred1))\n",
    "roc_list=pd.DataFrame(pd.concat([pd.Series(thresholds),pd.Series(roc_list)],axis=1))\n",
    "roc_list.columns=['threshold','roc']\n",
    "roc_list.sort_values(by='roc',ascending=False,inplace=True)\n",
    "roc_list.head()"
   ]
  },
  {
   "cell_type": "markdown",
   "metadata": {},
   "source": [
    "Fitting the model with threshold for maximum roc."
   ]
  },
  {
   "cell_type": "code",
   "execution_count": 68,
   "metadata": {},
   "outputs": [],
   "source": [
    "#Fitting the model to original test set\n",
    "classifier.fit(X_train_scaled.iloc[:,0:13],X_train1.Response)\n",
    "y_pred=classifier.predict_proba(X_test_scaled)[:,1]\n",
    "#Getting the output using the above threshold giving maximum roc\n",
    "y_pred1=np.where(y_pred>np.round(roc_list.iloc[0,0],6),1,0)\n",
    "submission['Response']=y_pred1\n",
    "submission.to_csv(r'C:\\Users\\ADMIN\\Jobathon\\Solution\\my_submission_VC_3_allparams.csv', index=False)"
   ]
  }
 ],
 "metadata": {
  "kernelspec": {
   "display_name": "Python 3",
   "language": "python",
   "name": "python3"
  },
  "language_info": {
   "codemirror_mode": {
    "name": "ipython",
    "version": 3
   },
   "file_extension": ".py",
   "mimetype": "text/x-python",
   "name": "python",
   "nbconvert_exporter": "python",
   "pygments_lexer": "ipython3",
   "version": "3.8.5"
  }
 },
 "nbformat": 4,
 "nbformat_minor": 4
}
